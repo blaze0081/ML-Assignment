{
 "cells": [
  {
   "cell_type": "markdown",
   "id": "819f7204",
   "metadata": {},
   "source": [
    "# ML Assignment – 2"
   ]
  },
  {
   "cell_type": "code",
   "execution_count": null,
   "id": "eac290f4",
   "metadata": {},
   "outputs": [],
   "source": []
  },
  {
   "cell_type": "markdown",
   "id": "d9979c76",
   "metadata": {},
   "source": [
    "## Part B: Building a Basic Neural Network for Image Classification"
   ]
  },
  {
   "cell_type": "code",
   "execution_count": 1,
   "id": "c5e7c4e0",
   "metadata": {},
   "outputs": [],
   "source": [
    "import tensorflow as tf\n",
    "from tensorflow import keras\n",
    "import matplotlib.pyplot as plt\n",
    "%matplotlib inline\n",
    "import numpy as np\n"
   ]
  },
  {
   "cell_type": "code",
   "execution_count": 2,
   "id": "2a837fc5",
   "metadata": {},
   "outputs": [],
   "source": [
    "(X_train, y_train) , (X_test, y_test) = keras.datasets.mnist.load_data()\n"
   ]
  },
  {
   "cell_type": "code",
   "execution_count": 3,
   "id": "2b546676",
   "metadata": {},
   "outputs": [
    {
     "data": {
      "text/plain": [
       "(60000, 28, 28)"
      ]
     },
     "execution_count": 3,
     "metadata": {},
     "output_type": "execute_result"
    }
   ],
   "source": [
    "X_train.shape"
   ]
  },
  {
   "cell_type": "code",
   "execution_count": 4,
   "id": "b2adaf77",
   "metadata": {},
   "outputs": [
    {
     "data": {
      "text/plain": [
       "<matplotlib.image.AxesImage at 0x1c021a0c490>"
      ]
     },
     "execution_count": 4,
     "metadata": {},
     "output_type": "execute_result"
    },
    {
     "data": {
      "image/png": "[encoded data removed]",
      "text/plain": [
       "<Figure size 288x288 with 1 Axes>"
      ]
     },
     "metadata": {
      "needs_background": "light"
     },
     "output_type": "display_data"
    }
   ],
   "source": [
    "plt.matshow(X_train[50])\n"
   ]
  },
  {
   "cell_type": "code",
   "execution_count": 5,
   "id": "ef873dae",
   "metadata": {},
   "outputs": [],
   "source": [
    "X_train_flattened = X_train.reshape(len(X_train), 28*28)\n",
    "X_test_flattened = X_test.reshape(len(X_test), 28*28)"
   ]
  },
  {
   "cell_type": "code",
   "execution_count": 6,
   "id": "dc149ee0",
   "metadata": {},
   "outputs": [
    {
     "data": {
      "text/plain": [
       "(60000, 784)"
      ]
     },
     "execution_count": 6,
     "metadata": {},
     "output_type": "execute_result"
    }
   ],
   "source": [
    "X_train_flattened.shape"
   ]
  },
  {
   "cell_type": "code",
   "execution_count": 23,
   "id": "15f7e7c4",
   "metadata": {
    "scrolled": false
   },
   "outputs": [
    {
     "name": "stdout",
     "output_type": "stream",
     "text": [
      "Epoch 1/10\n",
      "1875/1875 [==============================] - 2s 1ms/step - loss: 1.0711 - accuracy: 0.8822\n",
      "Epoch 2/10\n",
      "1875/1875 [==============================] - 2s 1ms/step - loss: 0.2274 - accuracy: 0.9383\n",
      "Epoch 3/10\n",
      "1875/1875 [==============================] - 2s 1ms/step - loss: 0.1722 - accuracy: 0.9517\n",
      "Epoch 4/10\n",
      "1875/1875 [==============================] - 3s 1ms/step - loss: 0.1480 - accuracy: 0.9584\n",
      "Epoch 5/10\n",
      "1875/1875 [==============================] - 2s 1ms/step - loss: 0.1231 - accuracy: 0.9645\n",
      "Epoch 6/10\n",
      "1875/1875 [==============================] - 2s 1ms/step - loss: 0.1089 - accuracy: 0.9697\n",
      "Epoch 7/10\n",
      "1875/1875 [==============================] - 2s 1ms/step - loss: 0.0925 - accuracy: 0.9742\n",
      "Epoch 8/10\n",
      "1875/1875 [==============================] - 2s 1ms/step - loss: 0.0899 - accuracy: 0.9758\n",
      "Epoch 9/10\n",
      "1875/1875 [==============================] - 2s 1ms/step - loss: 0.0838 - accuracy: 0.9779\n",
      "Epoch 10/10\n",
      "1875/1875 [==============================] - 3s 1ms/step - loss: 0.0694 - accuracy: 0.9814\n"
     ]
    },
    {
     "data": {
      "text/plain": [
       "<keras.callbacks.History at 0x1c02de68490>"
      ]
     },
     "execution_count": 23,
     "metadata": {},
     "output_type": "execute_result"
    }
   ],
   "source": [
    "model = keras.Sequential([\n",
    "    keras.layers.Dense(150, input_shape=(784,), activation='relu'),\n",
    "    keras.layers.Dense(150, input_shape=(784,), activation='relu'),\n",
    "    keras.layers.Dense(150, input_shape=(784,), activation='relu'),\n",
    "    keras.layers.Dense(10, activation='sigmoid')\n",
    "])\n",
    "\n",
    "model.compile(optimizer='adam',\n",
    "              loss='sparse_categorical_crossentropy',\n",
    "              metrics=['accuracy'])\n",
    "\n",
    "model.fit(X_train_flattened, y_train, epochs=10)"
   ]
  },
  {
   "cell_type": "markdown",
   "id": "019d27dc",
   "metadata": {},
   "source": [
    "### Confusion Matrix"
   ]
  },
  {
   "cell_type": "code",
   "execution_count": 24,
   "id": "12a3444b",
   "metadata": {
    "scrolled": true
   },
   "outputs": [
    {
     "name": "stdout",
     "output_type": "stream",
     "text": [
      "313/313 [==============================] - 0s 712us/step\n"
     ]
    }
   ],
   "source": [
    "y_predicted = model.predict(X_test_flattened)\n",
    "y_predicted_labels = [np.argmax(i) for i in y_predicted]\n",
    "cm = tf.math.confusion_matrix(labels=y_test,predictions=y_predicted_labels)"
   ]
  },
  {
   "cell_type": "markdown",
   "id": "733f7d21",
   "metadata": {},
   "source": [
    "### Accuracy"
   ]
  },
  {
   "cell_type": "code",
   "execution_count": 25,
   "id": "f80c6342",
   "metadata": {},
   "outputs": [],
   "source": [
    "def acc(confusion):\n",
    "    sum=0\n",
    "    for i in range(10):\n",
    "        sum=sum+cm[i,i]\n",
    "    accuracy = sum/10000\n",
    "    return accuracy"
   ]
  },
  {
   "cell_type": "code",
   "execution_count": 26,
   "id": "7999af85",
   "metadata": {
    "scrolled": true
   },
   "outputs": [
    {
     "name": "stdout",
     "output_type": "stream",
     "text": [
      "tf.Tensor(0.9667, shape=(), dtype=float64)\n"
     ]
    }
   ],
   "source": [
    "print(acc(cm))"
   ]
  },
  {
   "cell_type": "markdown",
   "id": "7fcf3ea8",
   "metadata": {},
   "source": [
    "### Visualising Confusion Matrix"
   ]
  },
  {
   "cell_type": "code",
   "execution_count": 27,
   "id": "a99e5459",
   "metadata": {},
   "outputs": [
    {
     "data": {
      "text/plain": [
       "Text(69.0, 0.5, 'Truth')"
      ]
     },
     "execution_count": 27,
     "metadata": {},
     "output_type": "execute_result"
    },
    {
     "data": {
      "image/png": "[encoded data removed]",
      "text/plain": [
       "<Figure size 720x504 with 2 Axes>"
      ]
     },
     "metadata": {
      "needs_background": "light"
     },
     "output_type": "display_data"
    }
   ],
   "source": [
    "import seaborn as sn\n",
    "\n",
    "plt.figure(figsize = (10,7))\n",
    "sn.heatmap(cm, annot=True, fmt='d')\n",
    "plt.xlabel('Predicted')\n",
    "plt.ylabel('Truth')"
   ]
  },
  {
   "cell_type": "markdown",
   "id": "2f9d066a",
   "metadata": {},
   "source": [
    "# Comparative Study of 15 models "
   ]
  },
  {
   "cell_type": "markdown",
   "id": "26c4d7dd",
   "metadata": {},
   "source": [
    "| Model No. | Hidden Layer(No.) | Neuron in 1st layer | Neuron in 2nd layer | Neuron in 3rd layer | Activation func. in 1st layer |  Activation func. in 2nd layer | Activation func. in 3rd layer |\n",
    "| -:| -: | :-: | :-: | :-: | :-: | :-: | :-: |\n",
    "| 1 | 2 | 100 | 100 | - | tanh | tanh | - |\n",
    "| 2 | 2 | 100 | 150 | - | tanh | sigmoid | - |\n",
    "| 3 | 2 | 150 | 150 | - | tanh | ReLu | - | :-: |\n",
    "| 4 | 2 | 100 | 100 | - | sigmoid | sigmoid | - |\n",
    "| 5 | 2 | 150 | 100 | - | sigmoid | ReLu | - |\n",
    "| 6 | 2 | 150 | 150 | - | ReLu | ReLu | - |\n",
    "| 7 | 3 | 100 | 100 | 100 | tanh | tanh | tanh |\n",
    "| 8 | 3 | 100 | 100 | 100 | ReLu | tanh | tanh |\n",
    "| 9 | 3 | 150 | 100 | 100 | ReLu | ReLu | tanh |\n",
    "| 10 | 3 | 150 | 100 | 100 | sigmoid | tanh | tanh |\n",
    "| 11 | 3 | 150 | 150 | 100 | sigmoid | sigmoid | tanh |\n",
    "| 12 | 3 | 150 | 150 | 100 | sigmoid | sigmoid | sigmoid |\n",
    "| 13 | 3 | 150 | 150 | 150 | ReLu | sigmoid | sigmoid |\n",
    "| 14 | 3 | 150 | 150 | 150 | ReLu | ReLu | sigmoid |\n",
    "| 15 | 3 | 150 | 150 | 150 | ReLu | ReLu | ReLu |\n"
   ]
  },
  {
   "cell_type": "markdown",
   "id": "16bc81da",
   "metadata": {},
   "source": [
    "| Model No. | Iteration 1 | Iteration 2 | Iteration 3 | Iteration 4 | Iteration 5 | Iteration 6 | Iteration 7 | Iteration 8 | Iteration 9 | Iteration 10 | Final Accuracy\n",
    "| :-:| -: | :-: | :-: | :-: | :-: | :-: | :-: | :-: | :-: | :-: | :-: |\n",
    "| 1 | 91.35 | 92.33 | :-: | :-: | :-: | :-: | :-: | :-: | :-: | :-: | :-: |\n",
    "| 2 | 92.35 | 92.24 | :-: | :-: | :-: | :-: | :-: | :-: | :-: | :-: | :-: |\n",
    "| 3 | 92.83 | 92.34 | :-: | :-: | :-: | :-: | :-: | :-: | :-: | :-: | :-: |\n",
    "| 4 | 93.34 | 93.26 | :-: | :-: | :-: | :-: | :-: | :-: | :-: | :-: | :-: |\n",
    "| 5 | 93.90 | 93.67 | :-: | :-: | :-: | :-: | :-: | :-: | :-: | :-: | :-: |\n",
    "| 6 | 91.11 | 92.53 | :-: | :-: | :-: | :-: | :-: | :-: | :-: | :-: | :-: |\n",
    "| 7 | 91.53 | 91.39 | :-: | :-: | :-: | :-: | :-: | :-: | :-: | :-: | :-: |\n",
    "| 8 | 91.58 | 85.55 | :-: | :-: | :-: | :-: | :-: | :-: | :-: | :-: | :-: |\n",
    "| 9 | 83.55 | 90.34 | :-: | :-: | :-: | :-: | :-: | :-: | :-: | :-: | :-: |\n",
    "| 10| 93.59 | 93.24 | :-: | :-: | :-: | :-: | :-: | :-: | :-: | :-: | :-: |\n",
    "| 11| 93.87 | 93.53 | :-: | :-: | :-: | :-: | :-: | :-: | :-: | :-: | :-: |\n",
    "| 12| 93.27 | 94.16 | :-: | :-: | :-: | :-: | :-: | :-: | :-: | :-: | :-: |\n",
    "| 13| 94.00 | 93.00 | :-: | :-: | :-: | :-: | :-: | :-: | :-: | :-: | :-: |\n",
    "| 14| 94.39 | 94.15 | :-: | :-: | :-: | :-: | :-: | :-: | :-: | :-: | :-: |\n",
    "| 15| 91.58 | 90.53 | :-: | :-: | :-: | :-: | :-: | :-: | :-: | :-: | :-: |\n"
   ]
  },
  {
   "cell_type": "code",
   "execution_count": null,
   "id": "2ade0e0f",
   "metadata": {},
   "outputs": [],
   "source": []
  }
 ],
 "metadata": {
  "kernelspec": {
   "display_name": "Python 3 (ipykernel)",
   "language": "python",
   "name": "python3"
  },
  "language_info": {
   "codemirror_mode": {
    "name": "ipython",
    "version": 3
   },
   "file_extension": ".py",
   "mimetype": "text/x-python",
   "name": "python",
   "nbconvert_exporter": "python",
   "pygments_lexer": "ipython3",
   "version": "3.9.12"
  }
 },
 "nbformat": 4,
 "nbformat_minor": 5
}
