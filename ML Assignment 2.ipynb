{
 "cells": [
  {
   "cell_type": "markdown",
   "id": "819f7204",
   "metadata": {},
   "source": [
    "# ML Assignment – 2"
   ]
  },
  {
   "cell_type": "markdown",
   "id": "6e303e00",
   "metadata": {},
   "source": [
    "# Part A - Naive Bayes Classifier to predict income"
   ]
  },
  {
   "cell_type": "code",
   "execution_count": 1,
   "id": "eac290f4",
   "metadata": {},
   "outputs": [],
   "source": [
    "import numpy as np\n",
    "import pandas as pd\n",
    "import matplotlib.pyplot as plt\n",
    "import random\n",
    "import seaborn as sns\n",
    "import warnings\n",
    "warnings.filterwarnings('ignore')"
   ]
  },
  {
   "cell_type": "code",
   "execution_count": 2,
   "id": "b89aecf3",
   "metadata": {},
   "outputs": [],
   "source": [
    "data = pd.read_csv('adult.csv')"
   ]
  },
  {
   "cell_type": "code",
   "execution_count": 3,
   "id": "0584fd37",
   "metadata": {},
   "outputs": [],
   "source": [
    "data['income'] = data['income'].replace('<=50K', 0)\n",
    "data['income'] = data['income'].replace('>50K', 1)"
   ]
  },
  {
   "cell_type": "code",
   "execution_count": 4,
   "id": "fa76185b",
   "metadata": {},
   "outputs": [
    {
     "name": "stdout",
     "output_type": "stream",
     "text": [
      "Unnamed: 0            0\n",
      "age                   0\n",
      "workclass          2799\n",
      "fnlwgt                0\n",
      "education             0\n",
      "educational-num       0\n",
      "marital-status        0\n",
      "occupation         2809\n",
      "relationship          0\n",
      "race                  0\n",
      "gender                0\n",
      "capital-gain          0\n",
      "capital-loss          0\n",
      "hours-per-week        0\n",
      "native-country      857\n",
      "income                0\n",
      "dtype: int64\n",
      "total                      6465\n"
     ]
    }
   ],
   "source": [
    "print(data.isnull().sum())\n",
    "print(\"total                     \", data.isnull().sum().sum())"
   ]
  },
  {
   "cell_type": "code",
   "execution_count": 5,
   "id": "d33e12e1",
   "metadata": {},
   "outputs": [],
   "source": [
    "workclass_encoding = {'Private': 0, 'Self-emp-not-inc': 1, 'Self-emp-inc': 2, 'Federal-gov': 3, 'Local-gov': 4, 'State-gov': 5, 'Without-pay': 6, 'Never-worked': 7}\n",
    "education_encoding = {'Bachelors': 0, 'Some-college': 1, '11th': 2, 'HS-grad': 3, 'Prof-school': 4, 'Assoc-acdm': 5, 'Assoc-voc': 6, '9th': 7, '7th-8th': 8,'12th': 9, 'Masters': 10, '1st-4th': 11,'10th': 12, 'Doctorate': 13, '5th-6th': 14,'Preschool': 15}\n",
    "marital_status_encoding = {'Married-civ-spouse': 0, 'Divorced': 1, 'Never-married': 2, 'Separated': 3, 'Widowed': 4, 'Married-spouse-absent': 5, 'Married-AF-spouse': 6}\n",
    "occupation_encoding = {'Tech-support': 0, 'Craft-repair': 1, 'Other-service': 2, 'Sales': 3, 'Exec-managerial': 4, 'Prof-specialty': 5, 'Handlers-cleaners': 6, 'Machine-op-inspct': 7, 'Adm-clerical': 8,'Farming-fishing': 9, 'Transport-moving': 10, 'Priv-house-serv': 11,'Protective-serv': 12, 'Armed-Forces': 13}\n",
    "relationship_encoding = {'Wife': 0, 'Own-child': 1, 'Husband': 2, 'Not-in-family': 3, 'Other-relative': 4, 'Unmarried': 5}\n",
    "race_encoding = {'White': 0, 'Asian-Pac-Islander': 1, 'Amer-Indian-Eskimo': 2, 'Other': 3, 'Black': 4}\n",
    "native_country_encoding = {'United-States': 0, 'Cambodia': 1, 'England': 2, 'Puerto-Rico': 3, 'Canada': 4, 'Germany': 5, 'Outlying-US(Guam-USVI-etc)': 6, 'India': 7, 'Japan': 8,'Greece': 9, 'South': 10, 'China': 11,'Cuba': 12, 'Iran': 13, 'Honduras': 14,'Philippines':15,'Italy': 16,'Poland':17,'Jamaica':18,'Vietnam':19,'Mexico':20,'Portugal':21,'Ireland':22,'France':23,'Dominican-Republic':24,'Laos':25,'Ecuador':26,'Taiwan':27,'Haiti':28,'Columbia':29,'Hungary':30,'Guatemala':31,'Nicaragua':32,'Scotland':33,'Thailand':34,'Yugoslavia':35,'El-Salvador':36,'Trinadad&Tobago':37,'Peru':38,'Hong':39,'Holand-Netherlands':40}\n",
    "sex_encoding = {'Female': 0, 'Male': 1}\n",
    "\n",
    "\n",
    "\n",
    "\n",
    "data['workclass'] = data['workclass'].map(workclass_encoding)\n",
    "data['education'] = data['education'].map(education_encoding)\n",
    "data['marital-status'] = data['marital-status'].map(marital_status_encoding)\n",
    "data['occupation'] = data['occupation'].map(occupation_encoding)\n",
    "data['relationship'] = data['relationship'].map(relationship_encoding)\n",
    "data['race'] = data['race'].map(race_encoding)\n",
    "data['native-country'] = data['native-country'].map(native_country_encoding)\n",
    "data['gender'] = data['gender'].map(sex_encoding)"
   ]
  },
  {
   "cell_type": "code",
   "execution_count": 6,
   "id": "395c2cc2",
   "metadata": {},
   "outputs": [
    {
     "name": "stdout",
     "output_type": "stream",
     "text": [
      "Unnamed: 0            0\n",
      "age                   0\n",
      "workclass          2799\n",
      "fnlwgt                0\n",
      "education             0\n",
      "educational-num       0\n",
      "marital-status        0\n",
      "occupation         2809\n",
      "relationship          0\n",
      "race                  0\n",
      "gender                0\n",
      "capital-gain          0\n",
      "capital-loss          0\n",
      "hours-per-week        0\n",
      "native-country      857\n",
      "income                0\n",
      "dtype: int64\n",
      "total                      6465\n"
     ]
    }
   ],
   "source": [
    "print(data.isnull().sum())\n",
    "print(\"total                     \", data.isnull().sum().sum())"
   ]
  },
  {
   "cell_type": "code",
   "execution_count": 7,
   "id": "2358e013",
   "metadata": {},
   "outputs": [],
   "source": [
    "dataset_new=data\n",
    "dataset_new['workclass'] = dataset_new['workclass'].replace(np.NaN, int(dataset_new['workclass'].mean()))\n",
    "dataset_new['occupation'] = dataset_new['occupation'].replace(np.NaN, int(dataset_new['occupation'].mean()))\n",
    "dataset_new['native-country'] = dataset_new['native-country'].replace(np.NaN, int(dataset_new['native-country'].mean()))"
   ]
  },
  {
   "cell_type": "code",
   "execution_count": 8,
   "id": "0d7e240a",
   "metadata": {},
   "outputs": [
    {
     "name": "stdout",
     "output_type": "stream",
     "text": [
      "Unnamed: 0         0\n",
      "age                0\n",
      "workclass          0\n",
      "fnlwgt             0\n",
      "education          0\n",
      "educational-num    0\n",
      "marital-status     0\n",
      "occupation         0\n",
      "relationship       0\n",
      "race               0\n",
      "gender             0\n",
      "capital-gain       0\n",
      "capital-loss       0\n",
      "hours-per-week     0\n",
      "native-country     0\n",
      "income             0\n",
      "dtype: int64\n",
      "total                      0\n"
     ]
    }
   ],
   "source": [
    "print(data.isnull().sum())\n",
    "print(\"total                     \", data.isnull().sum().sum())"
   ]
  },
  {
   "cell_type": "code",
   "execution_count": 9,
   "id": "64f3ba67",
   "metadata": {},
   "outputs": [
    {
     "data": {
      "text/html": [
       "<div>\n",
       "<style scoped>\n",
       "    .dataframe tbody tr th:only-of-type {\n",
       "        vertical-align: middle;\n",
       "    }\n",
       "\n",
       "    .dataframe tbody tr th {\n",
       "        vertical-align: top;\n",
       "    }\n",
       "\n",
       "    .dataframe thead th {\n",
       "        text-align: right;\n",
       "    }\n",
       "</style>\n",
       "<table border=\"1\" class=\"dataframe\">\n",
       "  <thead>\n",
       "    <tr style=\"text-align: right;\">\n",
       "      <th></th>\n",
       "      <th>Unnamed: 0</th>\n",
       "      <th>age</th>\n",
       "      <th>workclass</th>\n",
       "      <th>fnlwgt</th>\n",
       "      <th>education</th>\n",
       "      <th>educational-num</th>\n",
       "      <th>marital-status</th>\n",
       "      <th>occupation</th>\n",
       "      <th>relationship</th>\n",
       "      <th>race</th>\n",
       "      <th>gender</th>\n",
       "      <th>capital-gain</th>\n",
       "      <th>capital-loss</th>\n",
       "      <th>hours-per-week</th>\n",
       "      <th>native-country</th>\n",
       "      <th>income</th>\n",
       "    </tr>\n",
       "  </thead>\n",
       "  <tbody>\n",
       "    <tr>\n",
       "      <th>0</th>\n",
       "      <td>0</td>\n",
       "      <td>25</td>\n",
       "      <td>0.0</td>\n",
       "      <td>226802</td>\n",
       "      <td>2</td>\n",
       "      <td>7</td>\n",
       "      <td>2</td>\n",
       "      <td>7.0</td>\n",
       "      <td>1</td>\n",
       "      <td>4</td>\n",
       "      <td>1</td>\n",
       "      <td>0</td>\n",
       "      <td>0</td>\n",
       "      <td>40</td>\n",
       "      <td>0.0</td>\n",
       "      <td>0</td>\n",
       "    </tr>\n",
       "    <tr>\n",
       "      <th>1</th>\n",
       "      <td>1</td>\n",
       "      <td>38</td>\n",
       "      <td>0.0</td>\n",
       "      <td>89814</td>\n",
       "      <td>3</td>\n",
       "      <td>9</td>\n",
       "      <td>0</td>\n",
       "      <td>9.0</td>\n",
       "      <td>2</td>\n",
       "      <td>0</td>\n",
       "      <td>1</td>\n",
       "      <td>0</td>\n",
       "      <td>0</td>\n",
       "      <td>50</td>\n",
       "      <td>0.0</td>\n",
       "      <td>0</td>\n",
       "    </tr>\n",
       "    <tr>\n",
       "      <th>2</th>\n",
       "      <td>2</td>\n",
       "      <td>28</td>\n",
       "      <td>4.0</td>\n",
       "      <td>336951</td>\n",
       "      <td>5</td>\n",
       "      <td>12</td>\n",
       "      <td>0</td>\n",
       "      <td>12.0</td>\n",
       "      <td>2</td>\n",
       "      <td>0</td>\n",
       "      <td>1</td>\n",
       "      <td>0</td>\n",
       "      <td>0</td>\n",
       "      <td>40</td>\n",
       "      <td>0.0</td>\n",
       "      <td>1</td>\n",
       "    </tr>\n",
       "    <tr>\n",
       "      <th>3</th>\n",
       "      <td>3</td>\n",
       "      <td>44</td>\n",
       "      <td>0.0</td>\n",
       "      <td>160323</td>\n",
       "      <td>1</td>\n",
       "      <td>10</td>\n",
       "      <td>0</td>\n",
       "      <td>7.0</td>\n",
       "      <td>2</td>\n",
       "      <td>4</td>\n",
       "      <td>1</td>\n",
       "      <td>7688</td>\n",
       "      <td>0</td>\n",
       "      <td>40</td>\n",
       "      <td>0.0</td>\n",
       "      <td>1</td>\n",
       "    </tr>\n",
       "    <tr>\n",
       "      <th>4</th>\n",
       "      <td>4</td>\n",
       "      <td>18</td>\n",
       "      <td>0.0</td>\n",
       "      <td>103497</td>\n",
       "      <td>1</td>\n",
       "      <td>10</td>\n",
       "      <td>2</td>\n",
       "      <td>4.0</td>\n",
       "      <td>1</td>\n",
       "      <td>0</td>\n",
       "      <td>0</td>\n",
       "      <td>0</td>\n",
       "      <td>0</td>\n",
       "      <td>30</td>\n",
       "      <td>0.0</td>\n",
       "      <td>0</td>\n",
       "    </tr>\n",
       "    <tr>\n",
       "      <th>5</th>\n",
       "      <td>5</td>\n",
       "      <td>34</td>\n",
       "      <td>0.0</td>\n",
       "      <td>198693</td>\n",
       "      <td>12</td>\n",
       "      <td>6</td>\n",
       "      <td>2</td>\n",
       "      <td>2.0</td>\n",
       "      <td>3</td>\n",
       "      <td>0</td>\n",
       "      <td>1</td>\n",
       "      <td>0</td>\n",
       "      <td>0</td>\n",
       "      <td>30</td>\n",
       "      <td>0.0</td>\n",
       "      <td>0</td>\n",
       "    </tr>\n",
       "    <tr>\n",
       "      <th>6</th>\n",
       "      <td>6</td>\n",
       "      <td>29</td>\n",
       "      <td>0.0</td>\n",
       "      <td>227026</td>\n",
       "      <td>3</td>\n",
       "      <td>9</td>\n",
       "      <td>2</td>\n",
       "      <td>4.0</td>\n",
       "      <td>5</td>\n",
       "      <td>4</td>\n",
       "      <td>1</td>\n",
       "      <td>0</td>\n",
       "      <td>0</td>\n",
       "      <td>40</td>\n",
       "      <td>0.0</td>\n",
       "      <td>0</td>\n",
       "    </tr>\n",
       "    <tr>\n",
       "      <th>7</th>\n",
       "      <td>7</td>\n",
       "      <td>63</td>\n",
       "      <td>1.0</td>\n",
       "      <td>104626</td>\n",
       "      <td>4</td>\n",
       "      <td>15</td>\n",
       "      <td>0</td>\n",
       "      <td>5.0</td>\n",
       "      <td>2</td>\n",
       "      <td>0</td>\n",
       "      <td>1</td>\n",
       "      <td>3103</td>\n",
       "      <td>0</td>\n",
       "      <td>32</td>\n",
       "      <td>0.0</td>\n",
       "      <td>1</td>\n",
       "    </tr>\n",
       "    <tr>\n",
       "      <th>8</th>\n",
       "      <td>8</td>\n",
       "      <td>24</td>\n",
       "      <td>0.0</td>\n",
       "      <td>369667</td>\n",
       "      <td>1</td>\n",
       "      <td>10</td>\n",
       "      <td>2</td>\n",
       "      <td>2.0</td>\n",
       "      <td>5</td>\n",
       "      <td>0</td>\n",
       "      <td>0</td>\n",
       "      <td>0</td>\n",
       "      <td>0</td>\n",
       "      <td>40</td>\n",
       "      <td>0.0</td>\n",
       "      <td>0</td>\n",
       "    </tr>\n",
       "    <tr>\n",
       "      <th>9</th>\n",
       "      <td>9</td>\n",
       "      <td>55</td>\n",
       "      <td>0.0</td>\n",
       "      <td>104996</td>\n",
       "      <td>8</td>\n",
       "      <td>4</td>\n",
       "      <td>0</td>\n",
       "      <td>1.0</td>\n",
       "      <td>2</td>\n",
       "      <td>0</td>\n",
       "      <td>1</td>\n",
       "      <td>0</td>\n",
       "      <td>0</td>\n",
       "      <td>10</td>\n",
       "      <td>0.0</td>\n",
       "      <td>0</td>\n",
       "    </tr>\n",
       "  </tbody>\n",
       "</table>\n",
       "</div>"
      ],
      "text/plain": [
       "   Unnamed: 0  age  workclass  fnlwgt  education  educational-num  \\\n",
       "0           0   25        0.0  226802          2                7   \n",
       "1           1   38        0.0   89814          3                9   \n",
       "2           2   28        4.0  336951          5               12   \n",
       "3           3   44        0.0  160323          1               10   \n",
       "4           4   18        0.0  103497          1               10   \n",
       "5           5   34        0.0  198693         12                6   \n",
       "6           6   29        0.0  227026          3                9   \n",
       "7           7   63        1.0  104626          4               15   \n",
       "8           8   24        0.0  369667          1               10   \n",
       "9           9   55        0.0  104996          8                4   \n",
       "\n",
       "   marital-status  occupation  relationship  race  gender  capital-gain  \\\n",
       "0               2         7.0             1     4       1             0   \n",
       "1               0         9.0             2     0       1             0   \n",
       "2               0        12.0             2     0       1             0   \n",
       "3               0         7.0             2     4       1          7688   \n",
       "4               2         4.0             1     0       0             0   \n",
       "5               2         2.0             3     0       1             0   \n",
       "6               2         4.0             5     4       1             0   \n",
       "7               0         5.0             2     0       1          3103   \n",
       "8               2         2.0             5     0       0             0   \n",
       "9               0         1.0             2     0       1             0   \n",
       "\n",
       "   capital-loss  hours-per-week  native-country  income  \n",
       "0             0              40             0.0       0  \n",
       "1             0              50             0.0       0  \n",
       "2             0              40             0.0       1  \n",
       "3             0              40             0.0       1  \n",
       "4             0              30             0.0       0  \n",
       "5             0              30             0.0       0  \n",
       "6             0              40             0.0       0  \n",
       "7             0              32             0.0       1  \n",
       "8             0              40             0.0       0  \n",
       "9             0              10             0.0       0  "
      ]
     },
     "execution_count": 9,
     "metadata": {},
     "output_type": "execute_result"
    }
   ],
   "source": [
    "dataset_new.iloc[:10,:]"
   ]
  },
  {
   "cell_type": "code",
   "execution_count": 10,
   "id": "07fde8de",
   "metadata": {},
   "outputs": [],
   "source": [
    "def integerconverter(a):\n",
    "    \n",
    "            row_number= len(a)\n",
    "\n",
    "            for i in range(row_number):\n",
    "                a[i]=float(a[i])\n",
    "            return a"
   ]
  },
  {
   "cell_type": "code",
   "execution_count": 11,
   "id": "b056ead8",
   "metadata": {},
   "outputs": [],
   "source": [
    "def integerconverter1(a):\n",
    "    \n",
    "    row_number= len(a)\n",
    "    column_number = len(a[0])\n",
    "\n",
    "    for i in range(row_number):\n",
    "        for j in range(column_number):\n",
    "            a[i][j]=float(a[i][j])\n",
    "    return a"
   ]
  },
  {
   "cell_type": "code",
   "execution_count": 12,
   "id": "d7a62244",
   "metadata": {},
   "outputs": [
    {
     "name": "stdout",
     "output_type": "stream",
     "text": [
      "       Unnamed: 0  age  workclass  fnlwgt  education  educational-num  \\\n",
      "0               0   25        0.0  226802          2                7   \n",
      "1               1   38        0.0   89814          3                9   \n",
      "2               2   28        4.0  336951          5               12   \n",
      "3               3   44        0.0  160323          1               10   \n",
      "4               4   18        0.0  103497          1               10   \n",
      "...           ...  ...        ...     ...        ...              ...   \n",
      "48837       48837   27        0.0  257302          5               12   \n",
      "48838       48838   40        0.0  154374          3                9   \n",
      "48839       48839   58        0.0  151910          3                9   \n",
      "48840       48840   22        0.0  201490          3                9   \n",
      "48841       48841   52        2.0  287927          3                9   \n",
      "\n",
      "       marital-status  occupation  relationship  race  gender  capital-gain  \\\n",
      "0                   2         7.0             1     4       1             0   \n",
      "1                   0         9.0             2     0       1             0   \n",
      "2                   0        12.0             2     0       1             0   \n",
      "3                   0         7.0             2     4       1          7688   \n",
      "4                   2         4.0             1     0       0             0   \n",
      "...               ...         ...           ...   ...     ...           ...   \n",
      "48837               0         0.0             0     0       0             0   \n",
      "48838               0         7.0             2     0       1             0   \n",
      "48839               4         8.0             5     0       0             0   \n",
      "48840               2         8.0             1     0       1             0   \n",
      "48841               0         4.0             0     0       0         15024   \n",
      "\n",
      "       capital-loss  hours-per-week  native-country  \n",
      "0                 0              40             0.0  \n",
      "1                 0              50             0.0  \n",
      "2                 0              40             0.0  \n",
      "3                 0              40             0.0  \n",
      "4                 0              30             0.0  \n",
      "...             ...             ...             ...  \n",
      "48837             0              38             0.0  \n",
      "48838             0              40             0.0  \n",
      "48839             0              40             0.0  \n",
      "48840             0              20             0.0  \n",
      "48841             0              40             0.0  \n",
      "\n",
      "[48842 rows x 15 columns]\n"
     ]
    }
   ],
   "source": [
    "col = \"income\"\n",
    "dataset = data.loc[:, data.columns != col]\n",
    "print(dataset)\n"
   ]
  },
  {
   "cell_type": "code",
   "execution_count": 13,
   "id": "281a6414",
   "metadata": {},
   "outputs": [],
   "source": [
    "col = \"income\"\n",
    "\n",
    "df1=data.drop(['income'], axis=1)\n",
    "df2 = data.loc[:,col]\n",
    "X = np.asarray(df1)\n",
    "Y = np.asarray(df2)\n",
    "X = integerconverter1(X)\n",
    "Y = integerconverter(Y)\n"
   ]
  },
  {
   "cell_type": "code",
   "execution_count": 14,
   "id": "49eca384",
   "metadata": {},
   "outputs": [
    {
     "name": "stdout",
     "output_type": "stream",
     "text": [
      "1.0\n"
     ]
    }
   ],
   "source": [
    "# row_number= len(Y)\n",
    "\n",
    "# for i in range(row_number):\n",
    "#     print(Y[i])\n",
    "print(X[4562][2])         "
   ]
  },
  {
   "cell_type": "code",
   "execution_count": 15,
   "id": "82f92eb6",
   "metadata": {},
   "outputs": [
    {
     "data": {
      "text/plain": [
       "<AxesSubplot:>"
      ]
     },
     "execution_count": 15,
     "metadata": {},
     "output_type": "execute_result"
    },
    {
     "data": {
      "image/png": "[encoded data removed]",
      "text/plain": [
       "<Figure size 432x288 with 1 Axes>"
      ]
     },
     "metadata": {
      "needs_background": "light"
     },
     "output_type": "display_data"
    }
   ],
   "source": [
    "data['income'].hist()\n"
   ]
  },
  {
   "cell_type": "code",
   "execution_count": 16,
   "id": "381d4af2",
   "metadata": {},
   "outputs": [
    {
     "data": {
      "text/plain": [
       "<AxesSubplot:xlabel='education', ylabel='Count'>"
      ]
     },
     "execution_count": 16,
     "metadata": {},
     "output_type": "execute_result"
    },
    {
     "data": {
      "image/png": "[encoded data removed]",
      "text/plain": [
       "<Figure size 1296x432 with 3 Axes>"
      ]
     },
     "metadata": {
      "needs_background": "light"
     },
     "output_type": "display_data"
    }
   ],
   "source": [
    "fig, axes = plt.subplots(1, 3, figsize=(18, 6), sharey=True)\n",
    "sns.histplot(data, ax=axes[0], x=\"age\", kde=True, color='r')\n",
    "sns.histplot(data, ax=axes[1], x=\"workclass\", kde=True, color='b')\n",
    "sns.histplot(data, ax=axes[2], x=\"education\", kde=True)"
   ]
  },
  {
   "cell_type": "code",
   "execution_count": 17,
   "id": "30543df9",
   "metadata": {},
   "outputs": [
    {
     "name": "stdout",
     "output_type": "stream",
     "text": [
      "(48842, 15)\n"
     ]
    }
   ],
   "source": [
    "dataset_norm=dataset_new.drop(['income'],axis=1)\n",
    "dataset_norm.iloc[:,1:15]=dataset_new.iloc[:,1:15].apply(lambda x: (x-x.mean())/ x.std(), axis=0)\n",
    "print(dataset_norm.shape)"
   ]
  },
  {
   "cell_type": "code",
   "execution_count": 18,
   "id": "292a5fbe",
   "metadata": {},
   "outputs": [
    {
     "data": {
      "text/html": [
       "<div>\n",
       "<style scoped>\n",
       "    .dataframe tbody tr th:only-of-type {\n",
       "        vertical-align: middle;\n",
       "    }\n",
       "\n",
       "    .dataframe tbody tr th {\n",
       "        vertical-align: top;\n",
       "    }\n",
       "\n",
       "    .dataframe thead th {\n",
       "        text-align: right;\n",
       "    }\n",
       "</style>\n",
       "<table border=\"1\" class=\"dataframe\">\n",
       "  <thead>\n",
       "    <tr style=\"text-align: right;\">\n",
       "      <th></th>\n",
       "      <th>Unnamed: 0</th>\n",
       "      <th>age</th>\n",
       "      <th>workclass</th>\n",
       "      <th>fnlwgt</th>\n",
       "      <th>education</th>\n",
       "      <th>educational-num</th>\n",
       "      <th>marital-status</th>\n",
       "      <th>occupation</th>\n",
       "      <th>relationship</th>\n",
       "      <th>race</th>\n",
       "      <th>gender</th>\n",
       "      <th>capital-gain</th>\n",
       "      <th>capital-loss</th>\n",
       "      <th>hours-per-week</th>\n",
       "      <th>native-country</th>\n",
       "    </tr>\n",
       "  </thead>\n",
       "  <tbody>\n",
       "    <tr>\n",
       "      <th>0</th>\n",
       "      <td>0</td>\n",
       "      <td>-0.995119</td>\n",
       "      <td>-0.487942</td>\n",
       "      <td>0.351671</td>\n",
       "      <td>-0.406392</td>\n",
       "      <td>-1.197247</td>\n",
       "      <td>0.772060</td>\n",
       "      <td>0.798147</td>\n",
       "      <td>-1.120455</td>\n",
       "      <td>2.922058</td>\n",
       "      <td>0.704213</td>\n",
       "      <td>-0.144802</td>\n",
       "      <td>-0.217125</td>\n",
       "      <td>-0.034087</td>\n",
       "      <td>-0.266148</td>\n",
       "    </tr>\n",
       "    <tr>\n",
       "      <th>1</th>\n",
       "      <td>1</td>\n",
       "      <td>-0.046941</td>\n",
       "      <td>-0.487942</td>\n",
       "      <td>-0.945514</td>\n",
       "      <td>-0.117763</td>\n",
       "      <td>-0.419331</td>\n",
       "      <td>-0.911639</td>\n",
       "      <td>1.488743</td>\n",
       "      <td>-0.310538</td>\n",
       "      <td>-0.378742</td>\n",
       "      <td>0.704213</td>\n",
       "      <td>-0.144802</td>\n",
       "      <td>-0.217125</td>\n",
       "      <td>0.772922</td>\n",
       "      <td>-0.266148</td>\n",
       "    </tr>\n",
       "    <tr>\n",
       "      <th>2</th>\n",
       "      <td>2</td>\n",
       "      <td>-0.776309</td>\n",
       "      <td>2.300003</td>\n",
       "      <td>1.394709</td>\n",
       "      <td>0.459495</td>\n",
       "      <td>0.747543</td>\n",
       "      <td>-0.911639</td>\n",
       "      <td>2.524637</td>\n",
       "      <td>-0.310538</td>\n",
       "      <td>-0.378742</td>\n",
       "      <td>0.704213</td>\n",
       "      <td>-0.144802</td>\n",
       "      <td>-0.217125</td>\n",
       "      <td>-0.034087</td>\n",
       "      <td>-0.266148</td>\n",
       "    </tr>\n",
       "    <tr>\n",
       "      <th>3</th>\n",
       "      <td>3</td>\n",
       "      <td>0.390679</td>\n",
       "      <td>-0.487942</td>\n",
       "      <td>-0.277841</td>\n",
       "      <td>-0.695021</td>\n",
       "      <td>-0.030373</td>\n",
       "      <td>-0.911639</td>\n",
       "      <td>0.798147</td>\n",
       "      <td>-0.310538</td>\n",
       "      <td>2.922058</td>\n",
       "      <td>0.704213</td>\n",
       "      <td>0.886865</td>\n",
       "      <td>-0.217125</td>\n",
       "      <td>-0.034087</td>\n",
       "      <td>-0.266148</td>\n",
       "    </tr>\n",
       "    <tr>\n",
       "      <th>4</th>\n",
       "      <td>4</td>\n",
       "      <td>-1.505676</td>\n",
       "      <td>-0.487942</td>\n",
       "      <td>-0.815946</td>\n",
       "      <td>-0.695021</td>\n",
       "      <td>-0.030373</td>\n",
       "      <td>0.772060</td>\n",
       "      <td>-0.237747</td>\n",
       "      <td>-1.120455</td>\n",
       "      <td>-0.378742</td>\n",
       "      <td>-1.419995</td>\n",
       "      <td>-0.144802</td>\n",
       "      <td>-0.217125</td>\n",
       "      <td>-0.841095</td>\n",
       "      <td>-0.266148</td>\n",
       "    </tr>\n",
       "    <tr>\n",
       "      <th>5</th>\n",
       "      <td>5</td>\n",
       "      <td>-0.338688</td>\n",
       "      <td>-0.487942</td>\n",
       "      <td>0.085497</td>\n",
       "      <td>2.479898</td>\n",
       "      <td>-1.586204</td>\n",
       "      <td>0.772060</td>\n",
       "      <td>-0.928343</td>\n",
       "      <td>0.499378</td>\n",
       "      <td>-0.378742</td>\n",
       "      <td>0.704213</td>\n",
       "      <td>-0.144802</td>\n",
       "      <td>-0.217125</td>\n",
       "      <td>-0.841095</td>\n",
       "      <td>-0.266148</td>\n",
       "    </tr>\n",
       "    <tr>\n",
       "      <th>6</th>\n",
       "      <td>6</td>\n",
       "      <td>-0.703372</td>\n",
       "      <td>-0.487942</td>\n",
       "      <td>0.353792</td>\n",
       "      <td>-0.117763</td>\n",
       "      <td>-0.419331</td>\n",
       "      <td>0.772060</td>\n",
       "      <td>-0.237747</td>\n",
       "      <td>2.119212</td>\n",
       "      <td>2.922058</td>\n",
       "      <td>0.704213</td>\n",
       "      <td>-0.144802</td>\n",
       "      <td>-0.217125</td>\n",
       "      <td>-0.034087</td>\n",
       "      <td>-0.266148</td>\n",
       "    </tr>\n",
       "    <tr>\n",
       "      <th>7</th>\n",
       "      <td>7</td>\n",
       "      <td>1.776478</td>\n",
       "      <td>0.209044</td>\n",
       "      <td>-0.805255</td>\n",
       "      <td>0.170866</td>\n",
       "      <td>1.914416</td>\n",
       "      <td>-0.911639</td>\n",
       "      <td>0.107551</td>\n",
       "      <td>-0.310538</td>\n",
       "      <td>-0.378742</td>\n",
       "      <td>0.704213</td>\n",
       "      <td>0.271595</td>\n",
       "      <td>-0.217125</td>\n",
       "      <td>-0.679693</td>\n",
       "      <td>-0.266148</td>\n",
       "    </tr>\n",
       "    <tr>\n",
       "      <th>8</th>\n",
       "      <td>8</td>\n",
       "      <td>-1.068055</td>\n",
       "      <td>-0.487942</td>\n",
       "      <td>1.704508</td>\n",
       "      <td>-0.695021</td>\n",
       "      <td>-0.030373</td>\n",
       "      <td>0.772060</td>\n",
       "      <td>-0.928343</td>\n",
       "      <td>2.119212</td>\n",
       "      <td>-0.378742</td>\n",
       "      <td>-1.419995</td>\n",
       "      <td>-0.144802</td>\n",
       "      <td>-0.217125</td>\n",
       "      <td>-0.034087</td>\n",
       "      <td>-0.266148</td>\n",
       "    </tr>\n",
       "    <tr>\n",
       "      <th>9</th>\n",
       "      <td>9</td>\n",
       "      <td>1.192984</td>\n",
       "      <td>-0.487942</td>\n",
       "      <td>-0.801751</td>\n",
       "      <td>1.325382</td>\n",
       "      <td>-2.364120</td>\n",
       "      <td>-0.911639</td>\n",
       "      <td>-1.273641</td>\n",
       "      <td>-0.310538</td>\n",
       "      <td>-0.378742</td>\n",
       "      <td>0.704213</td>\n",
       "      <td>-0.144802</td>\n",
       "      <td>-0.217125</td>\n",
       "      <td>-2.455112</td>\n",
       "      <td>-0.266148</td>\n",
       "    </tr>\n",
       "  </tbody>\n",
       "</table>\n",
       "</div>"
      ],
      "text/plain": [
       "   Unnamed: 0       age  workclass    fnlwgt  education  educational-num  \\\n",
       "0           0 -0.995119  -0.487942  0.351671  -0.406392        -1.197247   \n",
       "1           1 -0.046941  -0.487942 -0.945514  -0.117763        -0.419331   \n",
       "2           2 -0.776309   2.300003  1.394709   0.459495         0.747543   \n",
       "3           3  0.390679  -0.487942 -0.277841  -0.695021        -0.030373   \n",
       "4           4 -1.505676  -0.487942 -0.815946  -0.695021        -0.030373   \n",
       "5           5 -0.338688  -0.487942  0.085497   2.479898        -1.586204   \n",
       "6           6 -0.703372  -0.487942  0.353792  -0.117763        -0.419331   \n",
       "7           7  1.776478   0.209044 -0.805255   0.170866         1.914416   \n",
       "8           8 -1.068055  -0.487942  1.704508  -0.695021        -0.030373   \n",
       "9           9  1.192984  -0.487942 -0.801751   1.325382        -2.364120   \n",
       "\n",
       "   marital-status  occupation  relationship      race    gender  capital-gain  \\\n",
       "0        0.772060    0.798147     -1.120455  2.922058  0.704213     -0.144802   \n",
       "1       -0.911639    1.488743     -0.310538 -0.378742  0.704213     -0.144802   \n",
       "2       -0.911639    2.524637     -0.310538 -0.378742  0.704213     -0.144802   \n",
       "3       -0.911639    0.798147     -0.310538  2.922058  0.704213      0.886865   \n",
       "4        0.772060   -0.237747     -1.120455 -0.378742 -1.419995     -0.144802   \n",
       "5        0.772060   -0.928343      0.499378 -0.378742  0.704213     -0.144802   \n",
       "6        0.772060   -0.237747      2.119212  2.922058  0.704213     -0.144802   \n",
       "7       -0.911639    0.107551     -0.310538 -0.378742  0.704213      0.271595   \n",
       "8        0.772060   -0.928343      2.119212 -0.378742 -1.419995     -0.144802   \n",
       "9       -0.911639   -1.273641     -0.310538 -0.378742  0.704213     -0.144802   \n",
       "\n",
       "   capital-loss  hours-per-week  native-country  \n",
       "0     -0.217125       -0.034087       -0.266148  \n",
       "1     -0.217125        0.772922       -0.266148  \n",
       "2     -0.217125       -0.034087       -0.266148  \n",
       "3     -0.217125       -0.034087       -0.266148  \n",
       "4     -0.217125       -0.841095       -0.266148  \n",
       "5     -0.217125       -0.841095       -0.266148  \n",
       "6     -0.217125       -0.034087       -0.266148  \n",
       "7     -0.217125       -0.679693       -0.266148  \n",
       "8     -0.217125       -0.034087       -0.266148  \n",
       "9     -0.217125       -2.455112       -0.266148  "
      ]
     },
     "execution_count": 18,
     "metadata": {},
     "output_type": "execute_result"
    }
   ],
   "source": [
    "dataset_norm.iloc[:10,:]"
   ]
  },
  {
   "cell_type": "code",
   "execution_count": 19,
   "id": "de4b009f",
   "metadata": {},
   "outputs": [],
   "source": [
    "col = \"income\"\n",
    "\n",
    "df1=dataset_norm.drop(['Unnamed: 0'], axis=1)\n",
    "df2 = data.loc[:,col]\n",
    "X1 = np.asarray(df1)\n",
    "Y1 = np.asarray(df2)\n",
    "X1 = integerconverter1(X)\n",
    "Y1 = integerconverter(Y)"
   ]
  },
  {
   "cell_type": "code",
   "execution_count": 20,
   "id": "58ba1b92",
   "metadata": {},
   "outputs": [
    {
     "name": "stdout",
     "output_type": "stream",
     "text": [
      "Naive Bayes classification accuracy 0.8103362700086859\n"
     ]
    }
   ],
   "source": [
    "class NaiveBayes:\n",
    "\n",
    "    def fit(self, X, y):\n",
    "        n_samples, n_features = X.shape\n",
    "        self._classes = np.unique(y)\n",
    "        n_classes = len(self._classes)\n",
    "\n",
    "        # calculate mean, var, and prior for each class\n",
    "        self._mean = np.zeros((n_classes, n_features), dtype=np.float64)\n",
    "        self._var = np.zeros((n_classes, n_features), dtype=np.float64)\n",
    "        self._priors = np.zeros(n_classes, dtype=np.float64)\n",
    "\n",
    "        for idx, c in enumerate(self._classes):\n",
    "            X_c = X[y == c]\n",
    "            self._mean[idx, :] = X_c.mean(axis=0)\n",
    "            self._var[idx, :] = X_c.var(axis=0)\n",
    "            self._priors[idx] = X_c.shape[0] / float(n_samples)\n",
    "            \n",
    "\n",
    "    def predict(self, X):\n",
    "        y_pred = [self._predict(x) for x in X]\n",
    "        return np.array(y_pred)\n",
    "\n",
    "    def _predict(self, x):\n",
    "        posteriors = []\n",
    "\n",
    "        # calculate posterior probability for each class\n",
    "        for idx, c in enumerate(self._classes):\n",
    "            prior = np.log(self._priors[idx])\n",
    "            posterior = np.sum(np.log(self._pdf(idx, x)))\n",
    "            posterior = posterior + prior\n",
    "            posteriors.append(posterior)\n",
    "\n",
    "        # return class with the highest posterior\n",
    "        return self._classes[np.argmax(posteriors)]\n",
    "\n",
    "    def _pdf(self, class_idx, x):\n",
    "        mean = self._mean[class_idx]\n",
    "        var = self._var[class_idx]\n",
    "        numerator = np.exp(-((x - mean) ** 2) / (2 * var))\n",
    "        denominator = np.sqrt(2 * np.pi * var)\n",
    "        return numerator / denominator\n",
    "\n",
    "\n",
    "# Testing\n",
    "if __name__ == \"__main__\":\n",
    "    # Imports\n",
    "    from sklearn.model_selection import train_test_split\n",
    "#     from sklearn import datasets\n",
    "\n",
    "    def accuracy(y_true, y_pred):\n",
    "        accuracy = np.sum(y_true == y_pred) / len(y_true)\n",
    "        return accuracy\n",
    "\n",
    "#     X, y = datasets.make_classification(\n",
    "#         n_samples=1000, n_features=10, n_classes=2, random_state=123\n",
    "#     )\n",
    "    X_train, X_test, y_train, y_test = train_test_split(\n",
    "        X1, Y1, test_size=0.33, random_state=123)\n",
    "\n",
    "    nb = NaiveBayes()\n",
    "    nb.fit(X_train, y_train)\n",
    "    predictions = nb.predict(X_test)\n",
    "\n",
    "    print(\"Naive Bayes classification accuracy\", accuracy(y_test, predictions))"
   ]
  },
  {
   "cell_type": "code",
   "execution_count": 21,
   "id": "19e10660",
   "metadata": {},
   "outputs": [
    {
     "data": {
      "text/plain": [
       "array([[11529,   734],\n",
       "       [ 2323,  1532]], dtype=int64)"
      ]
     },
     "execution_count": 21,
     "metadata": {},
     "output_type": "execute_result"
    }
   ],
   "source": [
    "from sklearn.metrics import (\n",
    "    confusion_matrix,\n",
    "    accuracy_score,\n",
    "    precision_score,\n",
    "    recall_score,\n",
    "    f1_score\n",
    ")\n",
    "conf_matrix = confusion_matrix(y_test, predictions)\n",
    "conf_matrix"
   ]
  },
  {
   "cell_type": "code",
   "execution_count": 22,
   "id": "fbcb64a9",
   "metadata": {
    "scrolled": true
   },
   "outputs": [
    {
     "name": "stdout",
     "output_type": "stream",
     "text": [
      "Precision = 0.676081200353045\n",
      "Recall = 0.3974059662775616\n",
      "F1 Score = 0.5005718019931383\n"
     ]
    }
   ],
   "source": [
    "precision = precision_score(y_test, predictions)\n",
    "recall = recall_score(y_test, predictions)\n",
    "f1score = f1_score(y_test, predictions)\n",
    "\n",
    "print(f\"Precision = {precision}\")\n",
    "print(f\"Recall = {recall}\")\n",
    "print(f\"F1 Score = {f1score}\")"
   ]
  },
  {
   "cell_type": "code",
   "execution_count": null,
   "id": "cd2fa6ac",
   "metadata": {},
   "outputs": [],
   "source": []
  },
  {
   "cell_type": "markdown",
   "id": "8e1106ba",
   "metadata": {},
   "source": [
    "### Different Smoothing Techniques"
   ]
  },
  {
   "cell_type": "markdown",
   "id": "d9de55f9",
   "metadata": {},
   "source": [
    "### Laplace smoothing"
   ]
  },
  {
   "cell_type": "code",
   "execution_count": 23,
   "id": "6ad8283b",
   "metadata": {
    "scrolled": true
   },
   "outputs": [
    {
     "name": "stdout",
     "output_type": "stream",
     "text": [
      "Accuracy: 0.8366422633081028\n",
      "Precision: 0.62873999157185\n",
      "Recall: 0.7740596627756161\n",
      "F1-score: 0.693872805487734\n"
     ]
    }
   ],
   "source": [
    "import numpy as np\n",
    "from collections import defaultdict\n",
    "\n",
    "X_train = X_train.astype('int64', casting='unsafe')\n",
    "y_train = y_train.astype('int64', casting='unsafe')\n",
    "X_test = X_test.astype('int64', casting='unsafe')\n",
    "y_test = y_test.astype('int64', casting='unsafe')\n",
    "\n",
    "\n",
    "# Calculate the prior probability of each class (i.e., the proportion of instances in each class in the training set)\n",
    "class_counts = np.bincount(y_train)\n",
    "class_probs = class_counts / len(y_train)\n",
    "\n",
    "# Create a dictionary to store the conditional probabilities of each feature given each class\n",
    "probabilities = defaultdict(dict)\n",
    "\n",
    "# Calculate the conditional probability of each feature given each class\n",
    "alpha = 0.1 # Additive smoothing parameter\n",
    "for label in np.unique(y_train):\n",
    "    subset = X_train[y_train == label]\n",
    "    for feature in range(X_train.shape[1]):\n",
    "        feature_counts = np.bincount(subset[:, feature], minlength=X_train[:, feature].max() + 1)\n",
    "        feature_probs = (feature_counts + alpha) / (len(subset) + alpha*(X_train[:, feature].max() + 1))\n",
    "        for value, prob in enumerate(feature_probs):\n",
    "            probabilities[label][str(feature) + '_' + str(value)] = prob\n",
    "\n",
    "# Make predictions on the test set\n",
    "predictions = []\n",
    "for row in X_test:\n",
    "    label_probabilities = {}\n",
    "    for label in np.unique(y_train):\n",
    "        label_probability = class_probs[label]\n",
    "        for feature in range(len(row)):\n",
    "            feature_value = row[feature]\n",
    "            if str(feature) + '_' + str(feature_value) in probabilities[label]:\n",
    "                prob = probabilities[label][str(feature) + '_' + str(feature_value)]\n",
    "            else:\n",
    "                prob = alpha / (len(X_train[y_train == label]) + alpha*(X_train[:, feature].max() + 1))\n",
    "            label_probability *= prob\n",
    "        label_probabilities[label] = label_probability\n",
    "    predicted_label = max(label_probabilities, key=label_probabilities.get)\n",
    "    predictions.append(predicted_label)\n",
    "\n",
    "# Calculate the evaluation metrics of the predictions\n",
    "accuracy = accuracy_score(y_test, predictions)\n",
    "precision = precision_score(y_test, predictions, pos_label=1)\n",
    "recall = recall_score(y_test, predictions, pos_label=1)\n",
    "f1 = f1_score(y_test, predictions, pos_label=1)\n",
    "print('Accuracy:', accuracy)\n",
    "print('Precision:', precision)\n",
    "print('Recall:', recall)\n",
    "print('F1-score:', f1)"
   ]
  },
  {
   "cell_type": "markdown",
   "id": "c6f8fd35",
   "metadata": {},
   "source": [
    "### Lidstone Smoothing"
   ]
  },
  {
   "cell_type": "code",
   "execution_count": 24,
   "id": "18a419f0",
   "metadata": {},
   "outputs": [
    {
     "name": "stdout",
     "output_type": "stream",
     "text": [
      "Accuracy: 0.7853331678868346\n",
      "Precision: 0.8790786948176583\n",
      "Recall: 0.11880674448767833\n",
      "F1-score: 0.20932358318098718\n"
     ]
    }
   ],
   "source": [
    "import numpy as np\n",
    "\n",
    "def train_naive_bayes_lidstone(X_train, y_train, alpha):\n",
    "    num_instances, num_features = X_train.shape\n",
    "    num_classes = len(np.unique(y_train))\n",
    "    prior_prob = np.zeros(num_classes)\n",
    "    likelihood = np.zeros((num_classes, num_features))\n",
    "    \n",
    "    for c in range(num_classes):\n",
    "        X_c = X_train[y_train == c]\n",
    "        prior_prob[c] = (len(X_c) + alpha) / (num_instances + alpha*num_classes)\n",
    "        likelihood[c,:] = (np.sum(X_c, axis=0) + alpha) / (np.sum(X_c) + alpha*num_features)\n",
    "    \n",
    "    return prior_prob, likelihood\n",
    "\n",
    "def predict_naive_bayes_lidstone(X_test, prior_prob, likelihood):\n",
    "    num_instances = X_test.shape[0]\n",
    "    num_classes = len(prior_prob)\n",
    "    y_pred = np.zeros(num_instances)\n",
    "    \n",
    "    for i in range(num_instances):\n",
    "        joint_prob = np.zeros(num_classes)\n",
    "        for c in range(num_classes):\n",
    "            joint_prob[c] = np.sum(np.log(likelihood[c,:])*X_test[i] + np.log(1-likelihood[c,:])*(1-X_test[i])) + np.log(prior_prob[c])\n",
    "        y_pred[i] = np.argmax(joint_prob)\n",
    "    \n",
    "    return y_pred.astype(int)\n",
    "import numpy as np\n",
    "from sklearn.metrics import accuracy_score, precision_score, recall_score, f1_score\n",
    "from sklearn.model_selection import train_test_split\n",
    "\n",
    "# assuming X_train, X_test, y_train, y_test are already defined\n",
    "alpha = 1.0  # the smoothing parameter\n",
    "\n",
    "# train the classifier\n",
    "prior_prob, likelihood = train_naive_bayes_lidstone(X_train, y_train, alpha)\n",
    "\n",
    "# make predictions on the test set\n",
    "y_pred = predict_naive_bayes_lidstone(X_test, prior_prob, likelihood)\n",
    "\n",
    "# evaluate the classifier performance\n",
    "# accuracy = accuracy_score(y_test, y_pred)\n",
    "# precision = precision_score(y_test, y_pred)\n",
    "# recall = recall_score(y_test, y_pred)\n",
    "# f1 = f1_score(y_test, y_pred)\n",
    "\n",
    "# print(f\"Accuracy: {accuracy:.2f}\")\n",
    "# print(f\"Precision: {precision:.2f}\")\n",
    "# print(f\"Recall: {recall:.2f}\")\n",
    "# print(f\"F1-Score: {f1:.2f}\")\n",
    "accuracy = accuracy_score(y_test, y_pred)\n",
    "precision = precision_score(y_test, y_pred, pos_label=1)\n",
    "recall = recall_score(y_test, y_pred, pos_label=1)\n",
    "f1 = f1_score(y_test, y_pred, pos_label=1)\n",
    "print('Accuracy:', accuracy)\n",
    "print('Precision:', precision)\n",
    "print('Recall:', recall)\n",
    "print('F1-score:', f1)"
   ]
  },
  {
   "cell_type": "markdown",
   "id": "de15f25e",
   "metadata": {},
   "source": [
    "### Logistic Regression"
   ]
  },
  {
   "cell_type": "code",
   "execution_count": 25,
   "id": "dab6875f",
   "metadata": {},
   "outputs": [],
   "source": [
    "from sklearn.linear_model import LogisticRegression\n",
    "logisticRegr = LogisticRegression()"
   ]
  },
  {
   "cell_type": "code",
   "execution_count": 26,
   "id": "c36edcf9",
   "metadata": {},
   "outputs": [
    {
     "data": {
      "text/plain": [
       "LogisticRegression()"
      ]
     },
     "execution_count": 26,
     "metadata": {},
     "output_type": "execute_result"
    }
   ],
   "source": [
    "logisticRegr.fit(X_train, y_train)"
   ]
  },
  {
   "cell_type": "code",
   "execution_count": 27,
   "id": "845ca32c",
   "metadata": {},
   "outputs": [],
   "source": [
    "predictions = logisticRegr.predict(X_train)"
   ]
  },
  {
   "cell_type": "code",
   "execution_count": 28,
   "id": "fda093da",
   "metadata": {},
   "outputs": [
    {
     "data": {
      "text/plain": [
       "0.7979770199242147"
      ]
     },
     "execution_count": 28,
     "metadata": {},
     "output_type": "execute_result"
    }
   ],
   "source": [
    "from sklearn.metrics import accuracy_score\n",
    "accuracy_score(y_train, predictions)"
   ]
  },
  {
   "cell_type": "markdown",
   "id": "979f9219",
   "metadata": {},
   "source": [
    "### K-Nearest Neighbors"
   ]
  },
  {
   "cell_type": "code",
   "execution_count": 29,
   "id": "784ac8fc",
   "metadata": {},
   "outputs": [],
   "source": [
    "#nsamples, nx, ny = X_train.shape #Converting to 2 dimensions\n",
    "#X_train_2 = X_train.reshape((nsamples,nx*ny))\n",
    "\n",
    "#nsamples, nx, ny = X_test.shape #Converting to 2 dimensions\n",
    "#X_test_2 = X_test.reshape((nsamples,nx*ny))"
   ]
  },
  {
   "cell_type": "code",
   "execution_count": 30,
   "id": "92cecb26",
   "metadata": {},
   "outputs": [
    {
     "data": {
      "text/plain": [
       "KNeighborsClassifier(n_neighbors=3)"
      ]
     },
     "execution_count": 30,
     "metadata": {},
     "output_type": "execute_result"
    }
   ],
   "source": [
    "from sklearn.neighbors import KNeighborsClassifier\n",
    "knn = KNeighborsClassifier(n_neighbors=3)\n",
    "knn.fit(X_train, y_train)"
   ]
  },
  {
   "cell_type": "code",
   "execution_count": 31,
   "id": "df7877e7",
   "metadata": {},
   "outputs": [],
   "source": [
    "y_pred = knn.predict(X_train)"
   ]
  },
  {
   "cell_type": "code",
   "execution_count": 32,
   "id": "12d67afa",
   "metadata": {},
   "outputs": [
    {
     "data": {
      "text/plain": [
       "0.8486431976530986"
      ]
     },
     "execution_count": 32,
     "metadata": {},
     "output_type": "execute_result"
    }
   ],
   "source": [
    "from sklearn.metrics import accuracy_score\n",
    "accuracy_score(y_train, y_pred)"
   ]
  },
  {
   "cell_type": "code",
   "execution_count": null,
   "id": "cd62a122",
   "metadata": {},
   "outputs": [],
   "source": []
  },
  {
   "cell_type": "code",
   "execution_count": null,
   "id": "7af863ea",
   "metadata": {},
   "outputs": [],
   "source": []
  },
  {
   "cell_type": "code",
   "execution_count": null,
   "id": "b71154eb",
   "metadata": {},
   "outputs": [],
   "source": []
  },
  {
   "cell_type": "markdown",
   "id": "d9979c76",
   "metadata": {},
   "source": [
    "## Part B: Building a Basic Neural Network for Image Classification"
   ]
  },
  {
   "cell_type": "code",
   "execution_count": 33,
   "id": "c5e7c4e0",
   "metadata": {},
   "outputs": [],
   "source": [
    "import tensorflow as tf\n",
    "from tensorflow import keras\n",
    "%matplotlib inline"
   ]
  },
  {
   "cell_type": "code",
   "execution_count": 34,
   "id": "2a837fc5",
   "metadata": {},
   "outputs": [],
   "source": [
    "(X_train, y_train) , (X_test, y_test) = keras.datasets.mnist.load_data()\n"
   ]
  },
  {
   "cell_type": "code",
   "execution_count": 35,
   "id": "2b546676",
   "metadata": {},
   "outputs": [
    {
     "data": {
      "text/plain": [
       "(60000, 28, 28)"
      ]
     },
     "execution_count": 35,
     "metadata": {},
     "output_type": "execute_result"
    }
   ],
   "source": [
    "X_train.shape"
   ]
  },
  {
   "cell_type": "code",
   "execution_count": 36,
   "id": "b2adaf77",
   "metadata": {},
   "outputs": [
    {
     "data": {
      "text/plain": [
       "<matplotlib.image.AxesImage at 0x2aaeac8e070>"
      ]
     },
     "execution_count": 36,
     "metadata": {},
     "output_type": "execute_result"
    },
    {
     "data": {
      "image/png": "[encoded data removed]",
      "text/plain": [
       "<Figure size 288x288 with 1 Axes>"
      ]
     },
     "metadata": {
      "needs_background": "light"
     },
     "output_type": "display_data"
    }
   ],
   "source": [
    "plt.matshow(X_train[50])\n"
   ]
  },
  {
   "cell_type": "code",
   "execution_count": 37,
   "id": "ef873dae",
   "metadata": {},
   "outputs": [],
   "source": [
    "X_train_flattened = X_train.reshape(len(X_train), 28*28)\n",
    "X_test_flattened = X_test.reshape(len(X_test), 28*28)"
   ]
  },
  {
   "cell_type": "code",
   "execution_count": 38,
   "id": "dc149ee0",
   "metadata": {},
   "outputs": [
    {
     "data": {
      "text/plain": [
       "(60000, 784)"
      ]
     },
     "execution_count": 38,
     "metadata": {},
     "output_type": "execute_result"
    }
   ],
   "source": [
    "X_train_flattened.shape"
   ]
  },
  {
   "cell_type": "code",
   "execution_count": 39,
   "id": "15f7e7c4",
   "metadata": {
    "scrolled": false
   },
   "outputs": [
    {
     "name": "stdout",
     "output_type": "stream",
     "text": [
      "Epoch 1/10\n",
      "1875/1875 [==============================] - 4s 2ms/step - loss: 0.9287 - accuracy: 0.7351\n",
      "Epoch 2/10\n",
      "1875/1875 [==============================] - 3s 2ms/step - loss: 0.4739 - accuracy: 0.8561\n",
      "Epoch 3/10\n",
      "1875/1875 [==============================] - 3s 2ms/step - loss: 0.4234 - accuracy: 0.8693\n",
      "Epoch 4/10\n",
      "1875/1875 [==============================] - 4s 2ms/step - loss: 0.3856 - accuracy: 0.8818\n",
      "Epoch 5/10\n",
      "1875/1875 [==============================] - 4s 2ms/step - loss: 0.3793 - accuracy: 0.8835\n",
      "Epoch 6/10\n",
      "1875/1875 [==============================] - 3s 2ms/step - loss: 0.3523 - accuracy: 0.8908\n",
      "Epoch 7/10\n",
      "1875/1875 [==============================] - 3s 2ms/step - loss: 0.3428 - accuracy: 0.8934\n",
      "Epoch 8/10\n",
      "1875/1875 [==============================] - 4s 2ms/step - loss: 0.3135 - accuracy: 0.9035\n",
      "Epoch 9/10\n",
      "1875/1875 [==============================] - 4s 2ms/step - loss: 0.3103 - accuracy: 0.9040\n",
      "Epoch 10/10\n",
      "1875/1875 [==============================] - 4s 2ms/step - loss: 0.2901 - accuracy: 0.9100\n"
     ]
    },
    {
     "data": {
      "text/plain": [
       "<keras.callbacks.History at 0x2aaeaf417c0>"
      ]
     },
     "execution_count": 39,
     "metadata": {},
     "output_type": "execute_result"
    }
   ],
   "source": [
    "model = keras.Sequential([\n",
    "    keras.layers.Dense(50, input_shape=(784,), activation='sigmoid'),\n",
    "    keras.layers.Dense(50, input_shape=(784,), activation='sigmoid'),\n",
    "    keras.layers.Dense(50, input_shape=(784,), activation='sigmoid'),\n",
    "    keras.layers.Dense(10, activation='sigmoid')\n",
    "])\n",
    "\n",
    "model.compile(optimizer='adam',\n",
    "              loss='sparse_categorical_crossentropy',\n",
    "              metrics=['accuracy'])\n",
    "\n",
    "model.fit(X_train_flattened, y_train, epochs=10)"
   ]
  },
  {
   "cell_type": "markdown",
   "id": "019d27dc",
   "metadata": {},
   "source": [
    "### Confusion Matrix"
   ]
  },
  {
   "cell_type": "code",
   "execution_count": 40,
   "id": "12a3444b",
   "metadata": {
    "scrolled": true
   },
   "outputs": [
    {
     "name": "stdout",
     "output_type": "stream",
     "text": [
      "313/313 [==============================] - 1s 1ms/step\n"
     ]
    }
   ],
   "source": [
    "y_predicted = model.predict(X_test_flattened)\n",
    "y_predicted_labels = [np.argmax(i) for i in y_predicted]\n",
    "cm = tf.math.confusion_matrix(labels=y_test,predictions=y_predicted_labels)"
   ]
  },
  {
   "cell_type": "markdown",
   "id": "733f7d21",
   "metadata": {},
   "source": [
    "### Accuracy"
   ]
  },
  {
   "cell_type": "code",
   "execution_count": 41,
   "id": "f80c6342",
   "metadata": {},
   "outputs": [],
   "source": [
    "def acc(confusion):\n",
    "    sum=0\n",
    "    for i in range(10):\n",
    "        sum=sum+cm[i,i]\n",
    "    accuracy = sum/10000\n",
    "    return accuracy"
   ]
  },
  {
   "cell_type": "code",
   "execution_count": 42,
   "id": "7999af85",
   "metadata": {
    "scrolled": true
   },
   "outputs": [
    {
     "name": "stdout",
     "output_type": "stream",
     "text": [
      "tf.Tensor(0.9109, shape=(), dtype=float64)\n"
     ]
    }
   ],
   "source": [
    "print(acc(cm))"
   ]
  },
  {
   "cell_type": "markdown",
   "id": "7fcf3ea8",
   "metadata": {},
   "source": [
    "### Visualising Confusion Matrix"
   ]
  },
  {
   "cell_type": "code",
   "execution_count": 43,
   "id": "a99e5459",
   "metadata": {},
   "outputs": [
    {
     "data": {
      "text/plain": [
       "Text(69.0, 0.5, 'Truth')"
      ]
     },
     "execution_count": 43,
     "metadata": {},
     "output_type": "execute_result"
    },
    {
     "data": {
      "image/png": "[encoded data removed]",
      "text/plain": [
       "<Figure size 720x504 with 2 Axes>"
      ]
     },
     "metadata": {
      "needs_background": "light"
     },
     "output_type": "display_data"
    }
   ],
   "source": [
    "import seaborn as sn\n",
    "\n",
    "plt.figure(figsize = (10,7))\n",
    "sn.heatmap(cm, annot=True, fmt='d')\n",
    "plt.xlabel('Predicted')\n",
    "plt.ylabel('Truth')"
   ]
  },
  {
   "cell_type": "markdown",
   "id": "2f9d066a",
   "metadata": {},
   "source": [
    "# Comparative Study of 15 models "
   ]
  },
  {
   "cell_type": "markdown",
   "id": "26c4d7dd",
   "metadata": {},
   "source": [
    "| Model No. | Hidden Layer(No.) | Neuron in 1st layer | Neuron in 2nd layer | Neuron in 3rd layer | Activation func. in 1st layer |  Activation func. in 2nd layer | Activation func. in 3rd layer |\n",
    "| -:| -: | :-: | :-: | :-: | :-: | :-: | :-: |\n",
    "| 1 | 2 | 50 | 50 | - | tanh | tanh | - |\n",
    "| 2 | 2 | 50 | 50 | - | tanh | sigmoid | - |\n",
    "| 3 | 2 | 50 | 50 | - | tanh | ReLu | - | :-: |\n",
    "| 4 | 2 | 50 | 50 | - | sigmoid | sigmoid | - |\n",
    "| 5 | 2 | 50 | 50 | - | sigmoid | ReLu | - |\n",
    "| 6 | 2 | 50 | 50 | - | ReLu | ReLu | - |\n",
    "| 7 | 3 | 50 | 50 | 50 | tanh | tanh | tanh |\n",
    "| 8 | 3 | 50 | 50 | 50 | ReLu | tanh | tanh |\n",
    "| 9 | 3 | 50 | 50 | 50 | ReLu | ReLu | tanh |\n",
    "| 10 | 3 | 50 | 50 | 50 | sigmoid | tanh | tanh |\n",
    "| 11 | 3 | 50 | 50 | 50 | sigmoid | sigmoid | tanh |\n",
    "| 12 | 3 | 50 | 50 | 50 | sigmoid | sigmoid | sigmoid |\n",
    "| 13 | 3 | 50 | 50 | 50 | ReLu | sigmoid | sigmoid |\n",
    "| 14 | 3 | 50 | 50 | 50 | ReLu | ReLu | sigmoid |\n",
    "| 15 | 3 | 50 | 50 | 50 | ReLu | ReLu | ReLu |\n"
   ]
  },
  {
   "cell_type": "markdown",
   "id": "16bc81da",
   "metadata": {},
   "source": [
    "| Model No. | Iteration 1 | Iteration 2 | Iteration 3 | Iteration 4 | Iteration 5 | Iteration 6 | Iteration 7 | Iteration 8 | Iteration 9 | Iteration 10 | Final Accuracy\n",
    "| :-:| -: | :-: | :-: | :-: | :-: | :-: | :-: | :-: | :-: | :-: | :-: |\n",
    "| 1 |  90.44 | 89.54 | 89.49 | 90.28 | 90.10 | 89.63 | 90.61 | 89.37 | 89.90 | 90.43 | 89.979 |\n",
    "| 2 |  90.25 | 90.27 | 90.38 | 90.13 | 90.17 | 90.11 | 90.84 | 89.78 | 91.08 | 90.22 | 90.323 |\n",
    "| 3 |  89.54 | 89.33 | 90.50 | 90.64 | 90.93 | 90.11 | 89.58 | 91.83 | 89.79 | 89.48 | 90.173 |\n",
    "| 4 |  91.20 | 91.60 | 91.24 | 90.18 | 91.38 | 90.53 | 90.53 | 90.78 | 91.83 | 91.01 | 91.028 |\n",
    "| 5 |  92.07 | 91.98 | 91.23 | 91.34 | 92.34 | 91.14 | 91.24 | 91.25 | 92.12 | 91.88 | 91.659 |\n",
    "| 6 |  74.95 | 83.33 | 89.42 | 62.78 | 74.71 | 91.24 | 85.64 | 74.85 | 73.41 | 74.81 | 81.514 |\n",
    "| 7 |  90.01 | 88.82 | 90.69 | 87.50 | 89.25 | 90.37 | 89.05 | 89.87 | 90.83 | 89.50 | 89.589 |\n",
    "| 8 |  89.68 | 89.45 | 90.15 | 89.58 | 88.49 | 90.89 | 89.17 | 89.69 | 89.47 | 89.10 | 89.567 |\n",
    "| 9 |  91.56 | 91.88 | 89.51 | 89.90 | 91.17 | 89.75 | 89.32 | 91.30 | 89.34 | 90.99 | 90.472 |\n",
    "| 10|  90.78 | 92.22 | 91.49 | 91.60 | 90.72 | 88.53 | 91.60 | 91.46 | 92.01 | 91.86 | 91.230 |\n",
    "| 11|  91.00 | 90.98 | 90.58 | 91.70 | 91.37 | 91.50 | 92.09 | 91.52 | 91.74 | 91.28 | 91.376 |\n",
    "| 12|  90.03 | 90.77 | 92.16 | 90.67 | 90.31 | 91.34 | 90.69 | 91.26 | 90.85 | 90.74 | 90.982 |\n",
    "| 13|  81.30 | 93.76 | 93.64 | 92.98 | 93.34 | 90.07 | 93.83 | 91.94 | 93.79 | 93.47 | 91.812 |\n",
    "| 14|  91.01 | 94.21 | 94.72 | 93.95 | 94.74 | 93.40 | 94.27 | 94.34 | 93.36 | 94.49 | 93.649 |\n",
    "| 15|  89.50 | 86.88 | 95.53 | 92.81 | 77.36 | 94.76 | 91.68 | 91.45 | 81.76 | 95.82 | 89.755 |"
   ]
  },
  {
   "cell_type": "code",
   "execution_count": null,
   "id": "2ade0e0f",
   "metadata": {},
   "outputs": [],
   "source": []
  }
 ],
 "metadata": {
  "kernelspec": {
   "display_name": "Python 3 (ipykernel)",
   "language": "python",
   "name": "python3"
  },
  "language_info": {
   "codemirror_mode": {
    "name": "ipython",
    "version": 3
   },
   "file_extension": ".py",
   "mimetype": "text/x-python",
   "name": "python",
   "nbconvert_exporter": "python",
   "pygments_lexer": "ipython3",
   "version": "3.9.12"
  }
 },
 "nbformat": 4,
 "nbformat_minor": 5
}
