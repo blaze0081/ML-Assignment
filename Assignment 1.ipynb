{
 "cells": [
  {
   "cell_type": "code",
   "execution_count": 1,
   "id": "9dce30f3",
   "metadata": {},
   "outputs": [],
   "source": [
    "import numpy as np\n",
    "import pandas as pd\n",
    "import matplotlib.pyplot as plt"
   ]
  },
  {
   "cell_type": "code",
   "execution_count": 2,
   "id": "4eefc2c3",
   "metadata": {},
   "outputs": [],
   "source": [
    "df = pd.read_csv('Dsata Set for Assignment 1.csv')"
   ]
  },
  {
   "cell_type": "code",
   "execution_count": 3,
   "id": "5cf30dbf",
   "metadata": {},
   "outputs": [],
   "source": [
    "df['diagnosis'] = df['diagnosis'].replace('B', 0)\n",
    "df['diagnosis'] = df['diagnosis'].replace('M', 1)"
   ]
  },
  {
   "cell_type": "markdown",
   "id": "17488c11",
   "metadata": {},
   "source": [
    "# Feature Engineering Task 1:"
   ]
  },
  {
   "cell_type": "code",
   "execution_count": 4,
   "id": "2768d8cf",
   "metadata": {},
   "outputs": [
    {
     "data": {
      "text/plain": [
       "id                         0\n",
       "diagnosis                  0\n",
       "radius_mean                1\n",
       "texture_mean               0\n",
       "perimeter_mean             1\n",
       "area_mean                  0\n",
       "smoothness_mean            0\n",
       "compactness_mean           0\n",
       "concavity_mean             1\n",
       "concave points_mean        0\n",
       "symmetry_mean              0\n",
       "fractal_dimension_mean     0\n",
       "radius_se                  0\n",
       "texture_se                 0\n",
       "perimeter_se               0\n",
       "area_se                    0\n",
       "smoothness_se              0\n",
       "compactness_se             1\n",
       "concavity_se               0\n",
       "concave points_se          0\n",
       "symmetry_se                0\n",
       "fractal_dimension_se       0\n",
       "radius_worst               0\n",
       "texture_worst              0\n",
       "perimeter_worst            0\n",
       "area_worst                 2\n",
       "smoothness_worst           0\n",
       "compactness_worst          0\n",
       "concavity_worst            1\n",
       "concave points_worst       0\n",
       "symmetry_worst             0\n",
       "fractal_dimension_worst    0\n",
       "dtype: int64"
      ]
     },
     "execution_count": 4,
     "metadata": {},
     "output_type": "execute_result"
    }
   ],
   "source": [
    "#We first need to undersatand the number of missing values in each column\n",
    "df.isnull().sum()"
   ]
  },
  {
   "cell_type": "code",
   "execution_count": 5,
   "id": "1c642c68",
   "metadata": {},
   "outputs": [],
   "source": [
    "#The NULL values are only present in continuous numerical values, so we fill it with the mean of exsisting values in the column\n",
    "df_new=df\n",
    "df_new['radius_mean'] = df_new['radius_mean'].replace(np.NaN, df_new['radius_mean'].mean())\n",
    "df_new['perimeter_mean'] = df_new['perimeter_mean'].replace(np.NaN, df_new['perimeter_mean'].mean())\n",
    "df_new['concavity_mean'] = df_new['concavity_mean'].replace(np.NaN, df_new['concavity_mean'].mean())\n",
    "df_new['compactness_se'] = df_new['compactness_se'].replace(np.NaN, df_new['compactness_se'].mean())\n",
    "df_new['area_worst'] = df_new['area_worst'].replace(np.NaN, df_new['area_worst'].mean())\n",
    "df_new['concavity_worst'] = df_new['concavity_worst'].replace(np.NaN, df_new['concavity_worst'].mean())"
   ]
  },
  {
   "cell_type": "code",
   "execution_count": 6,
   "id": "cba72be2",
   "metadata": {},
   "outputs": [
    {
     "data": {
      "text/plain": [
       "0"
      ]
     },
     "execution_count": 6,
     "metadata": {},
     "output_type": "execute_result"
    }
   ],
   "source": [
    "# We have successfully added the missing values\n",
    "df_new.isnull().sum().sum()"
   ]
  },
  {
   "cell_type": "markdown",
   "id": "b67549ea",
   "metadata": {},
   "source": [
    "# Feature Engineering Task 2"
   ]
  },
  {
   "cell_type": "code",
   "execution_count": 7,
   "id": "bddb3a72",
   "metadata": {},
   "outputs": [],
   "source": [
    "# Normalizing all the features and saving it in a new DataFrame\n",
    "normalized_df=df_new\n",
    "normalized_df.iloc[:,2:]=df_new.iloc[:,2:].apply(lambda x: (x-x.mean())/ x.std(), axis=0)"
   ]
  },
  {
   "cell_type": "code",
   "execution_count": 8,
   "id": "87a0a96c",
   "metadata": {
    "scrolled": true
   },
   "outputs": [
    {
     "data": {
      "text/plain": [
       "<bound method NDFrame.head of            id  diagnosis  radius_mean  texture_mean  perimeter_mean  \\\n",
       "0      842302          1     1.102422     -2.071512        1.268389   \n",
       "1      842517          1     1.836635     -0.353322        1.684639   \n",
       "2    84300903          1     1.586206      0.455786        1.565122   \n",
       "3    84348301          1    -0.767260      0.253509       -0.595257   \n",
       "4    84358402          1     1.756953     -1.150804        1.775308   \n",
       "..        ...        ...          ...           ...             ...   \n",
       "564    926424          1     2.118368      0.720838        2.059677   \n",
       "565    926682          1     1.711420      2.083301        1.614577   \n",
       "566    926954          1     0.706858      2.043775        0.670803   \n",
       "567    927241          1     1.845172      2.334403        1.981372   \n",
       "568     92751          0    -1.808817      1.220718       -1.817631   \n",
       "\n",
       "     area_mean  smoothness_mean  compactness_mean  concavity_mean  \\\n",
       "0     0.983510         1.567087          3.280628        2.650837   \n",
       "1     1.907030        -0.826235         -0.486643       -0.025417   \n",
       "2     1.557513         0.941382          1.052000        1.361666   \n",
       "3    -0.763792         3.280667          3.399917        1.913989   \n",
       "4     1.824624         0.280125          0.538866        1.369198   \n",
       "..         ...              ...               ...             ...   \n",
       "564   2.341795         1.040926          0.218868        1.945370   \n",
       "565   1.722326         0.102368         -0.017817        0.691347   \n",
       "566   0.577445        -0.839745         -0.038646        0.045004   \n",
       "567   1.733693         1.524426          3.269267        3.294795   \n",
       "568  -1.346604        -3.109349         -1.149741       -1.116254   \n",
       "\n",
       "     concave points_mean  ...  radius_worst  texture_worst  perimeter_worst  \\\n",
       "0               2.530249  ...      1.885031      -1.358098         2.301575   \n",
       "1               0.547662  ...      1.804340      -0.368879         1.533776   \n",
       "2               2.035440  ...      1.510541      -0.023953         1.346291   \n",
       "3               1.450431  ...     -0.281217       0.133866        -0.249720   \n",
       "4               1.427237  ...      1.297434      -1.465481         1.337363   \n",
       "..                   ...  ...           ...            ...              ...   \n",
       "564             2.318924  ...      1.899514       0.117596         1.751022   \n",
       "565             1.262558  ...      1.535369       2.045599         1.420690   \n",
       "566             0.105684  ...      0.560868       1.373645         0.578492   \n",
       "567             2.656528  ...      1.959515       2.235958         2.301575   \n",
       "568            -1.260710  ...     -1.409652       0.763518        -1.431475   \n",
       "\n",
       "     area_worst  smoothness_worst  compactness_worst  concavity_worst  \\\n",
       "0      1.998658          1.306537           2.614365         2.107374   \n",
       "1      1.887973         -0.375282          -0.430066        -0.147968   \n",
       "2      1.454016          0.526944           1.081980         0.853340   \n",
       "3     -0.551147          3.391291           3.889975         1.987485   \n",
       "4      1.218589          0.220362          -0.313119         0.611645   \n",
       "..          ...               ...                ...              ...   \n",
       "564    2.012713          0.378033          -0.273077         0.662958   \n",
       "565    1.492668         -0.690623          -0.394473         0.235195   \n",
       "566    0.426222         -0.808876           0.350427         0.325352   \n",
       "567    1.650790          1.429169           3.901415         3.195002   \n",
       "568   -1.076640         -1.857384          -1.206491        -1.306570   \n",
       "\n",
       "     concave points_worst  symmetry_worst  fractal_dimension_worst  \n",
       "0                2.294058        2.748204                 1.935312  \n",
       "1                1.086129       -0.243675                 0.280943  \n",
       "2                1.953282        1.151242                 0.201214  \n",
       "3                2.173873        6.040726                 4.930672  \n",
       "4                0.728618       -0.867590                -0.396751  \n",
       "..                    ...             ...                      ...  \n",
       "564              1.627719       -1.358963                -0.708467  \n",
       "565              0.733182       -0.531387                -0.973122  \n",
       "566              0.413705       -1.103578                -0.318129  \n",
       "567              2.287972        1.917396                 2.217684  \n",
       "568             -1.743529       -0.048096                -0.750546  \n",
       "\n",
       "[569 rows x 32 columns]>"
      ]
     },
     "execution_count": 8,
     "metadata": {},
     "output_type": "execute_result"
    }
   ],
   "source": [
    "# The Normalized DataSet is shown below\n",
    "normalized_df.head"
   ]
  },
  {
   "cell_type": "markdown",
   "id": "378cdd4b",
   "metadata": {},
   "source": [
    "### Removing rows that contain NuLL values "
   ]
  },
  {
   "cell_type": "code",
   "execution_count": 9,
   "id": "dd171d3c",
   "metadata": {},
   "outputs": [],
   "source": [
    "df.dropna(inplace=True)"
   ]
  },
  {
   "cell_type": "markdown",
   "id": "c65548af",
   "metadata": {},
   "source": [
    "### Training- Testing Split (Initial DataFrame)"
   ]
  },
  {
   "cell_type": "code",
   "execution_count": 10,
   "id": "d4b0a952",
   "metadata": {},
   "outputs": [],
   "source": [
    "df = np.asarray(df)\n",
    "np.random.shuffle(df[0:568])"
   ]
  },
  {
   "cell_type": "code",
   "execution_count": 11,
   "id": "b0c09aac",
   "metadata": {},
   "outputs": [],
   "source": [
    "x = df[:, 2:]\n",
    "y = df[:, 1]"
   ]
  },
  {
   "cell_type": "code",
   "execution_count": 12,
   "id": "22073b88",
   "metadata": {},
   "outputs": [
    {
     "name": "stdout",
     "output_type": "stream",
     "text": [
      "No. of training examples: (381, 30)\n",
      "No. of testing examples: (188, 30)\n"
     ]
    }
   ],
   "source": [
    "x_train,x_test = np.split(x,[int(0.67 * len(df))])\n",
    "\n",
    "print(f\"No. of training examples: {x_train.shape}\")\n",
    "print(f\"No. of testing examples: {x_test.shape}\")"
   ]
  },
  {
   "cell_type": "code",
   "execution_count": 13,
   "id": "27961034",
   "metadata": {
    "scrolled": true
   },
   "outputs": [
    {
     "name": "stdout",
     "output_type": "stream",
     "text": [
      "No. of training examples: (381,)\n",
      "No. of testing examples: (188,)\n"
     ]
    }
   ],
   "source": [
    "y_train,y_test = np.split(y,[int(0.67 * len(df))])\n",
    "\n",
    "print(f\"No. of training examples: {y_train.shape}\")\n",
    "print(f\"No. of testing examples: {y_test.shape}\")"
   ]
  },
  {
   "cell_type": "markdown",
   "id": "ff12304c",
   "metadata": {},
   "source": [
    "### Training- Testing Split (Normalized DataFrame)\n"
   ]
  },
  {
   "cell_type": "code",
   "execution_count": 14,
   "id": "b27efd03",
   "metadata": {},
   "outputs": [],
   "source": [
    "normalized_df = np.asarray(normalized_df)\n",
    "np.random.shuffle(normalized_df[0:568])"
   ]
  },
  {
   "cell_type": "code",
   "execution_count": 15,
   "id": "a7544002",
   "metadata": {},
   "outputs": [],
   "source": [
    "x_norm = df[:, 2:]\n",
    "y_norm = df[:, 1]"
   ]
  },
  {
   "cell_type": "code",
   "execution_count": 16,
   "id": "ba36ca5c",
   "metadata": {},
   "outputs": [
    {
     "name": "stdout",
     "output_type": "stream",
     "text": [
      "No. of training examples: (381, 30)\n",
      "No. of testing examples: (188, 30)\n"
     ]
    }
   ],
   "source": [
    "x_train_norm,x_test_norm = np.split(x_norm,[int(0.67 * len(df))])\n",
    "\n",
    "print(f\"No. of training examples: {x_train_norm.shape}\")\n",
    "print(f\"No. of testing examples: {x_test_norm.shape}\")"
   ]
  },
  {
   "cell_type": "code",
   "execution_count": 17,
   "id": "011f4dfe",
   "metadata": {},
   "outputs": [
    {
     "name": "stdout",
     "output_type": "stream",
     "text": [
      "No. of training examples: (381,)\n",
      "No. of testing examples: (188,)\n"
     ]
    }
   ],
   "source": [
    "y_train_norm,y_test_norm = np.split(y_norm,[int(0.67 * len(df))])\n",
    "\n",
    "print(f\"No. of training examples: {y_train_norm.shape}\")\n",
    "print(f\"No. of testing examples: {y_test_norm.shape}\")"
   ]
  },
  {
   "cell_type": "markdown",
   "id": "9c5c22c1",
   "metadata": {},
   "source": [
    "# Part A - Perceptron Learning Algorithm:"
   ]
  },
  {
   "cell_type": "code",
   "execution_count": 18,
   "id": "bea6f25c",
   "metadata": {},
   "outputs": [],
   "source": [
    "    def _unit_step_func(x):\n",
    "        return np.where(x >= 0, 1, 0)"
   ]
  },
  {
   "cell_type": "code",
   "execution_count": 19,
   "id": "944d0865",
   "metadata": {},
   "outputs": [],
   "source": [
    "    def fit(X, y, z, a):\n",
    "        n_samples, n_features = X.shape\n",
    "        \n",
    "        weights = np.zeros(n_features)\n",
    "        bias = 0\n",
    "\n",
    "        y_ = np.array([1 if i > 0 else 0 for i in y])\n",
    "\n",
    "        for _ in range(n_iters):\n",
    "\n",
    "            for idx, x_i in enumerate(X):\n",
    "\n",
    "                linear_output = np.dot(x_i, weights) + bias\n",
    "                y_predicted = _unit_step_func(linear_output)\n",
    "\n",
    "                # Perceptron update rule\n",
    "                update = learning_rate * (y_[idx] - y_predicted)\n",
    "\n",
    "                weights += update * x_i\n",
    "                bias += update\n",
    "\n",
    "        linear_output = np.dot(z, weights) + bias\n",
    "        y_predicted = _unit_step_func(linear_output)\n",
    "        accuracy = np.sum(a == y_predicted) / len(a)\n",
    "        \n",
    "        return weights, bias, accuracy\n",
    "    "
   ]
  },
  {
   "cell_type": "code",
   "execution_count": 20,
   "id": "51d6cb93",
   "metadata": {},
   "outputs": [],
   "source": [
    "def plot(X_train, weights, bias):\n",
    "\tfig = plt.figure()\n",
    "\tax = fig.add_subplot(1, 1, 1)\n",
    "\tplt.scatter(X_train[:, 0], X_train[:, 1], marker=\"o\", c=y_train)\n",
    "\n",
    "\tx0_1 = np.amin(X_train[:, 0])\n",
    "\tx0_2 = np.amax(X_train[:, 0])\n",
    "\n",
    "\tx1_1 = (-weights[0] * x0_1 - bias) / weights[1]\n",
    "\tx1_2 = (-weights[0] * x0_2 - bias) / weights[1]\n",
    "\n",
    "\tax.plot([x0_1, x0_2], [x1_1, x1_2], \"k\")\n",
    "\n",
    "\tymin = np.amin(X_train[:, 1])\n",
    "\tymax = np.amax(X_train[:, 1])\n",
    "\tax.set_ylim([ymin - 3, ymax + 3])\n",
    "\n",
    "\tplt.show()"
   ]
  },
  {
   "cell_type": "markdown",
   "id": "763211fb",
   "metadata": {},
   "source": [
    "## PM1"
   ]
  },
  {
   "cell_type": "code",
   "execution_count": 21,
   "id": "83e152a9",
   "metadata": {},
   "outputs": [],
   "source": [
    "x_train_PM1 = x_train\n",
    "y_train_PM1 = y_train\n",
    "x_test_PM1 = x_test\n",
    "y_test_PM1 = y_test"
   ]
  },
  {
   "cell_type": "code",
   "execution_count": 22,
   "id": "0d393ca5",
   "metadata": {
    "scrolled": false
   },
   "outputs": [
    {
     "name": "stdout",
     "output_type": "stream",
     "text": [
      "Perceptron classification accuracy: 0.9521276595744681\n"
     ]
    }
   ],
   "source": [
    "learning_rate=0.01\n",
    "n_iters=100\n",
    "weights, bias, predictions = fit(x_train_PM1, y_train_PM1, x_test_PM1, y_test_PM1)\n",
    "print(\"Perceptron classification accuracy:\", predictions)    \n"
   ]
  },
  {
   "cell_type": "code",
   "execution_count": 23,
   "id": "7be49854",
   "metadata": {},
   "outputs": [
    {
     "data": {
      "image/png": "[encoded data removed]",
      "text/plain": [
       "<Figure size 432x288 with 1 Axes>"
      ]
     },
     "metadata": {
      "needs_background": "light"
     },
     "output_type": "display_data"
    }
   ],
   "source": [
    "plot(x_train_PM1, weights, bias)"
   ]
  },
  {
   "cell_type": "markdown",
   "id": "9446e58b",
   "metadata": {},
   "source": [
    "## PM2"
   ]
  },
  {
   "cell_type": "code",
   "execution_count": 24,
   "id": "930fa241",
   "metadata": {
    "scrolled": false
   },
   "outputs": [],
   "source": [
    "df_array = np.asarray(df)\n",
    "np.random.shuffle(df_array[0:568])"
   ]
  },
  {
   "cell_type": "code",
   "execution_count": 25,
   "id": "f949c107",
   "metadata": {},
   "outputs": [],
   "source": [
    "x_PM2 = df_array[:, 2:]\n",
    "y_PM2 = df_array[:, 1]"
   ]
  },
  {
   "cell_type": "code",
   "execution_count": 26,
   "id": "e9f2f7f8",
   "metadata": {},
   "outputs": [],
   "source": [
    "x_train_PM2,x_test_PM2 = np.split(x_PM2,[int(0.67 * len(df))])\n",
    "y_train_PM2,y_test_PM2 = np.split(y_PM2,[int(0.67 * len(df))])\n"
   ]
  },
  {
   "cell_type": "code",
   "execution_count": 27,
   "id": "58fbeb04",
   "metadata": {
    "scrolled": false
   },
   "outputs": [
    {
     "name": "stdout",
     "output_type": "stream",
     "text": [
      "Perceptron classification accuracy: 0.9521276595744681\n"
     ]
    }
   ],
   "source": [
    "learning_rate=0.01\n",
    "n_iters=100\n",
    "weights, bias, predictions = fit(x_train_PM2, y_train_PM2, x_test_PM2, y_test_PM2)\n",
    "print(\"Perceptron classification accuracy:\", predictions)    \n"
   ]
  },
  {
   "cell_type": "code",
   "execution_count": 28,
   "id": "7fd5d0a8",
   "metadata": {},
   "outputs": [
    {
     "data": {
      "image/png": "[encoded data removed]",
      "text/plain": [
       "<Figure size 432x288 with 1 Axes>"
      ]
     },
     "metadata": {
      "needs_background": "light"
     },
     "output_type": "display_data"
    }
   ],
   "source": [
    "plot(x_train_PM2, weights, bias)"
   ]
  },
  {
   "cell_type": "markdown",
   "id": "bb340b1d",
   "metadata": {},
   "source": [
    "## PM3"
   ]
  },
  {
   "cell_type": "code",
   "execution_count": 29,
   "id": "ba9d709a",
   "metadata": {},
   "outputs": [],
   "source": [
    "x_train_PM3 = x_train_norm\n",
    "y_train_PM3 = y_train_norm\n",
    "x_test_PM3 = x_test_norm\n",
    "y_test_PM3 = y_test_norm"
   ]
  },
  {
   "cell_type": "code",
   "execution_count": 30,
   "id": "63d18351",
   "metadata": {},
   "outputs": [
    {
     "name": "stdout",
     "output_type": "stream",
     "text": [
      "Perceptron classification accuracy: 0.9521276595744681\n"
     ]
    }
   ],
   "source": [
    "learning_rate=0.01\n",
    "n_iters=100\n",
    "weights, bias, predictions = fit(x_train_PM3, y_train_PM3, x_test_PM3, y_test_PM3)\n",
    "print(\"Perceptron classification accuracy:\", predictions)    \n"
   ]
  },
  {
   "cell_type": "code",
   "execution_count": 31,
   "id": "030e9e18",
   "metadata": {},
   "outputs": [
    {
     "data": {
      "image/png": "[encoded data removed]",
      "text/plain": [
       "<Figure size 432x288 with 1 Axes>"
      ]
     },
     "metadata": {
      "needs_background": "light"
     },
     "output_type": "display_data"
    }
   ],
   "source": [
    "plot(x_train_PM1, weights, bias)"
   ]
  },
  {
   "cell_type": "markdown",
   "id": "3f2e9cf7",
   "metadata": {},
   "source": [
    "## PM4"
   ]
  },
  {
   "cell_type": "code",
   "execution_count": 32,
   "id": "fea6b823",
   "metadata": {},
   "outputs": [],
   "source": [
    "#Change the order of features in the dataset randomly.\n",
    "\n",
    "x=np.random.randint(30, size=(30))\n",
    "x_train_PM2 = x_train\n",
    "x_train_PM2[:, x] = x_train_PM2[:, x]\n",
    "x_test_PM2 = x_test\n",
    "x_test_PM2[:, x] = x_test_PM2[:, x]\n",
    "y_train_PM2 = y_train\n",
    "y_test_PM2 = y_test"
   ]
  },
  {
   "cell_type": "code",
   "execution_count": 33,
   "id": "661176e5",
   "metadata": {},
   "outputs": [
    {
     "name": "stdout",
     "output_type": "stream",
     "text": [
      "Perceptron classification accuracy: 0.9521276595744681\n"
     ]
    }
   ],
   "source": [
    "learning_rate=0.01\n",
    "n_iters=100\n",
    "weights, bias, predictions = fit(x_train_PM2, y_train_PM2, x_test_PM2, y_test_PM2)\n",
    "print(\"Perceptron classification accuracy:\", predictions)    \n"
   ]
  },
  {
   "cell_type": "code",
   "execution_count": 34,
   "id": "360655ae",
   "metadata": {
    "scrolled": true
   },
   "outputs": [
    {
     "data": {
      "image/png": "[encoded data removed]",
      "text/plain": [
       "<Figure size 432x288 with 1 Axes>"
      ]
     },
     "metadata": {
      "needs_background": "light"
     },
     "output_type": "display_data"
    }
   ],
   "source": [
    "plot(x_train_PM1, weights, bias)"
   ]
  },
  {
   "cell_type": "markdown",
   "id": "432ae887",
   "metadata": {},
   "source": [
    "# Part B – Fisher’s Linear Discriminant Analysis:"
   ]
  },
  {
   "cell_type": "markdown",
   "id": "4f8cd084",
   "metadata": {},
   "source": [
    "## Learning Task 1:"
   ]
  },
  {
   "cell_type": "code",
   "execution_count": 35,
   "id": "f7f31d63",
   "metadata": {},
   "outputs": [],
   "source": [
    "from sklearn.discriminant_analysis import LinearDiscriminantAnalysis as LDA\n",
    "lda = LDA(n_components=1)\n",
    "x_train_lda = lda.fit_transform(x_train, y_train)\n",
    "x_test_lda = lda.transform(x_test)"
   ]
  },
  {
   "cell_type": "code",
   "execution_count": 36,
   "id": "37c7e2f8",
   "metadata": {},
   "outputs": [
    {
     "data": {
      "text/plain": [
       "((381, 1), (188, 1))"
      ]
     },
     "execution_count": 36,
     "metadata": {},
     "output_type": "execute_result"
    }
   ],
   "source": [
    "x_train_lda.shape, x_test_lda.shape"
   ]
  },
  {
   "cell_type": "code",
   "execution_count": 37,
   "id": "049f9856",
   "metadata": {},
   "outputs": [
    {
     "name": "stdout",
     "output_type": "stream",
     "text": [
      "Accuracy 0.9202127659574468\n"
     ]
    }
   ],
   "source": [
    "from sklearn.ensemble import RandomForestClassifier\n",
    "\n",
    "classifier = RandomForestClassifier(max_depth=2, random_state=0)\n",
    "\n",
    "classifier.fit(x_train, y_train)\n",
    "y_pred = classifier.predict(x_test)\n",
    "\n",
    "\n",
    "from sklearn.metrics import accuracy_score\n",
    "print('Accuracy ' + str(accuracy_score(y_test, y_pred)))\n"
   ]
  },
  {
   "cell_type": "code",
   "execution_count": 38,
   "id": "685513c3",
   "metadata": {},
   "outputs": [
    {
     "data": {
      "image/png": "[encoded data removed]",
      "text/plain": [
       "<Figure size 720x720 with 1 Axes>"
      ]
     },
     "metadata": {
      "needs_background": "light"
     },
     "output_type": "display_data"
    }
   ],
   "source": [
    "markers = ['s','x']\n",
    "colors = ['r','b']\n",
    "\n",
    "fig = plt.figure(figsize=(10,10))\n",
    "ax0 = fig.add_subplot(111)\n",
    "\n",
    "for l,m,c in zip(np.unique(y_train),markers,colors):\n",
    "    ax0.scatter(x_train_lda[:,0][y_train==l],x_train_lda[:,0][y_train==l],c=c,marker=m)\n",
    "    "
   ]
  },
  {
   "cell_type": "markdown",
   "id": "37e707a4",
   "metadata": {},
   "source": [
    "## Learning Task 2:"
   ]
  },
  {
   "cell_type": "code",
   "execution_count": 39,
   "id": "6649692f",
   "metadata": {},
   "outputs": [],
   "source": [
    "#Change the order of features in the dataset randomly.\n",
    "\n",
    "x=np.random.randint(30, size=(30))\n",
    "x_train_FLDM2 = x_train\n",
    "x_train_FLDM2[:, x] = x_train_FLDM2[:, x]\n",
    "x_test_FLDM2 = x_test\n",
    "x_test_FLDM2[:, x] = x_test_FLDM2[:, x]"
   ]
  },
  {
   "cell_type": "code",
   "execution_count": 40,
   "id": "1cae172b",
   "metadata": {
    "scrolled": true
   },
   "outputs": [
    {
     "data": {
      "text/plain": [
       "array([[ 1.40976685,  1.28349351,  1.49506013, ...,  2.0491249 ,\n",
       "         2.85973284,  1.09926853],\n",
       "       [-0.11842027, -0.3835468 , -0.17570978, ..., -0.3626255 ,\n",
       "        -0.6186704 , -0.7942863 ],\n",
       "       [ 0.26291506, -0.59279872,  0.27639545, ..., -0.19482378,\n",
       "        -1.16984861,  0.08549692],\n",
       "       ...,\n",
       "       [ 0.04094375,  0.08378249,  0.23930386, ...,  0.54605961,\n",
       "        -0.81263341,  1.34288377],\n",
       "       [ 1.55774773, -0.26497071,  1.59397103, ...,  1.6748799 ,\n",
       "         1.19973278,  0.45867118],\n",
       "       [-0.73880164, -1.01362759, -0.7481566 , ..., -0.28184335,\n",
       "        -0.38268208, -0.32421962]])"
      ]
     },
     "execution_count": 40,
     "metadata": {},
     "output_type": "execute_result"
    }
   ],
   "source": [
    "x_train_FLDM2\n",
    "#Viewing the changed dataset"
   ]
  },
  {
   "cell_type": "code",
   "execution_count": 41,
   "id": "d6cf0e1a",
   "metadata": {},
   "outputs": [],
   "source": [
    "from sklearn.discriminant_analysis import LinearDiscriminantAnalysis as LDA\n",
    "lda = LDA(n_components=1)\n",
    "x_train_lda_FLDM2 = lda.fit_transform(x_train_FLDM2, y_train)\n",
    "x_test_lda_FLDM2 = lda.transform(x_test_FLDM2)"
   ]
  },
  {
   "cell_type": "code",
   "execution_count": 42,
   "id": "59e3831a",
   "metadata": {},
   "outputs": [
    {
     "name": "stdout",
     "output_type": "stream",
     "text": [
      "Accuracy 0.9202127659574468\n"
     ]
    }
   ],
   "source": [
    "from sklearn.ensemble import RandomForestClassifier\n",
    "\n",
    "classifier = RandomForestClassifier(max_depth=2, random_state=0)\n",
    "\n",
    "classifier.fit(x_train, y_train)\n",
    "y_pred = classifier.predict(x_test)\n",
    "\n",
    "\n",
    "from sklearn.metrics import accuracy_score\n",
    "print('Accuracy ' + str(accuracy_score(y_test, y_pred)))\n"
   ]
  },
  {
   "cell_type": "code",
   "execution_count": 43,
   "id": "87785f31",
   "metadata": {},
   "outputs": [
    {
     "data": {
      "text/plain": [
       "((381, 1), (188, 1))"
      ]
     },
     "execution_count": 43,
     "metadata": {},
     "output_type": "execute_result"
    }
   ],
   "source": [
    "x_train_lda_FLDM2.shape, x_test_lda_FLDM2.shape"
   ]
  },
  {
   "cell_type": "code",
   "execution_count": 44,
   "id": "ac576ac3",
   "metadata": {},
   "outputs": [
    {
     "data": {
      "image/png": "[encoded data removed]",
      "text/plain": [
       "<Figure size 720x720 with 1 Axes>"
      ]
     },
     "metadata": {
      "needs_background": "light"
     },
     "output_type": "display_data"
    }
   ],
   "source": [
    "markers = ['s','x']\n",
    "colors = ['r','b']\n",
    "\n",
    "fig = plt.figure(figsize=(10,10))\n",
    "ax0 = fig.add_subplot(111)\n",
    "\n",
    "for l,m,c in zip(np.unique(y_train),markers,colors):\n",
    "    ax0.scatter(x_train_lda_FLDM2[:,0][y_train==l],x_train_lda_FLDM2[:,0][y_train==l],c=c,marker=m)\n",
    "    "
   ]
  },
  {
   "cell_type": "markdown",
   "id": "79258e82",
   "metadata": {},
   "source": [
    "# Part C – Logistic Regression:"
   ]
  },
  {
   "cell_type": "code",
   "execution_count": 45,
   "id": "1a90ccc4",
   "metadata": {},
   "outputs": [],
   "source": [
    "def sigmoid(x):\n",
    "    return 1/(1 + np.exp(-x))"
   ]
  },
  {
   "cell_type": "code",
   "execution_count": 46,
   "id": "52bb2087",
   "metadata": {},
   "outputs": [],
   "source": [
    "def model_Batch_Gradient_Descent(X, Y, learning_rate, iterations):\n",
    "    \n",
    "    m = X.shape[1] #Number of Features\n",
    "    n = X.shape[0] #Total Samples\n",
    "    \n",
    "    W = np.zeros((n,1))\n",
    "    B = 0\n",
    "    \n",
    "    cost_list = []\n",
    "    \n",
    "    for i in range(iterations):\n",
    "        \n",
    "        Z = np.dot(W.T, X) + B\n",
    "        A = sigmoid(Z)\n",
    "        \n",
    "        # cost function\n",
    "        cost = -(1/m)*np.sum( Y*np.log(A) + (1-Y)*np.log(1-A))\n",
    "        \n",
    "        # Batch Gradient Descent\n",
    "        dW = (1/m)*np.dot(A-Y, X.T)\n",
    "        dB = (1/m)*np.sum(A - Y)\n",
    "        \n",
    "        W = W - learning_rate*dW.T\n",
    "        B = B - learning_rate*dB\n",
    "        \n",
    "        # Keeping track of our cost function value\n",
    "        cost_list.append(cost)\n",
    "        \n",
    "        if(i%(iterations/10) == 0):\n",
    "            print(\"cost after \", i, \"iteration is : \", cost)\n",
    "        \n",
    "    return W, B, cost_list"
   ]
  },
  {
   "cell_type": "code",
   "execution_count": 47,
   "id": "9d98ae67",
   "metadata": {},
   "outputs": [],
   "source": [
    "def model_Stochastic_Gradient_Descent(X, Y, learning_rate, iterations):\n",
    "    \n",
    "    m = X.shape[1] #Number of Features\n",
    "    n = X.shape[0] #Total Samples\n",
    "    \n",
    "    W = np.ones((m,1))\n",
    "    B = 0\n",
    "    \n",
    "    cost_list = []\n",
    "    \n",
    "    for i in range(iterations):\n",
    "        random_index = np.random.randint(0,n-1) # random index from total samples\n",
    "        sample_x = X[random_index]\n",
    "        sample_x = sample_x.reshape(381, 1)\n",
    "                                   \n",
    "        \n",
    "        Z = np.dot(W.T, sample_x) + B\n",
    "        A = sigmoid(Z)\n",
    "        \n",
    "        # cost function\n",
    "        cost = -(1/m)*np.sum( Y*np.log(A) + (1-Y)*np.log(1-A))\n",
    "        \n",
    "        # Batch Gradient Descent\n",
    "        dW = (1/m)*np.dot(A-Y, sample_x)\n",
    "        dB = (1/m)*np.sum(A - Y)\n",
    "        \n",
    "        W = W - learning_rate*dW.T\n",
    "        B = B - learning_rate*dB\n",
    "        \n",
    "        # Keeping track of our cost function value\n",
    "        cost_list.append(cost)\n",
    "        \n",
    "        if(i%(iterations/10) == 0):\n",
    "            print(\"cost after \", i, \"iteration is : \", cost)\n",
    "        \n",
    "    return W, B, cost_list"
   ]
  },
  {
   "cell_type": "code",
   "execution_count": 48,
   "id": "a765b550",
   "metadata": {},
   "outputs": [],
   "source": [
    "def model_Mini_Batch_Gradient_Descent(X, Y, learning_rate, iterations):\n",
    "    \n",
    "    m = x_train_LR.shape[1]\n",
    "    n = x_train_LR.shape[0]\n",
    "    \n",
    "    W_T = np.zeros((n,1)) \n",
    "    B_T = 0\n",
    "\t\n",
    "    cost_list_T = []\n",
    "    \n",
    "    for j in range(4):\n",
    "        m = x_split[j].shape[1]\n",
    "        n = x_split[j].shape[0]\n",
    "\n",
    "        W = np.zeros((n,1))\n",
    "        B = 0\n",
    "\t\t\n",
    "        cost_list = []\n",
    "\n",
    "        for i in range(iterations):\n",
    "\n",
    "            Z = np.dot(W.T, x_split[j]) + B\n",
    "            A = sigmoid(Z)\n",
    "\n",
    "            # cost function\n",
    "            cost = -(1/m)*np.sum( y_split[j]*np.log(A) + (1-y_split[j])*np.log(1-A))\n",
    "\n",
    "            # Batch Gradient Descent\n",
    "            dW = (1/m)*np.dot(A-y_split, x_split[j].T)\n",
    "            dB = (1/m)*np.sum(A - y_split[j])\n",
    "\n",
    "            W = W - learning_rate*dW.T\n",
    "            B = B - learning_rate*dB\n",
    "\n",
    "            # Keeping track of our cost function value\n",
    "            \n",
    "\n",
    "            if(i%(iterations/10) == 0):\n",
    "                epoch_list.append(i)\n",
    "                cost_list.append(cost)\n",
    "                print(\"cost after \", i, \"iteration is : \", cost)\n",
    "                \n",
    "        B_T += B\n",
    "        W_T += W\n",
    "        cost_list_T += cost_list\n",
    "\n",
    "    return W_T/4, B_T/4, cost_list_T/4"
   ]
  },
  {
   "cell_type": "code",
   "execution_count": 49,
   "id": "3d40d8eb",
   "metadata": {},
   "outputs": [],
   "source": [
    "def accuracy(X, Y, W, B):\n",
    "    \n",
    "    Z = np.dot(W.T, X) + B\n",
    "    A = sigmoid(Z)\n",
    "# We can alter the value of Probability Threshhold\n",
    "    A = A > 0.5\n",
    "    \n",
    "    A = np.array(A, dtype = 'int64')\n",
    "    \n",
    "    acc = (1 - np.sum(np.absolute(A - Y))/Y.shape[1])*100\n",
    "    \n",
    "    print(\"Accuracy of the model is : \", round(acc, 2), \"%\")\n"
   ]
  },
  {
   "cell_type": "markdown",
   "id": "9b909438",
   "metadata": {},
   "source": [
    "## Learning Task 1"
   ]
  },
  {
   "cell_type": "code",
   "execution_count": 50,
   "id": "7dd3cb28",
   "metadata": {},
   "outputs": [],
   "source": [
    "x_train_LR = x_train\n",
    "y_train_LR = y_train\n",
    "x_test_LR = x_test\n",
    "y_test_LR = y_test"
   ]
  },
  {
   "cell_type": "code",
   "execution_count": 51,
   "id": "9eeb7fa0",
   "metadata": {},
   "outputs": [],
   "source": [
    "x_train_LR = x_train_LR.T\n",
    "y_train_LR = y_train_LR.reshape(1, 381)\n",
    "\n",
    "x_test_LR = x_test_LR.T\n",
    "y_test_LR = y_test_LR.reshape(1, 188)"
   ]
  },
  {
   "cell_type": "code",
   "execution_count": 52,
   "id": "e737d642",
   "metadata": {
    "scrolled": true
   },
   "outputs": [
    {
     "name": "stdout",
     "output_type": "stream",
     "text": [
      "Shape of X_train :  (30, 381)\n",
      "Shape of Y_train :  (1, 381)\n",
      "Shape of X_test :  (30, 188)\n",
      "Shape of Y_test :  (1, 188)\n"
     ]
    }
   ],
   "source": [
    "print(\"Shape of X_train : \", x_train_LR.shape)\n",
    "print(\"Shape of Y_train : \", y_train_LR.shape)\n",
    "print(\"Shape of X_test : \", x_test_LR.shape)\n",
    "print(\"Shape of Y_test : \", y_test_LR.shape)"
   ]
  },
  {
   "cell_type": "markdown",
   "id": "2b5aa944",
   "metadata": {},
   "source": [
    "### Batch Gradient Decent"
   ]
  },
  {
   "cell_type": "code",
   "execution_count": 53,
   "id": "9ac2dad8",
   "metadata": {
    "scrolled": false
   },
   "outputs": [
    {
     "name": "stdout",
     "output_type": "stream",
     "text": [
      "cost after  0 iteration is :  0.6931471805599452\n",
      "cost after  400 iteration is :  0.14127107585852494\n",
      "cost after  800 iteration is :  0.11010038918047367\n",
      "cost after  1200 iteration is :  0.09663747034529648\n",
      "cost after  1600 iteration is :  0.08871728960656672\n",
      "cost after  2000 iteration is :  0.0833387763869995\n",
      "cost after  2400 iteration is :  0.07936837724033809\n",
      "cost after  2800 iteration is :  0.07627311196110377\n",
      "cost after  3200 iteration is :  0.07376576054560234\n",
      "cost after  3600 iteration is :  nan\n"
     ]
    },
    {
     "name": "stderr",
     "output_type": "stream",
     "text": [
      "C:\\Users\\bhask\\AppData\\Local\\Temp\\ipykernel_11160\\3346428379.py:17: RuntimeWarning: divide by zero encountered in log\n",
      "  cost = -(1/m)*np.sum( Y*np.log(A) + (1-Y)*np.log(1-A))\n",
      "C:\\Users\\bhask\\AppData\\Local\\Temp\\ipykernel_11160\\3346428379.py:17: RuntimeWarning: invalid value encountered in multiply\n",
      "  cost = -(1/m)*np.sum( Y*np.log(A) + (1-Y)*np.log(1-A))\n"
     ]
    }
   ],
   "source": [
    "iterations = 4000\n",
    "# We can alter the value of learning_rate\n",
    "learning_rate = 0.01\n",
    "W, B, cost_list = model_Batch_Gradient_Descent(x_train_LR, y_train_LR, learning_rate = learning_rate, iterations = iterations)"
   ]
  },
  {
   "cell_type": "code",
   "execution_count": 54,
   "id": "f1f1d36a",
   "metadata": {
    "scrolled": true
   },
   "outputs": [
    {
     "data": {
      "image/png": "[encoded data removed]",
      "text/plain": [
       "<Figure size 432x288 with 1 Axes>"
      ]
     },
     "metadata": {
      "needs_background": "light"
     },
     "output_type": "display_data"
    }
   ],
   "source": [
    "plt.plot(np.arange(iterations), cost_list)\n",
    "plt.show()"
   ]
  },
  {
   "cell_type": "code",
   "execution_count": 55,
   "id": "52a1e74a",
   "metadata": {},
   "outputs": [
    {
     "name": "stdout",
     "output_type": "stream",
     "text": [
      "Accuracy of the model is :  98.4 %\n"
     ]
    }
   ],
   "source": [
    "accuracy(x_test_LR, y_test_LR, W, B)\n"
   ]
  },
  {
   "cell_type": "markdown",
   "id": "3f59397a",
   "metadata": {},
   "source": [
    "#### Comparison with Sckitlearn learn"
   ]
  },
  {
   "cell_type": "code",
   "execution_count": 56,
   "id": "e62affc6",
   "metadata": {},
   "outputs": [
    {
     "data": {
      "text/plain": [
       "0.9840425531914894"
      ]
     },
     "execution_count": 56,
     "metadata": {},
     "output_type": "execute_result"
    }
   ],
   "source": [
    "from sklearn.linear_model import LogisticRegression\n",
    "logmodel = LogisticRegression()\n",
    "\n",
    "logmodel.fit(x_train, y_train)\n",
    "predictions = logmodel.predict(x_test)\n",
    "\n",
    "from sklearn.metrics import accuracy_score\n",
    "accuracy_score(y_test,predictions)"
   ]
  },
  {
   "cell_type": "markdown",
   "id": "15a65956",
   "metadata": {},
   "source": [
    "### Stochastic Gradient Descent (Not Working Properly)"
   ]
  },
  {
   "cell_type": "code",
   "execution_count": 57,
   "id": "a5227cae",
   "metadata": {
    "scrolled": false
   },
   "outputs": [
    {
     "name": "stdout",
     "output_type": "stream",
     "text": [
      "cost after  0 iteration is :  3.3326068937187925\n",
      "cost after  100 iteration is :  0.6698968605174126\n",
      "cost after  200 iteration is :  21.566821870374373\n",
      "cost after  300 iteration is :  13.0772826503561\n",
      "cost after  400 iteration is :  31.324107416601105\n",
      "cost after  500 iteration is :  nan\n",
      "cost after  600 iteration is :  25.369127351018086\n",
      "cost after  700 iteration is :  nan\n",
      "cost after  800 iteration is :  nan\n",
      "cost after  900 iteration is :  83.94422653481352\n"
     ]
    },
    {
     "name": "stderr",
     "output_type": "stream",
     "text": [
      "C:\\Users\\bhask\\AppData\\Local\\Temp\\ipykernel_11160\\2088371014.py:21: RuntimeWarning: divide by zero encountered in log\n",
      "  cost = -(1/m)*np.sum( Y*np.log(A) + (1-Y)*np.log(1-A))\n",
      "C:\\Users\\bhask\\AppData\\Local\\Temp\\ipykernel_11160\\2088371014.py:21: RuntimeWarning: invalid value encountered in multiply\n",
      "  cost = -(1/m)*np.sum( Y*np.log(A) + (1-Y)*np.log(1-A))\n"
     ]
    }
   ],
   "source": [
    "iterations = 1000\n",
    "# We can alter the value of learning_rate\n",
    "learning_rate = 0.1\n",
    "W, B, cost_list = model_Stochastic_Gradient_Descent(x_train_LR, y_train_LR, learning_rate = learning_rate, iterations = iterations)"
   ]
  },
  {
   "cell_type": "code",
   "execution_count": 58,
   "id": "75411987",
   "metadata": {
    "scrolled": false
   },
   "outputs": [
    {
     "data": {
      "image/png": "[encoded data removed]",
      "text/plain": [
       "<Figure size 432x288 with 1 Axes>"
      ]
     },
     "metadata": {
      "needs_background": "light"
     },
     "output_type": "display_data"
    }
   ],
   "source": [
    "plt.plot(np.arange(iterations), cost_list)\n",
    "plt.show()"
   ]
  },
  {
   "cell_type": "code",
   "execution_count": 59,
   "id": "98da2b0b",
   "metadata": {
    "scrolled": true
   },
   "outputs": [
    {
     "ename": "ValueError",
     "evalue": "shapes (1,381) and (30,188) not aligned: 381 (dim 1) != 30 (dim 0)",
     "output_type": "error",
     "traceback": [
      "\u001b[1;31m---------------------------------------------------------------------------\u001b[0m",
      "\u001b[1;31mValueError\u001b[0m                                Traceback (most recent call last)",
      "Input \u001b[1;32mIn [59]\u001b[0m, in \u001b[0;36m<cell line: 1>\u001b[1;34m()\u001b[0m\n\u001b[1;32m----> 1\u001b[0m \u001b[43maccuracy\u001b[49m\u001b[43m(\u001b[49m\u001b[43mx_test_LR\u001b[49m\u001b[43m,\u001b[49m\u001b[43m \u001b[49m\u001b[43my_test_LR\u001b[49m\u001b[43m,\u001b[49m\u001b[43m \u001b[49m\u001b[43mW\u001b[49m\u001b[43m,\u001b[49m\u001b[43m \u001b[49m\u001b[43mB\u001b[49m\u001b[43m)\u001b[49m\n",
      "Input \u001b[1;32mIn [49]\u001b[0m, in \u001b[0;36maccuracy\u001b[1;34m(X, Y, W, B)\u001b[0m\n\u001b[0;32m      1\u001b[0m \u001b[38;5;28;01mdef\u001b[39;00m \u001b[38;5;21maccuracy\u001b[39m(X, Y, W, B):\n\u001b[1;32m----> 3\u001b[0m     Z \u001b[38;5;241m=\u001b[39m \u001b[43mnp\u001b[49m\u001b[38;5;241;43m.\u001b[39;49m\u001b[43mdot\u001b[49m\u001b[43m(\u001b[49m\u001b[43mW\u001b[49m\u001b[38;5;241;43m.\u001b[39;49m\u001b[43mT\u001b[49m\u001b[43m,\u001b[49m\u001b[43m \u001b[49m\u001b[43mX\u001b[49m\u001b[43m)\u001b[49m \u001b[38;5;241m+\u001b[39m B\n\u001b[0;32m      4\u001b[0m     A \u001b[38;5;241m=\u001b[39m sigmoid(Z)\n\u001b[0;32m      5\u001b[0m \u001b[38;5;66;03m# We can alter the value of Probability Threshhold\u001b[39;00m\n",
      "File \u001b[1;32m<__array_function__ internals>:5\u001b[0m, in \u001b[0;36mdot\u001b[1;34m(*args, **kwargs)\u001b[0m\n",
      "\u001b[1;31mValueError\u001b[0m: shapes (1,381) and (30,188) not aligned: 381 (dim 1) != 30 (dim 0)"
     ]
    }
   ],
   "source": [
    "#accuracy(x_test_LR, y_test_LR, W, B)\n"
   ]
  },
  {
   "cell_type": "markdown",
   "id": "033ee2b8",
   "metadata": {},
   "source": [
    "### Mini Batch Gradient Descent"
   ]
  },
  {
   "cell_type": "code",
   "execution_count": null,
   "id": "b356d688",
   "metadata": {},
   "outputs": [],
   "source": [
    "x_split = np.array_split(x_train_LR, 4, axis=1)\n",
    "\n",
    "y_split = np.array_split(y_train_LR, 4, axis=1)"
   ]
  },
  {
   "cell_type": "code",
   "execution_count": null,
   "id": "012a091b",
   "metadata": {},
   "outputs": [],
   "source": [
    "x_split[0].shape"
   ]
  },
  {
   "cell_type": "code",
   "execution_count": null,
   "id": "3e8f31a9",
   "metadata": {
    "scrolled": true
   },
   "outputs": [],
   "source": [
    "iterations = 10000\n",
    "# We can alter the value of learning_rate\n",
    "learning_rate = 0.01\n",
    "W_T = np.zeros((x_train_LR.shape[0],1))\n",
    "B_T = 0\n",
    "cost_list = []\n",
    "for i in range(4):\n",
    "\tW, B, cost_list1 = model_Batch_Gradient_Descent(x_split[0], y_split[0], learning_rate = learning_rate, iterations = iterations)\n",
    "W_T += W\n",
    "B_T += B\n",
    "cost_list +=  cost_list1\n"
   ]
  },
  {
   "cell_type": "code",
   "execution_count": null,
   "id": "b203aed0",
   "metadata": {
    "scrolled": false
   },
   "outputs": [],
   "source": [
    "plt.plot(np.arange(iterations), cost_list)\n",
    "plt.show()"
   ]
  },
  {
   "cell_type": "code",
   "execution_count": null,
   "id": "c6a7917c",
   "metadata": {},
   "outputs": [],
   "source": [
    "accuracy(x_test_LR, y_test_LR, W_T/4, B_T/4)\n"
   ]
  },
  {
   "cell_type": "markdown",
   "id": "e6fe7181",
   "metadata": {},
   "source": [
    "## Learning Task 2"
   ]
  },
  {
   "cell_type": "code",
   "execution_count": 61,
   "id": "56e6b479",
   "metadata": {},
   "outputs": [],
   "source": [
    "x_train_norm_LR = x_train_norm\n",
    "y_train_norm_LR = y_train_norm\n",
    "x_test_norm_LR = x_test_norm\n",
    "y_test_norm_LR = y_test_norm"
   ]
  },
  {
   "cell_type": "code",
   "execution_count": 62,
   "id": "fa8c73fe",
   "metadata": {},
   "outputs": [],
   "source": [
    "x_train_norm_LR = x_train_norm_LR.T\n",
    "y_train_norm_LR = y_train_norm_LR.reshape(1, 381)\n",
    "\n",
    "x_test_norm_LR = x_test_norm_LR.T\n",
    "y_test_norm_LR = y_test_norm_LR.reshape(1, 188)"
   ]
  },
  {
   "cell_type": "code",
   "execution_count": 63,
   "id": "c8400dfa",
   "metadata": {},
   "outputs": [
    {
     "name": "stdout",
     "output_type": "stream",
     "text": [
      "Shape of X_train :  (30, 381)\n",
      "Shape of Y_train :  (1, 381)\n",
      "Shape of X_test :  (30, 188)\n",
      "Shape of Y_test :  (1, 188)\n"
     ]
    }
   ],
   "source": [
    "print(\"Shape of X_train : \", x_train_norm_LR.shape)\n",
    "print(\"Shape of Y_train : \", y_train_norm_LR.shape)\n",
    "print(\"Shape of X_test : \", x_test_norm_LR.shape)\n",
    "print(\"Shape of Y_test : \", y_test_norm_LR.shape)"
   ]
  },
  {
   "cell_type": "markdown",
   "id": "5916e26d",
   "metadata": {},
   "source": [
    "### Batch Gradient Decent\n"
   ]
  },
  {
   "cell_type": "code",
   "execution_count": 64,
   "id": "e6074816",
   "metadata": {
    "scrolled": true
   },
   "outputs": [
    {
     "name": "stdout",
     "output_type": "stream",
     "text": [
      "cost after  0 iteration is :  0.6931471805599452\n",
      "cost after  400 iteration is :  0.14127107585852494\n",
      "cost after  800 iteration is :  0.11010038918047367\n",
      "cost after  1200 iteration is :  0.09663747034529648\n",
      "cost after  1600 iteration is :  0.08871728960656672\n",
      "cost after  2000 iteration is :  0.0833387763869995\n",
      "cost after  2400 iteration is :  0.07936837724033809\n",
      "cost after  2800 iteration is :  0.07627311196110377\n",
      "cost after  3200 iteration is :  0.07376576054560234\n",
      "cost after  3600 iteration is :  nan\n"
     ]
    },
    {
     "name": "stderr",
     "output_type": "stream",
     "text": [
      "C:\\Users\\bhask\\AppData\\Local\\Temp\\ipykernel_11160\\3346428379.py:17: RuntimeWarning: divide by zero encountered in log\n",
      "  cost = -(1/m)*np.sum( Y*np.log(A) + (1-Y)*np.log(1-A))\n",
      "C:\\Users\\bhask\\AppData\\Local\\Temp\\ipykernel_11160\\3346428379.py:17: RuntimeWarning: invalid value encountered in multiply\n",
      "  cost = -(1/m)*np.sum( Y*np.log(A) + (1-Y)*np.log(1-A))\n"
     ]
    }
   ],
   "source": [
    "iterations = 4000\n",
    "# We can alter the value of learning_rate\n",
    "learning_rate = 0.01\n",
    "W, B, cost_list = model_Batch_Gradient_Descent(x_train_norm_LR, y_train_norm_LR, learning_rate = learning_rate, iterations = iterations)"
   ]
  },
  {
   "cell_type": "code",
   "execution_count": 65,
   "id": "8be89d97",
   "metadata": {},
   "outputs": [
    {
     "data": {
      "image/png": "[encoded data removed]",
      "text/plain": [
       "<Figure size 432x288 with 1 Axes>"
      ]
     },
     "metadata": {
      "needs_background": "light"
     },
     "output_type": "display_data"
    }
   ],
   "source": [
    "plt.plot(np.arange(iterations), cost_list)\n",
    "plt.show()"
   ]
  },
  {
   "cell_type": "code",
   "execution_count": 66,
   "id": "65f092bc",
   "metadata": {},
   "outputs": [
    {
     "name": "stdout",
     "output_type": "stream",
     "text": [
      "Accuracy of the model is :  98.4 %\n"
     ]
    }
   ],
   "source": [
    "accuracy(x_test_norm_LR, y_test_norm_LR, W, B)\n"
   ]
  },
  {
   "cell_type": "markdown",
   "id": "fc2b0d26",
   "metadata": {},
   "source": [
    "### Comparison with Sckitlearn learn"
   ]
  },
  {
   "cell_type": "code",
   "execution_count": 67,
   "id": "af0c9f11",
   "metadata": {},
   "outputs": [
    {
     "data": {
      "text/plain": [
       "0.9840425531914894"
      ]
     },
     "execution_count": 67,
     "metadata": {},
     "output_type": "execute_result"
    }
   ],
   "source": [
    "from sklearn.linear_model import LogisticRegression\n",
    "logmodel = LogisticRegression()\n",
    "\n",
    "logmodel.fit(x_train_norm, y_train_norm)\n",
    "predictions = logmodel.predict(x_test_norm)\n",
    "\n",
    "from sklearn.metrics import accuracy_score\n",
    "accuracy_score(y_test_norm,predictions)"
   ]
  },
  {
   "cell_type": "markdown",
   "id": "8e2b1a37",
   "metadata": {},
   "source": [
    "### Stochastic Gradient Descent (Not Working Properly)"
   ]
  },
  {
   "cell_type": "code",
   "execution_count": 68,
   "id": "f802d420",
   "metadata": {
    "scrolled": false
   },
   "outputs": [
    {
     "ename": "NameError",
     "evalue": "name 'n_epochs' is not defined",
     "output_type": "error",
     "traceback": [
      "\u001b[1;31m---------------------------------------------------------------------------\u001b[0m",
      "\u001b[1;31mNameError\u001b[0m                                 Traceback (most recent call last)",
      "Input \u001b[1;32mIn [68]\u001b[0m, in \u001b[0;36m<cell line: 4>\u001b[1;34m()\u001b[0m\n\u001b[0;32m      2\u001b[0m \u001b[38;5;66;03m# We can alter the value of learning_rate\u001b[39;00m\n\u001b[0;32m      3\u001b[0m learning_rate \u001b[38;5;241m=\u001b[39m \u001b[38;5;241m0.01\u001b[39m\n\u001b[1;32m----> 4\u001b[0m W, B, cost_list \u001b[38;5;241m=\u001b[39m model_Stochastic_Gradient_Descent(x_train_norm_LR, y_train_norm_LR, learning_rate \u001b[38;5;241m=\u001b[39m learning_rate, n_epochs \u001b[38;5;241m=\u001b[39m \u001b[43mn_epochs\u001b[49m, iterations \u001b[38;5;241m=\u001b[39m iterations)\n",
      "\u001b[1;31mNameError\u001b[0m: name 'n_epochs' is not defined"
     ]
    }
   ],
   "source": [
    "iterations = 10000\n",
    "# We can alter the value of learning_rate\n",
    "learning_rate = 0.01\n",
    "W, B, cost_list = model_Stochastic_Gradient_Descent(x_train_norm_LR, y_train_norm_LR, learning_rate = learning_rate, n_epochs = n_epochs, iterations = iterations)"
   ]
  },
  {
   "cell_type": "code",
   "execution_count": 69,
   "id": "24f7ad29",
   "metadata": {
    "scrolled": false
   },
   "outputs": [
    {
     "ename": "ValueError",
     "evalue": "x and y must have same first dimension, but have shapes (10000,) and (4000,)",
     "output_type": "error",
     "traceback": [
      "\u001b[1;31m---------------------------------------------------------------------------\u001b[0m",
      "\u001b[1;31mValueError\u001b[0m                                Traceback (most recent call last)",
      "Input \u001b[1;32mIn [69]\u001b[0m, in \u001b[0;36m<cell line: 1>\u001b[1;34m()\u001b[0m\n\u001b[1;32m----> 1\u001b[0m \u001b[43mplt\u001b[49m\u001b[38;5;241;43m.\u001b[39;49m\u001b[43mplot\u001b[49m\u001b[43m(\u001b[49m\u001b[43mnp\u001b[49m\u001b[38;5;241;43m.\u001b[39;49m\u001b[43marange\u001b[49m\u001b[43m(\u001b[49m\u001b[43miterations\u001b[49m\u001b[43m)\u001b[49m\u001b[43m,\u001b[49m\u001b[43m \u001b[49m\u001b[43mcost_list\u001b[49m\u001b[43m)\u001b[49m\n\u001b[0;32m      2\u001b[0m plt\u001b[38;5;241m.\u001b[39mshow()\n",
      "File \u001b[1;32m~\\anaconda3\\lib\\site-packages\\matplotlib\\pyplot.py:2757\u001b[0m, in \u001b[0;36mplot\u001b[1;34m(scalex, scaley, data, *args, **kwargs)\u001b[0m\n\u001b[0;32m   2755\u001b[0m \u001b[38;5;129m@_copy_docstring_and_deprecators\u001b[39m(Axes\u001b[38;5;241m.\u001b[39mplot)\n\u001b[0;32m   2756\u001b[0m \u001b[38;5;28;01mdef\u001b[39;00m \u001b[38;5;21mplot\u001b[39m(\u001b[38;5;241m*\u001b[39margs, scalex\u001b[38;5;241m=\u001b[39m\u001b[38;5;28;01mTrue\u001b[39;00m, scaley\u001b[38;5;241m=\u001b[39m\u001b[38;5;28;01mTrue\u001b[39;00m, data\u001b[38;5;241m=\u001b[39m\u001b[38;5;28;01mNone\u001b[39;00m, \u001b[38;5;241m*\u001b[39m\u001b[38;5;241m*\u001b[39mkwargs):\n\u001b[1;32m-> 2757\u001b[0m     \u001b[38;5;28;01mreturn\u001b[39;00m gca()\u001b[38;5;241m.\u001b[39mplot(\n\u001b[0;32m   2758\u001b[0m         \u001b[38;5;241m*\u001b[39margs, scalex\u001b[38;5;241m=\u001b[39mscalex, scaley\u001b[38;5;241m=\u001b[39mscaley,\n\u001b[0;32m   2759\u001b[0m         \u001b[38;5;241m*\u001b[39m\u001b[38;5;241m*\u001b[39m({\u001b[38;5;124m\"\u001b[39m\u001b[38;5;124mdata\u001b[39m\u001b[38;5;124m\"\u001b[39m: data} \u001b[38;5;28;01mif\u001b[39;00m data \u001b[38;5;129;01mis\u001b[39;00m \u001b[38;5;129;01mnot\u001b[39;00m \u001b[38;5;28;01mNone\u001b[39;00m \u001b[38;5;28;01melse\u001b[39;00m {}), \u001b[38;5;241m*\u001b[39m\u001b[38;5;241m*\u001b[39mkwargs)\n",
      "File \u001b[1;32m~\\anaconda3\\lib\\site-packages\\matplotlib\\axes\\_axes.py:1632\u001b[0m, in \u001b[0;36mAxes.plot\u001b[1;34m(self, scalex, scaley, data, *args, **kwargs)\u001b[0m\n\u001b[0;32m   1390\u001b[0m \u001b[38;5;124;03m\"\"\"\u001b[39;00m\n\u001b[0;32m   1391\u001b[0m \u001b[38;5;124;03mPlot y versus x as lines and/or markers.\u001b[39;00m\n\u001b[0;32m   1392\u001b[0m \n\u001b[1;32m   (...)\u001b[0m\n\u001b[0;32m   1629\u001b[0m \u001b[38;5;124;03m(``'green'``) or hex strings (``'#008000'``).\u001b[39;00m\n\u001b[0;32m   1630\u001b[0m \u001b[38;5;124;03m\"\"\"\u001b[39;00m\n\u001b[0;32m   1631\u001b[0m kwargs \u001b[38;5;241m=\u001b[39m cbook\u001b[38;5;241m.\u001b[39mnormalize_kwargs(kwargs, mlines\u001b[38;5;241m.\u001b[39mLine2D)\n\u001b[1;32m-> 1632\u001b[0m lines \u001b[38;5;241m=\u001b[39m [\u001b[38;5;241m*\u001b[39m\u001b[38;5;28mself\u001b[39m\u001b[38;5;241m.\u001b[39m_get_lines(\u001b[38;5;241m*\u001b[39margs, data\u001b[38;5;241m=\u001b[39mdata, \u001b[38;5;241m*\u001b[39m\u001b[38;5;241m*\u001b[39mkwargs)]\n\u001b[0;32m   1633\u001b[0m \u001b[38;5;28;01mfor\u001b[39;00m line \u001b[38;5;129;01min\u001b[39;00m lines:\n\u001b[0;32m   1634\u001b[0m     \u001b[38;5;28mself\u001b[39m\u001b[38;5;241m.\u001b[39madd_line(line)\n",
      "File \u001b[1;32m~\\anaconda3\\lib\\site-packages\\matplotlib\\axes\\_base.py:312\u001b[0m, in \u001b[0;36m_process_plot_var_args.__call__\u001b[1;34m(self, data, *args, **kwargs)\u001b[0m\n\u001b[0;32m    310\u001b[0m     this \u001b[38;5;241m+\u001b[39m\u001b[38;5;241m=\u001b[39m args[\u001b[38;5;241m0\u001b[39m],\n\u001b[0;32m    311\u001b[0m     args \u001b[38;5;241m=\u001b[39m args[\u001b[38;5;241m1\u001b[39m:]\n\u001b[1;32m--> 312\u001b[0m \u001b[38;5;28;01myield from\u001b[39;00m \u001b[38;5;28;43mself\u001b[39;49m\u001b[38;5;241;43m.\u001b[39;49m\u001b[43m_plot_args\u001b[49m\u001b[43m(\u001b[49m\u001b[43mthis\u001b[49m\u001b[43m,\u001b[49m\u001b[43m \u001b[49m\u001b[43mkwargs\u001b[49m\u001b[43m)\u001b[49m\n",
      "File \u001b[1;32m~\\anaconda3\\lib\\site-packages\\matplotlib\\axes\\_base.py:498\u001b[0m, in \u001b[0;36m_process_plot_var_args._plot_args\u001b[1;34m(self, tup, kwargs, return_kwargs)\u001b[0m\n\u001b[0;32m    495\u001b[0m     \u001b[38;5;28mself\u001b[39m\u001b[38;5;241m.\u001b[39maxes\u001b[38;5;241m.\u001b[39myaxis\u001b[38;5;241m.\u001b[39mupdate_units(y)\n\u001b[0;32m    497\u001b[0m \u001b[38;5;28;01mif\u001b[39;00m x\u001b[38;5;241m.\u001b[39mshape[\u001b[38;5;241m0\u001b[39m] \u001b[38;5;241m!=\u001b[39m y\u001b[38;5;241m.\u001b[39mshape[\u001b[38;5;241m0\u001b[39m]:\n\u001b[1;32m--> 498\u001b[0m     \u001b[38;5;28;01mraise\u001b[39;00m \u001b[38;5;167;01mValueError\u001b[39;00m(\u001b[38;5;124mf\u001b[39m\u001b[38;5;124m\"\u001b[39m\u001b[38;5;124mx and y must have same first dimension, but \u001b[39m\u001b[38;5;124m\"\u001b[39m\n\u001b[0;32m    499\u001b[0m                      \u001b[38;5;124mf\u001b[39m\u001b[38;5;124m\"\u001b[39m\u001b[38;5;124mhave shapes \u001b[39m\u001b[38;5;132;01m{\u001b[39;00mx\u001b[38;5;241m.\u001b[39mshape\u001b[38;5;132;01m}\u001b[39;00m\u001b[38;5;124m and \u001b[39m\u001b[38;5;132;01m{\u001b[39;00my\u001b[38;5;241m.\u001b[39mshape\u001b[38;5;132;01m}\u001b[39;00m\u001b[38;5;124m\"\u001b[39m)\n\u001b[0;32m    500\u001b[0m \u001b[38;5;28;01mif\u001b[39;00m x\u001b[38;5;241m.\u001b[39mndim \u001b[38;5;241m>\u001b[39m \u001b[38;5;241m2\u001b[39m \u001b[38;5;129;01mor\u001b[39;00m y\u001b[38;5;241m.\u001b[39mndim \u001b[38;5;241m>\u001b[39m \u001b[38;5;241m2\u001b[39m:\n\u001b[0;32m    501\u001b[0m     \u001b[38;5;28;01mraise\u001b[39;00m \u001b[38;5;167;01mValueError\u001b[39;00m(\u001b[38;5;124mf\u001b[39m\u001b[38;5;124m\"\u001b[39m\u001b[38;5;124mx and y can be no greater than 2D, but have \u001b[39m\u001b[38;5;124m\"\u001b[39m\n\u001b[0;32m    502\u001b[0m                      \u001b[38;5;124mf\u001b[39m\u001b[38;5;124m\"\u001b[39m\u001b[38;5;124mshapes \u001b[39m\u001b[38;5;132;01m{\u001b[39;00mx\u001b[38;5;241m.\u001b[39mshape\u001b[38;5;132;01m}\u001b[39;00m\u001b[38;5;124m and \u001b[39m\u001b[38;5;132;01m{\u001b[39;00my\u001b[38;5;241m.\u001b[39mshape\u001b[38;5;132;01m}\u001b[39;00m\u001b[38;5;124m\"\u001b[39m)\n",
      "\u001b[1;31mValueError\u001b[0m: x and y must have same first dimension, but have shapes (10000,) and (4000,)"
     ]
    },
    {
     "data": {
      "image/png": "[encoded data removed]",
      "text/plain": [
       "<Figure size 432x288 with 1 Axes>"
      ]
     },
     "metadata": {
      "needs_background": "light"
     },
     "output_type": "display_data"
    }
   ],
   "source": [
    "plt.plot(np.arange(iterations), cost_list)\n",
    "plt.show()"
   ]
  },
  {
   "cell_type": "code",
   "execution_count": null,
   "id": "9172d1b6",
   "metadata": {
    "scrolled": true
   },
   "outputs": [],
   "source": [
    "accuracy(x_test_norm_LR, y_test_norm_LR, W, B)\n"
   ]
  },
  {
   "cell_type": "markdown",
   "id": "50661bd7",
   "metadata": {},
   "source": [
    "### Mini Batch Gradient Descent"
   ]
  },
  {
   "cell_type": "code",
   "execution_count": null,
   "id": "168318c6",
   "metadata": {},
   "outputs": [],
   "source": [
    "x_split = np.array_split(x_train_norm_LR, 4, axis=1)\n",
    "\n",
    "y_split = np.array_split(y_train_norm_LR, 4, axis=1)"
   ]
  },
  {
   "cell_type": "code",
   "execution_count": null,
   "id": "bc36d73a",
   "metadata": {},
   "outputs": [],
   "source": [
    "x_split[0].shape"
   ]
  },
  {
   "cell_type": "code",
   "execution_count": null,
   "id": "d2671746",
   "metadata": {
    "scrolled": true
   },
   "outputs": [],
   "source": [
    "iterations = 10000\n",
    "# We can alter the value of learning_rate\n",
    "learning_rate = 0.01\n",
    "W_T = np.zeros((x_train_norm_LR.shape[0],1))\n",
    "B_T = 0\n",
    "cost_list = []\n",
    "for i in range(4):\n",
    "\tW, B, cost_list1 = model_Batch_Gradient_Descent(x_split[0], y_split[0], learning_rate = learning_rate, iterations = iterations)\n",
    "W_T += W\n",
    "B_T += B\n",
    "cost_list +=  cost_list1\n"
   ]
  },
  {
   "cell_type": "code",
   "execution_count": null,
   "id": "af9df111",
   "metadata": {
    "scrolled": false
   },
   "outputs": [],
   "source": [
    "plt.plot(np.arange(iterations), cost_list)\n",
    "plt.show()"
   ]
  },
  {
   "cell_type": "code",
   "execution_count": null,
   "id": "1b35f065",
   "metadata": {},
   "outputs": [],
   "source": [
    "accuracy(x_test_norm_LR, y_test_norm_LR, W_T/4, B_T/4)\n"
   ]
  },
  {
   "cell_type": "code",
   "execution_count": null,
   "id": "45419928",
   "metadata": {},
   "outputs": [],
   "source": []
  }
 ],
 "metadata": {
  "kernelspec": {
   "display_name": "Python 3 (ipykernel)",
   "language": "python",
   "name": "python3"
  },
  "language_info": {
   "codemirror_mode": {
    "name": "ipython",
    "version": 3
   },
   "file_extension": ".py",
   "mimetype": "text/x-python",
   "name": "python",
   "nbconvert_exporter": "python",
   "pygments_lexer": "ipython3",
   "version": "3.9.12"
  }
 },
 "nbformat": 4,
 "nbformat_minor": 5
}
