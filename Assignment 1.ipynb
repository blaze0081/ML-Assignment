{
 "cells": [
  {
   "cell_type": "code",
   "execution_count": 1,
   "id": "9dce30f3",
   "metadata": {},
   "outputs": [],
   "source": [
    "import numpy as np\n",
    "import pandas as pd\n",
    "import matplotlib.pyplot as plt"
   ]
  },
  {
   "cell_type": "code",
   "execution_count": 2,
   "id": "4eefc2c3",
   "metadata": {},
   "outputs": [],
   "source": [
    "df = pd.read_csv('Dsata Set for Assignment 1.csv')"
   ]
  },
  {
   "cell_type": "code",
   "execution_count": 3,
   "id": "5cf30dbf",
   "metadata": {},
   "outputs": [],
   "source": [
    "df['diagnosis'] = df['diagnosis'].replace('B', 0)\n",
    "df['diagnosis'] = df['diagnosis'].replace('M', 1)"
   ]
  },
  {
   "cell_type": "markdown",
   "id": "17488c11",
   "metadata": {},
   "source": [
    "# Feature Engineering Task 1:"
   ]
  },
  {
   "cell_type": "code",
   "execution_count": 4,
   "id": "2768d8cf",
   "metadata": {},
   "outputs": [
    {
     "data": {
      "text/plain": [
       "id                         0\n",
       "diagnosis                  0\n",
       "radius_mean                1\n",
       "texture_mean               0\n",
       "perimeter_mean             1\n",
       "area_mean                  0\n",
       "smoothness_mean            0\n",
       "compactness_mean           0\n",
       "concavity_mean             1\n",
       "concave points_mean        0\n",
       "symmetry_mean              0\n",
       "fractal_dimension_mean     0\n",
       "radius_se                  0\n",
       "texture_se                 0\n",
       "perimeter_se               0\n",
       "area_se                    0\n",
       "smoothness_se              0\n",
       "compactness_se             1\n",
       "concavity_se               0\n",
       "concave points_se          0\n",
       "symmetry_se                0\n",
       "fractal_dimension_se       0\n",
       "radius_worst               0\n",
       "texture_worst              0\n",
       "perimeter_worst            0\n",
       "area_worst                 2\n",
       "smoothness_worst           0\n",
       "compactness_worst          0\n",
       "concavity_worst            1\n",
       "concave points_worst       0\n",
       "symmetry_worst             0\n",
       "fractal_dimension_worst    0\n",
       "dtype: int64"
      ]
     },
     "execution_count": 4,
     "metadata": {},
     "output_type": "execute_result"
    }
   ],
   "source": [
    "#We first need to undersatand the number of missing values in each column\n",
    "df.isnull().sum()"
   ]
  },
  {
   "cell_type": "code",
   "execution_count": 5,
   "id": "1c642c68",
   "metadata": {},
   "outputs": [],
   "source": [
    "#The NULL values are only present in continuous numerical values, so we fill it with the mean of exsisting values in the column\n",
    "df_new=df\n",
    "df_new['radius_mean'] = df_new['radius_mean'].replace(np.NaN, df_new['radius_mean'].mean())\n",
    "df_new['perimeter_mean'] = df_new['perimeter_mean'].replace(np.NaN, df_new['perimeter_mean'].mean())\n",
    "df_new['concavity_mean'] = df_new['concavity_mean'].replace(np.NaN, df_new['concavity_mean'].mean())\n",
    "df_new['compactness_se'] = df_new['compactness_se'].replace(np.NaN, df_new['compactness_se'].mean())\n",
    "df_new['area_worst'] = df_new['area_worst'].replace(np.NaN, df_new['area_worst'].mean())\n",
    "df_new['concavity_worst'] = df_new['concavity_worst'].replace(np.NaN, df_new['concavity_worst'].mean())"
   ]
  },
  {
   "cell_type": "code",
   "execution_count": 6,
   "id": "cba72be2",
   "metadata": {},
   "outputs": [
    {
     "data": {
      "text/plain": [
       "0"
      ]
     },
     "execution_count": 6,
     "metadata": {},
     "output_type": "execute_result"
    }
   ],
   "source": [
    "# We have successfully added the missing values\n",
    "df.isnull().sum().sum()"
   ]
  },
  {
   "cell_type": "markdown",
   "id": "b67549ea",
   "metadata": {},
   "source": [
    "# Feature Engineering Task 2"
   ]
  },
  {
   "cell_type": "code",
   "execution_count": 7,
   "id": "bddb3a72",
   "metadata": {},
   "outputs": [],
   "source": [
    "# Normalizing all the features and saving it in a new DataFrame\n",
    "normalized_df=df_new\n",
    "normalized_df.iloc[:,2:]=df_new.iloc[:,2:].apply(lambda x: (x-x.mean())/ x.std(), axis=0)"
   ]
  },
  {
   "cell_type": "code",
   "execution_count": 8,
   "id": "87a0a96c",
   "metadata": {},
   "outputs": [
    {
     "data": {
      "text/plain": [
       "<bound method NDFrame.head of            id  diagnosis  radius_mean  texture_mean  perimeter_mean  \\\n",
       "0      842302          1     1.102422     -2.071512        1.268389   \n",
       "1      842517          1     1.836635     -0.353322        1.684639   \n",
       "2    84300903          1     1.586206      0.455786        1.565122   \n",
       "3    84348301          1    -0.767260      0.253509       -0.595257   \n",
       "4    84358402          1     1.756953     -1.150804        1.775308   \n",
       "..        ...        ...          ...           ...             ...   \n",
       "564    926424          1     2.118368      0.720838        2.059677   \n",
       "565    926682          1     1.711420      2.083301        1.614577   \n",
       "566    926954          1     0.706858      2.043775        0.670803   \n",
       "567    927241          1     1.845172      2.334403        1.981372   \n",
       "568     92751          0    -1.808817      1.220718       -1.817631   \n",
       "\n",
       "     area_mean  smoothness_mean  compactness_mean  concavity_mean  \\\n",
       "0     0.983510         1.567087          3.280628        2.650837   \n",
       "1     1.907030        -0.826235         -0.486643       -0.025417   \n",
       "2     1.557513         0.941382          1.052000        1.361666   \n",
       "3    -0.763792         3.280667          3.399917        1.913989   \n",
       "4     1.824624         0.280125          0.538866        1.369198   \n",
       "..         ...              ...               ...             ...   \n",
       "564   2.341795         1.040926          0.218868        1.945370   \n",
       "565   1.722326         0.102368         -0.017817        0.691347   \n",
       "566   0.577445        -0.839745         -0.038646        0.045004   \n",
       "567   1.733693         1.524426          3.269267        3.294795   \n",
       "568  -1.346604        -3.109349         -1.149741       -1.116254   \n",
       "\n",
       "     concave points_mean  ...  radius_worst  texture_worst  perimeter_worst  \\\n",
       "0               2.530249  ...      1.885031      -1.358098         2.301575   \n",
       "1               0.547662  ...      1.804340      -0.368879         1.533776   \n",
       "2               2.035440  ...      1.510541      -0.023953         1.346291   \n",
       "3               1.450431  ...     -0.281217       0.133866        -0.249720   \n",
       "4               1.427237  ...      1.297434      -1.465481         1.337363   \n",
       "..                   ...  ...           ...            ...              ...   \n",
       "564             2.318924  ...      1.899514       0.117596         1.751022   \n",
       "565             1.262558  ...      1.535369       2.045599         1.420690   \n",
       "566             0.105684  ...      0.560868       1.373645         0.578492   \n",
       "567             2.656528  ...      1.959515       2.235958         2.301575   \n",
       "568            -1.260710  ...     -1.409652       0.763518        -1.431475   \n",
       "\n",
       "     area_worst  smoothness_worst  compactness_worst  concavity_worst  \\\n",
       "0      1.998658          1.306537           2.614365         2.107374   \n",
       "1      1.887973         -0.375282          -0.430066        -0.147968   \n",
       "2      1.454016          0.526944           1.081980         0.853340   \n",
       "3     -0.551147          3.391291           3.889975         1.987485   \n",
       "4      1.218589          0.220362          -0.313119         0.611645   \n",
       "..          ...               ...                ...              ...   \n",
       "564    2.012713          0.378033          -0.273077         0.662958   \n",
       "565    1.492668         -0.690623          -0.394473         0.235195   \n",
       "566    0.426222         -0.808876           0.350427         0.325352   \n",
       "567    1.650790          1.429169           3.901415         3.195002   \n",
       "568   -1.076640         -1.857384          -1.206491        -1.306570   \n",
       "\n",
       "     concave points_worst  symmetry_worst  fractal_dimension_worst  \n",
       "0                2.294058        2.748204                 1.935312  \n",
       "1                1.086129       -0.243675                 0.280943  \n",
       "2                1.953282        1.151242                 0.201214  \n",
       "3                2.173873        6.040726                 4.930672  \n",
       "4                0.728618       -0.867590                -0.396751  \n",
       "..                    ...             ...                      ...  \n",
       "564              1.627719       -1.358963                -0.708467  \n",
       "565              0.733182       -0.531387                -0.973122  \n",
       "566              0.413705       -1.103578                -0.318129  \n",
       "567              2.287972        1.917396                 2.217684  \n",
       "568             -1.743529       -0.048096                -0.750546  \n",
       "\n",
       "[569 rows x 32 columns]>"
      ]
     },
     "execution_count": 8,
     "metadata": {},
     "output_type": "execute_result"
    }
   ],
   "source": [
    "# The Normalized DataSet is shown below\n",
    "normalized_df.head"
   ]
  },
  {
   "cell_type": "markdown",
   "id": "6f4e9694",
   "metadata": {},
   "source": [
    "# Part A - Perceptron Learning Algorithm:"
   ]
  },
  {
   "cell_type": "markdown",
   "id": "26c44c84",
   "metadata": {},
   "source": [
    "# Part B – Fisher’s Linear Discriminant Analysis:"
   ]
  },
  {
   "cell_type": "markdown",
   "id": "939b4d0b",
   "metadata": {},
   "source": [
    "## Learning Task 1:"
   ]
  },
  {
   "cell_type": "code",
   "execution_count": 9,
   "id": "dd171d3c",
   "metadata": {},
   "outputs": [
    {
     "data": {
      "text/plain": [
       "(569, 32)"
      ]
     },
     "execution_count": 9,
     "metadata": {},
     "output_type": "execute_result"
    }
   ],
   "source": [
    "# Removing rows that contain NuLL values \n",
    "df.dropna().shape"
   ]
  },
  {
   "cell_type": "code",
   "execution_count": 10,
   "id": "b0c09aac",
   "metadata": {},
   "outputs": [],
   "source": [
    "target_name = \"diagnosis\"\n",
    "\n",
    "y = df[target_name]\n",
    "\n",
    "x = df.drop(['id', 'diagnosis'], axis=1)"
   ]
  },
  {
   "cell_type": "code",
   "execution_count": 11,
   "id": "22073b88",
   "metadata": {},
   "outputs": [
    {
     "name": "stdout",
     "output_type": "stream",
     "text": [
      "No. of training examples: (376, 30)\n",
      "No. of testing examples: (193, 30)\n"
     ]
    }
   ],
   "source": [
    "x_train = x.sample(frac=0.66, random_state=25)\n",
    "x_test = x.drop(x_train.index)\n",
    "\n",
    "print(f\"No. of training examples: {x_train.shape}\")\n",
    "print(f\"No. of testing examples: {x_test.shape}\")"
   ]
  },
  {
   "cell_type": "code",
   "execution_count": 12,
   "id": "27961034",
   "metadata": {},
   "outputs": [
    {
     "name": "stdout",
     "output_type": "stream",
     "text": [
      "No. of training examples: (376,)\n",
      "No. of testing examples: (193,)\n"
     ]
    }
   ],
   "source": [
    "y_train = y.sample(frac=0.66)\n",
    "y_test = y.drop(y_train.index)\n",
    "\n",
    "print(f\"No. of training examples: {y_train.shape}\")\n",
    "print(f\"No. of testing examples: {y_test.shape}\")"
   ]
  },
  {
   "cell_type": "code",
   "execution_count": 13,
   "id": "f7f31d63",
   "metadata": {},
   "outputs": [],
   "source": [
    "from sklearn.discriminant_analysis import LinearDiscriminantAnalysis as LDA\n",
    "lda = LDA(n_components=1)\n",
    "x_train_lda = lda.fit_transform(x_train, y_train)\n",
    "x_test_lda = lda.transform(x_test)"
   ]
  },
  {
   "cell_type": "code",
   "execution_count": 14,
   "id": "37c7e2f8",
   "metadata": {},
   "outputs": [
    {
     "data": {
      "text/plain": [
       "((376, 1), (193, 1))"
      ]
     },
     "execution_count": 14,
     "metadata": {},
     "output_type": "execute_result"
    }
   ],
   "source": [
    "x_train_lda.shape, x_test_lda.shape"
   ]
  },
  {
   "cell_type": "code",
   "execution_count": 15,
   "id": "685513c3",
   "metadata": {},
   "outputs": [
    {
     "data": {
      "image/png": "[encoded data removed]",
      "text/plain": [
       "<Figure size 720x720 with 1 Axes>"
      ]
     },
     "metadata": {
      "needs_background": "light"
     },
     "output_type": "display_data"
    }
   ],
   "source": [
    "markers = ['s','x']\n",
    "colors = ['r','b']\n",
    "\n",
    "fig = plt.figure(figsize=(10,10))\n",
    "ax0 = fig.add_subplot(111)\n",
    "\n",
    "for l,m,c in zip(np.unique(y_train),markers,colors):\n",
    "    ax0.scatter(x_train_lda[:,0][y_train==l],x_train_lda[:,0][y_train==l],c=c,marker=m)\n",
    "    "
   ]
  },
  {
   "cell_type": "markdown",
   "id": "37e707a4",
   "metadata": {},
   "source": [
    "## Learning Task 2:"
   ]
  },
  {
   "cell_type": "code",
   "execution_count": 16,
   "id": "6649692f",
   "metadata": {},
   "outputs": [],
   "source": [
    "#Change the order of features in the dataset randomly.\n",
    "\n",
    "x=np.random.randint(30, size=(30))\n",
    "\n",
    "x_train_FLDM2= x_train.iloc[:, x]\n",
    "x_test_FLDM2= x_train.iloc[:, x]\n"
   ]
  },
  {
   "cell_type": "code",
   "execution_count": 17,
   "id": "1cae172b",
   "metadata": {},
   "outputs": [
    {
     "data": {
      "text/html": [
       "<div>\n",
       "<style scoped>\n",
       "    .dataframe tbody tr th:only-of-type {\n",
       "        vertical-align: middle;\n",
       "    }\n",
       "\n",
       "    .dataframe tbody tr th {\n",
       "        vertical-align: top;\n",
       "    }\n",
       "\n",
       "    .dataframe thead th {\n",
       "        text-align: right;\n",
       "    }\n",
       "</style>\n",
       "<table border=\"1\" class=\"dataframe\">\n",
       "  <thead>\n",
       "    <tr style=\"text-align: right;\">\n",
       "      <th></th>\n",
       "      <th>smoothness_se</th>\n",
       "      <th>radius_se</th>\n",
       "      <th>radius_se</th>\n",
       "      <th>radius_mean</th>\n",
       "      <th>concave points_se</th>\n",
       "      <th>perimeter_worst</th>\n",
       "      <th>radius_se</th>\n",
       "      <th>concavity_se</th>\n",
       "      <th>texture_mean</th>\n",
       "      <th>smoothness_se</th>\n",
       "      <th>...</th>\n",
       "      <th>fractal_dimension_mean</th>\n",
       "      <th>fractal_dimension_se</th>\n",
       "      <th>texture_worst</th>\n",
       "      <th>symmetry_se</th>\n",
       "      <th>compactness_mean</th>\n",
       "      <th>texture_worst</th>\n",
       "      <th>fractal_dimension_worst</th>\n",
       "      <th>texture_mean</th>\n",
       "      <th>symmetry_worst</th>\n",
       "      <th>area_mean</th>\n",
       "    </tr>\n",
       "  </thead>\n",
       "  <tbody>\n",
       "    <tr>\n",
       "      <th>522</th>\n",
       "      <td>-0.946199</td>\n",
       "      <td>-0.976414</td>\n",
       "      <td>-0.976414</td>\n",
       "      <td>-0.812792</td>\n",
       "      <td>-1.252963</td>\n",
       "      <td>-0.919014</td>\n",
       "      <td>-0.976414</td>\n",
       "      <td>-0.929161</td>\n",
       "      <td>0.125633</td>\n",
       "      <td>-0.946199</td>\n",
       "      <td>...</td>\n",
       "      <td>0.089569</td>\n",
       "      <td>-0.566842</td>\n",
       "      <td>0.122477</td>\n",
       "      <td>-0.686190</td>\n",
       "      <td>-1.140084</td>\n",
       "      <td>0.122477</td>\n",
       "      <td>-0.432739</td>\n",
       "      <td>0.125633</td>\n",
       "      <td>-0.555632</td>\n",
       "      <td>-0.758109</td>\n",
       "    </tr>\n",
       "    <tr>\n",
       "      <th>120</th>\n",
       "      <td>-0.333380</td>\n",
       "      <td>-0.953335</td>\n",
       "      <td>-0.953335</td>\n",
       "      <td>-0.770105</td>\n",
       "      <td>-0.864812</td>\n",
       "      <td>-0.699983</td>\n",
       "      <td>-0.953335</td>\n",
       "      <td>-0.555015</td>\n",
       "      <td>-1.969211</td>\n",
       "      <td>-0.333380</td>\n",
       "      <td>...</td>\n",
       "      <td>-0.236193</td>\n",
       "      <td>-0.600477</td>\n",
       "      <td>-1.579371</td>\n",
       "      <td>-0.859180</td>\n",
       "      <td>-0.709885</td>\n",
       "      <td>-1.579371</td>\n",
       "      <td>0.071101</td>\n",
       "      <td>-1.969211</td>\n",
       "      <td>0.186276</td>\n",
       "      <td>-0.714916</td>\n",
       "    </tr>\n",
       "    <tr>\n",
       "      <th>241</th>\n",
       "      <td>-1.257604</td>\n",
       "      <td>-1.045289</td>\n",
       "      <td>-1.045289</td>\n",
       "      <td>-0.482681</td>\n",
       "      <td>-1.302069</td>\n",
       "      <td>-0.696710</td>\n",
       "      <td>-1.045289</td>\n",
       "      <td>-0.841472</td>\n",
       "      <td>-0.988052</td>\n",
       "      <td>-1.257604</td>\n",
       "      <td>...</td>\n",
       "      <td>-0.744666</td>\n",
       "      <td>-0.920196</td>\n",
       "      <td>-0.863489</td>\n",
       "      <td>-0.404325</td>\n",
       "      <td>-1.333219</td>\n",
       "      <td>-0.863489</td>\n",
       "      <td>-0.892286</td>\n",
       "      <td>-0.988052</td>\n",
       "      <td>0.000395</td>\n",
       "      <td>-0.506911</td>\n",
       "    </tr>\n",
       "    <tr>\n",
       "      <th>362</th>\n",
       "      <td>-0.477259</td>\n",
       "      <td>-0.663049</td>\n",
       "      <td>-0.663049</td>\n",
       "      <td>-0.385924</td>\n",
       "      <td>-0.291581</td>\n",
       "      <td>-0.578564</td>\n",
       "      <td>-0.663049</td>\n",
       "      <td>-0.550046</td>\n",
       "      <td>-0.104544</td>\n",
       "      <td>-0.477259</td>\n",
       "      <td>...</td>\n",
       "      <td>-0.137048</td>\n",
       "      <td>-0.628065</td>\n",
       "      <td>0.050889</td>\n",
       "      <td>-0.175688</td>\n",
       "      <td>-0.469981</td>\n",
       "      <td>0.050889</td>\n",
       "      <td>-0.640366</td>\n",
       "      <td>-0.104544</td>\n",
       "      <td>-0.253373</td>\n",
       "      <td>-0.449795</td>\n",
       "    </tr>\n",
       "    <tr>\n",
       "      <th>221</th>\n",
       "      <td>-0.396327</td>\n",
       "      <td>-0.534675</td>\n",
       "      <td>-0.534675</td>\n",
       "      <td>-0.158261</td>\n",
       "      <td>-0.556885</td>\n",
       "      <td>-0.183356</td>\n",
       "      <td>-0.534675</td>\n",
       "      <td>-0.213798</td>\n",
       "      <td>-1.253105</td>\n",
       "      <td>-0.396327</td>\n",
       "      <td>...</td>\n",
       "      <td>0.032915</td>\n",
       "      <td>-0.331398</td>\n",
       "      <td>-1.390639</td>\n",
       "      <td>-0.256739</td>\n",
       "      <td>0.281353</td>\n",
       "      <td>-1.390639</td>\n",
       "      <td>-0.120469</td>\n",
       "      <td>-1.253105</td>\n",
       "      <td>0.265478</td>\n",
       "      <td>-0.265943</td>\n",
       "    </tr>\n",
       "    <tr>\n",
       "      <th>...</th>\n",
       "      <td>...</td>\n",
       "      <td>...</td>\n",
       "      <td>...</td>\n",
       "      <td>...</td>\n",
       "      <td>...</td>\n",
       "      <td>...</td>\n",
       "      <td>...</td>\n",
       "      <td>...</td>\n",
       "      <td>...</td>\n",
       "      <td>...</td>\n",
       "      <td>...</td>\n",
       "      <td>...</td>\n",
       "      <td>...</td>\n",
       "      <td>...</td>\n",
       "      <td>...</td>\n",
       "      <td>...</td>\n",
       "      <td>...</td>\n",
       "      <td>...</td>\n",
       "      <td>...</td>\n",
       "      <td>...</td>\n",
       "      <td>...</td>\n",
       "    </tr>\n",
       "    <tr>\n",
       "      <th>34</th>\n",
       "      <td>-0.951195</td>\n",
       "      <td>-0.256649</td>\n",
       "      <td>-0.256649</td>\n",
       "      <td>0.573106</td>\n",
       "      <td>-0.442303</td>\n",
       "      <td>0.757049</td>\n",
       "      <td>-0.256649</td>\n",
       "      <td>-0.174044</td>\n",
       "      <td>-0.327746</td>\n",
       "      <td>-0.951195</td>\n",
       "      <td>...</td>\n",
       "      <td>0.333183</td>\n",
       "      <td>0.008351</td>\n",
       "      <td>0.257519</td>\n",
       "      <td>-0.424890</td>\n",
       "      <td>0.976261</td>\n",
       "      <td>0.257519</td>\n",
       "      <td>2.178927</td>\n",
       "      <td>-0.327746</td>\n",
       "      <td>2.213189</td>\n",
       "      <td>0.432807</td>\n",
       "    </tr>\n",
       "    <tr>\n",
       "      <th>266</th>\n",
       "      <td>0.142887</td>\n",
       "      <td>0.163454</td>\n",
       "      <td>0.163454</td>\n",
       "      <td>-1.000614</td>\n",
       "      <td>0.300450</td>\n",
       "      <td>-0.862471</td>\n",
       "      <td>0.163454</td>\n",
       "      <td>0.054538</td>\n",
       "      <td>-0.078969</td>\n",
       "      <td>0.142887</td>\n",
       "      <td>...</td>\n",
       "      <td>0.299190</td>\n",
       "      <td>-0.180231</td>\n",
       "      <td>-0.445348</td>\n",
       "      <td>1.753817</td>\n",
       "      <td>0.196146</td>\n",
       "      <td>-0.445348</td>\n",
       "      <td>-0.447135</td>\n",
       "      <td>-0.078969</td>\n",
       "      <td>0.063433</td>\n",
       "      <td>-0.876603</td>\n",
       "    </tr>\n",
       "    <tr>\n",
       "      <th>85</th>\n",
       "      <td>-0.189834</td>\n",
       "      <td>1.062079</td>\n",
       "      <td>1.062079</td>\n",
       "      <td>1.236174</td>\n",
       "      <td>0.389587</td>\n",
       "      <td>1.337363</td>\n",
       "      <td>1.062079</td>\n",
       "      <td>-0.127003</td>\n",
       "      <td>-0.178945</td>\n",
       "      <td>-0.189834</td>\n",
       "      <td>...</td>\n",
       "      <td>-0.365082</td>\n",
       "      <td>-0.015080</td>\n",
       "      <td>0.325853</td>\n",
       "      <td>0.381994</td>\n",
       "      <td>0.018159</td>\n",
       "      <td>0.325853</td>\n",
       "      <td>0.102107</td>\n",
       "      <td>-0.178945</td>\n",
       "      <td>1.283783</td>\n",
       "      <td>1.193788</td>\n",
       "    </tr>\n",
       "    <tr>\n",
       "      <th>518</th>\n",
       "      <td>-0.588832</td>\n",
       "      <td>0.134967</td>\n",
       "      <td>0.134967</td>\n",
       "      <td>-0.351775</td>\n",
       "      <td>0.104349</td>\n",
       "      <td>-0.236625</td>\n",
       "      <td>0.134967</td>\n",
       "      <td>-0.591124</td>\n",
       "      <td>-0.248696</td>\n",
       "      <td>-0.588832</td>\n",
       "      <td>...</td>\n",
       "      <td>1.378455</td>\n",
       "      <td>-0.187411</td>\n",
       "      <td>-0.212686</td>\n",
       "      <td>-0.288192</td>\n",
       "      <td>1.169396</td>\n",
       "      <td>-0.212686</td>\n",
       "      <td>0.275960</td>\n",
       "      <td>-0.248696</td>\n",
       "      <td>-0.515223</td>\n",
       "      <td>-0.459740</td>\n",
       "    </tr>\n",
       "    <tr>\n",
       "      <th>423</th>\n",
       "      <td>-1.019471</td>\n",
       "      <td>-0.651871</td>\n",
       "      <td>-0.651871</td>\n",
       "      <td>-0.129803</td>\n",
       "      <td>0.152969</td>\n",
       "      <td>-0.174428</td>\n",
       "      <td>-0.651871</td>\n",
       "      <td>0.158891</td>\n",
       "      <td>-0.037119</td>\n",
       "      <td>-1.019471</td>\n",
       "      <td>...</td>\n",
       "      <td>-0.139881</td>\n",
       "      <td>0.060881</td>\n",
       "      <td>-0.028834</td>\n",
       "      <td>-0.572476</td>\n",
       "      <td>0.196146</td>\n",
       "      <td>-0.028834</td>\n",
       "      <td>0.246062</td>\n",
       "      <td>-0.037119</td>\n",
       "      <td>-0.253373</td>\n",
       "      <td>-0.226161</td>\n",
       "    </tr>\n",
       "  </tbody>\n",
       "</table>\n",
       "<p>376 rows × 30 columns</p>\n",
       "</div>"
      ],
      "text/plain": [
       "     smoothness_se  radius_se  radius_se  radius_mean  concave points_se  \\\n",
       "522      -0.946199  -0.976414  -0.976414    -0.812792          -1.252963   \n",
       "120      -0.333380  -0.953335  -0.953335    -0.770105          -0.864812   \n",
       "241      -1.257604  -1.045289  -1.045289    -0.482681          -1.302069   \n",
       "362      -0.477259  -0.663049  -0.663049    -0.385924          -0.291581   \n",
       "221      -0.396327  -0.534675  -0.534675    -0.158261          -0.556885   \n",
       "..             ...        ...        ...          ...                ...   \n",
       "34       -0.951195  -0.256649  -0.256649     0.573106          -0.442303   \n",
       "266       0.142887   0.163454   0.163454    -1.000614           0.300450   \n",
       "85       -0.189834   1.062079   1.062079     1.236174           0.389587   \n",
       "518      -0.588832   0.134967   0.134967    -0.351775           0.104349   \n",
       "423      -1.019471  -0.651871  -0.651871    -0.129803           0.152969   \n",
       "\n",
       "     perimeter_worst  radius_se  concavity_se  texture_mean  smoothness_se  \\\n",
       "522        -0.919014  -0.976414     -0.929161      0.125633      -0.946199   \n",
       "120        -0.699983  -0.953335     -0.555015     -1.969211      -0.333380   \n",
       "241        -0.696710  -1.045289     -0.841472     -0.988052      -1.257604   \n",
       "362        -0.578564  -0.663049     -0.550046     -0.104544      -0.477259   \n",
       "221        -0.183356  -0.534675     -0.213798     -1.253105      -0.396327   \n",
       "..               ...        ...           ...           ...            ...   \n",
       "34          0.757049  -0.256649     -0.174044     -0.327746      -0.951195   \n",
       "266        -0.862471   0.163454      0.054538     -0.078969       0.142887   \n",
       "85          1.337363   1.062079     -0.127003     -0.178945      -0.189834   \n",
       "518        -0.236625   0.134967     -0.591124     -0.248696      -0.588832   \n",
       "423        -0.174428  -0.651871      0.158891     -0.037119      -1.019471   \n",
       "\n",
       "     ...  fractal_dimension_mean  fractal_dimension_se  texture_worst  \\\n",
       "522  ...                0.089569             -0.566842       0.122477   \n",
       "120  ...               -0.236193             -0.600477      -1.579371   \n",
       "241  ...               -0.744666             -0.920196      -0.863489   \n",
       "362  ...               -0.137048             -0.628065       0.050889   \n",
       "221  ...                0.032915             -0.331398      -1.390639   \n",
       "..   ...                     ...                   ...            ...   \n",
       "34   ...                0.333183              0.008351       0.257519   \n",
       "266  ...                0.299190             -0.180231      -0.445348   \n",
       "85   ...               -0.365082             -0.015080       0.325853   \n",
       "518  ...                1.378455             -0.187411      -0.212686   \n",
       "423  ...               -0.139881              0.060881      -0.028834   \n",
       "\n",
       "     symmetry_se  compactness_mean  texture_worst  fractal_dimension_worst  \\\n",
       "522    -0.686190         -1.140084       0.122477                -0.432739   \n",
       "120    -0.859180         -0.709885      -1.579371                 0.071101   \n",
       "241    -0.404325         -1.333219      -0.863489                -0.892286   \n",
       "362    -0.175688         -0.469981       0.050889                -0.640366   \n",
       "221    -0.256739          0.281353      -1.390639                -0.120469   \n",
       "..           ...               ...            ...                      ...   \n",
       "34     -0.424890          0.976261       0.257519                 2.178927   \n",
       "266     1.753817          0.196146      -0.445348                -0.447135   \n",
       "85      0.381994          0.018159       0.325853                 0.102107   \n",
       "518    -0.288192          1.169396      -0.212686                 0.275960   \n",
       "423    -0.572476          0.196146      -0.028834                 0.246062   \n",
       "\n",
       "     texture_mean  symmetry_worst  area_mean  \n",
       "522      0.125633       -0.555632  -0.758109  \n",
       "120     -1.969211        0.186276  -0.714916  \n",
       "241     -0.988052        0.000395  -0.506911  \n",
       "362     -0.104544       -0.253373  -0.449795  \n",
       "221     -1.253105        0.265478  -0.265943  \n",
       "..            ...             ...        ...  \n",
       "34      -0.327746        2.213189   0.432807  \n",
       "266     -0.078969        0.063433  -0.876603  \n",
       "85      -0.178945        1.283783   1.193788  \n",
       "518     -0.248696       -0.515223  -0.459740  \n",
       "423     -0.037119       -0.253373  -0.226161  \n",
       "\n",
       "[376 rows x 30 columns]"
      ]
     },
     "execution_count": 17,
     "metadata": {},
     "output_type": "execute_result"
    }
   ],
   "source": [
    "x_train_FLDM2\n",
    "#Viewing the changed dataset"
   ]
  },
  {
   "cell_type": "code",
   "execution_count": 18,
   "id": "d6cf0e1a",
   "metadata": {},
   "outputs": [],
   "source": [
    "x_train_lda_FLDM2 = lda.fit_transform(x_train_FLDM2, y_train)\n",
    "x_test_lda_FLDM2 = lda.transform(x_test_FLDM2)"
   ]
  },
  {
   "cell_type": "code",
   "execution_count": 19,
   "id": "87785f31",
   "metadata": {},
   "outputs": [
    {
     "data": {
      "text/plain": [
       "((376, 1), (376, 1))"
      ]
     },
     "execution_count": 19,
     "metadata": {},
     "output_type": "execute_result"
    }
   ],
   "source": [
    "x_train_lda_FLDM2.shape, x_test_lda_FLDM2.shape"
   ]
  },
  {
   "cell_type": "code",
   "execution_count": 20,
   "id": "ac576ac3",
   "metadata": {},
   "outputs": [
    {
     "data": {
      "image/png": "[encoded data removed]",
      "text/plain": [
       "<Figure size 720x720 with 1 Axes>"
      ]
     },
     "metadata": {
      "needs_background": "light"
     },
     "output_type": "display_data"
    }
   ],
   "source": [
    "markers = ['s','x']\n",
    "colors = ['r','b']\n",
    "\n",
    "fig = plt.figure(figsize=(10,10))\n",
    "ax0 = fig.add_subplot(111)\n",
    "\n",
    "for l,m,c in zip(np.unique(y_train),markers,colors):\n",
    "    ax0.scatter(x_train_lda_FLDM2[:,0][y_train==l],x_train_lda_FLDM2[:,0][y_train==l],c=c,marker=m)\n",
    "    "
   ]
  },
  {
   "cell_type": "markdown",
   "id": "79258e82",
   "metadata": {},
   "source": [
    "# Part C – Logistic Regression:"
   ]
  },
  {
   "cell_type": "markdown",
   "id": "1fc58e69",
   "metadata": {},
   "source": [
    "## Learning Task 1"
   ]
  },
  {
   "cell_type": "code",
   "execution_count": 21,
   "id": "7dd3cb28",
   "metadata": {},
   "outputs": [],
   "source": [
    "x_train_LR = x_train.values\n",
    "y_train_LR = y_train.values\n",
    "x_test_LR = x_test.values\n",
    "y_test_LR = y_test.values"
   ]
  },
  {
   "cell_type": "code",
   "execution_count": 22,
   "id": "9eeb7fa0",
   "metadata": {},
   "outputs": [],
   "source": [
    "x_train_LR = x_train_LR.T\n",
    "y_train_LR = y_train_LR.reshape(1, 376)\n",
    "#arr1 =y_train.to_numpy()\n",
    "#arr1.reshape(1, y_train.shape[0])\n",
    "#y_train = pd.DataFrame(arr1)\n",
    "\n",
    "\n",
    "x_test_LR = x_test_LR.T\n",
    "y_test_LR = y_test_LR.reshape(1, 193)\n",
    "#arr2 =y_test.to_numpy()\n",
    "#arr2.reshape(1, y_test.shape[0])\n",
    "#y_test = pd.DataFrame(arr2)\n"
   ]
  },
  {
   "cell_type": "code",
   "execution_count": 23,
   "id": "e737d642",
   "metadata": {},
   "outputs": [
    {
     "name": "stdout",
     "output_type": "stream",
     "text": [
      "Shape of X_train :  (30, 376)\n",
      "Shape of Y_train :  (1, 376)\n",
      "Shape of X_test :  (30, 193)\n",
      "Shape of Y_test :  (1, 193)\n"
     ]
    }
   ],
   "source": [
    "print(\"Shape of X_train : \", x_train_LR.shape)\n",
    "print(\"Shape of Y_train : \", y_train_LR.shape)\n",
    "print(\"Shape of X_test : \", x_test_LR.shape)\n",
    "print(\"Shape of Y_test : \", y_test_LR.shape)"
   ]
  },
  {
   "cell_type": "code",
   "execution_count": 24,
   "id": "dd90a76d",
   "metadata": {},
   "outputs": [],
   "source": [
    "def sigmoid(x):\n",
    "    return 1/(1 + np.exp(-x))"
   ]
  },
  {
   "cell_type": "code",
   "execution_count": 25,
   "id": "4e331c8a",
   "metadata": {},
   "outputs": [],
   "source": [
    "def model(X, Y, learning_rate, iterations):\n",
    "    \n",
    "    m = x_train_LR.shape[1]\n",
    "    n = x_train_LR.shape[0]\n",
    "    \n",
    "    W = np.zeros((n,1))\n",
    "    B = 0\n",
    "    \n",
    "    cost_list = []\n",
    "    \n",
    "    for i in range(iterations):\n",
    "        \n",
    "        Z = np.dot(W.T, X) + B\n",
    "        A = sigmoid(Z)\n",
    "        \n",
    "        # cost function\n",
    "        cost = -(1/m)*np.sum( Y*np.log(A) + (1-Y)*np.log(1-A))\n",
    "        \n",
    "        # Gradient Descent\n",
    "        dW = (1/m)*np.dot(A-Y, X.T)\n",
    "        dB = (1/m)*np.sum(A - Y)\n",
    "        \n",
    "        W = W - learning_rate*dW.T\n",
    "        B = B - learning_rate*dB\n",
    "        \n",
    "        # Keeping track of our cost function value\n",
    "        cost_list.append(cost)\n",
    "        \n",
    "        if(i%(iterations/10) == 0):\n",
    "            print(\"cost after \", i, \"iteration is : \", cost)\n",
    "        \n",
    "    return W, B, cost_list"
   ]
  },
  {
   "cell_type": "code",
   "execution_count": 26,
   "id": "9ac2dad8",
   "metadata": {
    "scrolled": true
   },
   "outputs": [
    {
     "name": "stdout",
     "output_type": "stream",
     "text": [
      "cost after  0 iteration is :  0.6931471805599454\n",
      "cost after  10000 iteration is :  0.6411661443393095\n",
      "cost after  20000 iteration is :  0.6391675530970325\n",
      "cost after  30000 iteration is :  0.6380947875045605\n",
      "cost after  40000 iteration is :  0.6372574188174047\n",
      "cost after  50000 iteration is :  0.636566850266396\n",
      "cost after  60000 iteration is :  0.6359849501478968\n",
      "cost after  70000 iteration is :  0.6354888038696107\n",
      "cost after  80000 iteration is :  0.6350623437653659\n",
      "cost after  90000 iteration is :  0.6346934259827106\n"
     ]
    }
   ],
   "source": [
    "iterations = 100000\n",
    "# We can alter the value of learning_rate\n",
    "learning_rate = 0.001\n",
    "W, B, cost_list = model(x_train_LR, y_train_LR, learning_rate = learning_rate, iterations = iterations)"
   ]
  },
  {
   "cell_type": "code",
   "execution_count": 27,
   "id": "75411987",
   "metadata": {},
   "outputs": [
    {
     "data": {
      "image/png": "[encoded data removed]",
      "text/plain": [
       "<Figure size 432x288 with 1 Axes>"
      ]
     },
     "metadata": {
      "needs_background": "light"
     },
     "output_type": "display_data"
    }
   ],
   "source": [
    "plt.plot(np.arange(iterations), cost_list)\n",
    "plt.show()"
   ]
  },
  {
   "cell_type": "code",
   "execution_count": 28,
   "id": "fc8b3ca4",
   "metadata": {},
   "outputs": [],
   "source": [
    "def accuracy(X, Y, W, B):\n",
    "    \n",
    "    Z = np.dot(W.T, X) + B\n",
    "    A = sigmoid(Z)\n",
    "# We can alter the value of Probability Threshhold\n",
    "    A = A > 0.5\n",
    "    \n",
    "    A = np.array(A, dtype = 'int64')\n",
    "    \n",
    "    acc = (1 - np.sum(np.absolute(A - Y))/Y.shape[1])*100\n",
    "    \n",
    "    print(\"Accuracy of the model is : \", round(acc, 2), \"%\")\n"
   ]
  },
  {
   "cell_type": "code",
   "execution_count": 29,
   "id": "98da2b0b",
   "metadata": {},
   "outputs": [
    {
     "name": "stdout",
     "output_type": "stream",
     "text": [
      "Accuracy of the model is :  59.59 %\n"
     ]
    }
   ],
   "source": [
    "accuracy(x_test_LR, y_test_LR, W, B)\n"
   ]
  },
  {
   "cell_type": "markdown",
   "id": "92ca1407",
   "metadata": {},
   "source": [
    "### Comparison with Sckitlearn learn"
   ]
  },
  {
   "cell_type": "code",
   "execution_count": 30,
   "id": "ffb07593",
   "metadata": {},
   "outputs": [
    {
     "data": {
      "text/plain": [
       "0.5854922279792746"
      ]
     },
     "execution_count": 30,
     "metadata": {},
     "output_type": "execute_result"
    }
   ],
   "source": [
    "from sklearn.linear_model import LogisticRegression\n",
    "logmodel = LogisticRegression()\n",
    "\n",
    "logmodel.fit(x_train, y_train)\n",
    "predictions = logmodel.predict(x_test)\n",
    "\n",
    "from sklearn.metrics import accuracy_score\n",
    "accuracy_score(y_test,predictions)"
   ]
  },
  {
   "cell_type": "markdown",
   "id": "6a1f229b",
   "metadata": {},
   "source": [
    "## Learning Task 2"
   ]
  },
  {
   "cell_type": "code",
   "execution_count": 31,
   "id": "e05fa487",
   "metadata": {},
   "outputs": [],
   "source": [
    "target_name = \"diagnosis\"\n",
    "\n",
    "y_norm = normalized_df[target_name]\n",
    "\n",
    "x_norm = normalized_df.drop(['id', 'diagnosis'], axis=1)"
   ]
  },
  {
   "cell_type": "code",
   "execution_count": 32,
   "id": "83c4282b",
   "metadata": {},
   "outputs": [
    {
     "name": "stdout",
     "output_type": "stream",
     "text": [
      "No. of training examples: (376, 30)\n",
      "No. of testing examples: (193, 30)\n"
     ]
    }
   ],
   "source": [
    "x_train_norm = x_norm.sample(frac=0.66, random_state=25)\n",
    "x_test_norm = x_norm.drop(x_train_norm.index)\n",
    "\n",
    "print(f\"No. of training examples: {x_train_norm.shape}\")\n",
    "print(f\"No. of testing examples: {x_test_norm.shape}\")"
   ]
  },
  {
   "cell_type": "code",
   "execution_count": 33,
   "id": "3267a5ec",
   "metadata": {},
   "outputs": [
    {
     "name": "stdout",
     "output_type": "stream",
     "text": [
      "No. of training examples: (376,)\n",
      "No. of testing examples: (193,)\n"
     ]
    }
   ],
   "source": [
    "y_train_norm = y_norm.sample(frac=0.66)\n",
    "y_test_norm = y_norm.drop(y_train_norm.index)\n",
    "\n",
    "print(f\"No. of training examples: {y_train_norm.shape}\")\n",
    "print(f\"No. of testing examples: {y_test_norm.shape}\")"
   ]
  },
  {
   "cell_type": "code",
   "execution_count": 34,
   "id": "3058390e",
   "metadata": {},
   "outputs": [],
   "source": [
    "x_train_norm_LR = x_train_norm.values\n",
    "y_train_norm_LR = y_train_norm.values\n",
    "x_test_norm_LR = x_test_norm.values\n",
    "y_test_norm_LR = y_test_norm.values"
   ]
  },
  {
   "cell_type": "code",
   "execution_count": 35,
   "id": "2e5d49a1",
   "metadata": {},
   "outputs": [],
   "source": [
    "x_train_norm_LR = x_train_norm_LR.T\n",
    "y_train_norm_LR = y_train_norm_LR.reshape(1, 376)\n",
    "\n",
    "x_test_norm_LR = x_test_norm_LR.T\n",
    "y_test_norm_LR = y_test_norm_LR.reshape(1, 193)"
   ]
  },
  {
   "cell_type": "code",
   "execution_count": 36,
   "id": "c1cbfd81",
   "metadata": {},
   "outputs": [
    {
     "name": "stdout",
     "output_type": "stream",
     "text": [
      "Shape of X_train :  (30, 376)\n",
      "Shape of Y_train :  (1, 376)\n",
      "Shape of X_test :  (30, 193)\n",
      "Shape of Y_test :  (1, 193)\n"
     ]
    }
   ],
   "source": [
    "print(\"Shape of X_train : \", x_train_norm_LR.shape)\n",
    "print(\"Shape of Y_train : \", y_train_norm_LR.shape)\n",
    "print(\"Shape of X_test : \", x_test_norm_LR.shape)\n",
    "print(\"Shape of Y_test : \", y_test_norm_LR.shape)"
   ]
  },
  {
   "cell_type": "code",
   "execution_count": 37,
   "id": "8e2bbf4c",
   "metadata": {},
   "outputs": [],
   "source": [
    "def sigmoid(x):\n",
    "    return 1/(1 + np.exp(-x))"
   ]
  },
  {
   "cell_type": "code",
   "execution_count": 38,
   "id": "529c414c",
   "metadata": {},
   "outputs": [],
   "source": [
    "def model(X, Y, learning_rate, iterations):\n",
    "    \n",
    "    m = x_train_norm_LR.shape[1]\n",
    "    n = x_train_norm_LR.shape[0]\n",
    "    \n",
    "    W = np.zeros((n,1))\n",
    "    B = 0\n",
    "    \n",
    "    cost_list = []\n",
    "    \n",
    "    for i in range(iterations):\n",
    "        \n",
    "        Z = np.dot(W.T, X) + B\n",
    "        A = sigmoid(Z)\n",
    "        \n",
    "        # cost function\n",
    "        cost = -(1/m)*np.sum( Y*np.log(A) + (1-Y)*np.log(1-A))\n",
    "        \n",
    "        # Gradient Descent\n",
    "        dW = (1/m)*np.dot(A-Y, X.T)\n",
    "        dB = (1/m)*np.sum(A - Y)\n",
    "        \n",
    "        W = W - learning_rate*dW.T\n",
    "        B = B - learning_rate*dB\n",
    "        \n",
    "        # Keeping track of our cost function value\n",
    "        cost_list.append(cost)\n",
    "        \n",
    "        if(i%(iterations/10) == 0):\n",
    "            print(\"cost after \", i, \"iteration is : \", cost)\n",
    "        \n",
    "    return W, B, cost_list"
   ]
  },
  {
   "cell_type": "code",
   "execution_count": 39,
   "id": "1415d30e",
   "metadata": {
    "scrolled": true
   },
   "outputs": [
    {
     "name": "stdout",
     "output_type": "stream",
     "text": [
      "cost after  0 iteration is :  0.6931471805599454\n",
      "cost after  10000 iteration is :  0.6424728776334978\n",
      "cost after  20000 iteration is :  0.6379345439571944\n",
      "cost after  30000 iteration is :  0.6356054112297316\n",
      "cost after  40000 iteration is :  0.634027967522642\n",
      "cost after  50000 iteration is :  0.6328445151546249\n",
      "cost after  60000 iteration is :  0.6319113113802899\n",
      "cost after  70000 iteration is :  0.631153332469195\n",
      "cost after  80000 iteration is :  0.6305241717145557\n",
      "cost after  90000 iteration is :  0.6299923592267616\n"
     ]
    }
   ],
   "source": [
    "iterations = 100000\n",
    "# We can alter the value of learning_rate\n",
    "learning_rate = 0.001\n",
    "W, B, cost_list = model(x_train_norm_LR, y_train_norm_LR, learning_rate = learning_rate, iterations = iterations)"
   ]
  },
  {
   "cell_type": "code",
   "execution_count": 40,
   "id": "03a78f4a",
   "metadata": {},
   "outputs": [
    {
     "data": {
      "image/png": "[encoded data removed]",
      "text/plain": [
       "<Figure size 432x288 with 1 Axes>"
      ]
     },
     "metadata": {
      "needs_background": "light"
     },
     "output_type": "display_data"
    }
   ],
   "source": [
    "plt.plot(np.arange(iterations), cost_list)\n",
    "plt.show()"
   ]
  },
  {
   "cell_type": "code",
   "execution_count": 41,
   "id": "561bd9f4",
   "metadata": {},
   "outputs": [],
   "source": [
    "def accuracy(X, Y, W, B):\n",
    "    \n",
    "    Z = np.dot(W.T, X) + B\n",
    "    A = sigmoid(Z)\n",
    "# We can alter the value of Probability Threshhold\n",
    "    A = A > 0.5\n",
    "    \n",
    "    A = np.array(A, dtype = 'int64')\n",
    "    \n",
    "    acc = (1 - np.sum(np.absolute(A - Y))/Y.shape[1])*100\n",
    "    \n",
    "    print(\"Accuracy of the model is : \", round(acc, 2), \"%\")\n"
   ]
  },
  {
   "cell_type": "code",
   "execution_count": 42,
   "id": "577f4406",
   "metadata": {},
   "outputs": [
    {
     "name": "stdout",
     "output_type": "stream",
     "text": [
      "Accuracy of the model is :  56.99 %\n"
     ]
    }
   ],
   "source": [
    "accuracy(x_test_norm_LR, y_test_norm_LR, W, B)\n"
   ]
  },
  {
   "cell_type": "markdown",
   "id": "a06bb247",
   "metadata": {},
   "source": [
    "### Comparison with Sckitlearn learn"
   ]
  },
  {
   "cell_type": "code",
   "execution_count": 43,
   "id": "4e19e6df",
   "metadata": {},
   "outputs": [
    {
     "data": {
      "text/plain": [
       "0.5854922279792746"
      ]
     },
     "execution_count": 43,
     "metadata": {},
     "output_type": "execute_result"
    }
   ],
   "source": [
    "from sklearn.linear_model import LogisticRegression\n",
    "logmodel = LogisticRegression()\n",
    "\n",
    "logmodel.fit(x_train_norm, y_train_norm)\n",
    "predictions = logmodel.predict(x_test)\n",
    "\n",
    "from sklearn.metrics import accuracy_score\n",
    "accuracy_score(y_test,predictions)"
   ]
  },
  {
   "cell_type": "code",
   "execution_count": null,
   "id": "90268d0a",
   "metadata": {},
   "outputs": [],
   "source": []
  }
 ],
 "metadata": {
  "kernelspec": {
   "display_name": "Python 3 (ipykernel)",
   "language": "python",
   "name": "python3"
  },
  "language_info": {
   "codemirror_mode": {
    "name": "ipython",
    "version": 3
   },
   "file_extension": ".py",
   "mimetype": "text/x-python",
   "name": "python",
   "nbconvert_exporter": "python",
   "pygments_lexer": "ipython3",
   "version": "3.9.12"
  }
 },
 "nbformat": 4,
 "nbformat_minor": 5
}
