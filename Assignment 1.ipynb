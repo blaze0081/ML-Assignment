{
 "cells": [
  {
   "cell_type": "code",
   "execution_count": 1,
   "id": "9dce30f3",
   "metadata": {},
   "outputs": [],
   "source": [
    "import numpy as np\n",
    "import pandas as pd\n",
    "import matplotlib.pyplot as plt"
   ]
  },
  {
   "cell_type": "code",
   "execution_count": 2,
   "id": "4eefc2c3",
   "metadata": {},
   "outputs": [],
   "source": [
    "df = pd.read_csv('Dsata Set for Assignment 1.csv')"
   ]
  },
  {
   "cell_type": "markdown",
   "id": "17488c11",
   "metadata": {},
   "source": [
    "# Feature Engineering Task 1:"
   ]
  },
  {
   "cell_type": "code",
   "execution_count": 3,
   "id": "2768d8cf",
   "metadata": {},
   "outputs": [
    {
     "data": {
      "text/plain": [
       "id                         0\n",
       "diagnosis                  0\n",
       "radius_mean                1\n",
       "texture_mean               0\n",
       "perimeter_mean             1\n",
       "area_mean                  0\n",
       "smoothness_mean            0\n",
       "compactness_mean           0\n",
       "concavity_mean             1\n",
       "concave points_mean        0\n",
       "symmetry_mean              0\n",
       "fractal_dimension_mean     0\n",
       "radius_se                  0\n",
       "texture_se                 0\n",
       "perimeter_se               0\n",
       "area_se                    0\n",
       "smoothness_se              0\n",
       "compactness_se             1\n",
       "concavity_se               0\n",
       "concave points_se          0\n",
       "symmetry_se                0\n",
       "fractal_dimension_se       0\n",
       "radius_worst               0\n",
       "texture_worst              0\n",
       "perimeter_worst            0\n",
       "area_worst                 2\n",
       "smoothness_worst           0\n",
       "compactness_worst          0\n",
       "concavity_worst            1\n",
       "concave points_worst       0\n",
       "symmetry_worst             0\n",
       "fractal_dimension_worst    0\n",
       "dtype: int64"
      ]
     },
     "execution_count": 3,
     "metadata": {},
     "output_type": "execute_result"
    }
   ],
   "source": [
    "#We first need to undersatand the number of missing values in each column\n",
    "df.isnull().sum()"
   ]
  },
  {
   "cell_type": "code",
   "execution_count": 4,
   "id": "1c642c68",
   "metadata": {},
   "outputs": [],
   "source": [
    "#The NULL values are only present in continuous numerical values, so we fill it with the mean of exsisting values in the column\n",
    "df_new=df\n",
    "df_new['radius_mean'] = df_new['radius_mean'].replace(np.NaN, df_new['radius_mean'].mean())\n",
    "df_new['perimeter_mean'] = df_new['perimeter_mean'].replace(np.NaN, df_new['perimeter_mean'].mean())\n",
    "df_new['concavity_mean'] = df_new['concavity_mean'].replace(np.NaN, df_new['concavity_mean'].mean())\n",
    "df_new['compactness_se'] = df_new['compactness_se'].replace(np.NaN, df_new['compactness_se'].mean())\n",
    "df_new['area_worst'] = df_new['area_worst'].replace(np.NaN, df_new['area_worst'].mean())\n",
    "df_new['concavity_worst'] = df_new['concavity_worst'].replace(np.NaN, df_new['concavity_worst'].mean())"
   ]
  },
  {
   "cell_type": "code",
   "execution_count": 5,
   "id": "cba72be2",
   "metadata": {},
   "outputs": [
    {
     "data": {
      "text/plain": [
       "0"
      ]
     },
     "execution_count": 5,
     "metadata": {},
     "output_type": "execute_result"
    }
   ],
   "source": [
    "# We have successfully added the missing values\n",
    "df.isnull().sum().sum()"
   ]
  },
  {
   "cell_type": "markdown",
   "id": "b67549ea",
   "metadata": {},
   "source": [
    "# Feature Engineering Task 2"
   ]
  },
  {
   "cell_type": "code",
   "execution_count": 6,
   "id": "bddb3a72",
   "metadata": {},
   "outputs": [],
   "source": [
    "# Normalizing all the features and saving it in a new DataFrame\n",
    "normalized_df=df_new\n",
    "normalized_df.iloc[:,2:]=df_new.iloc[:,2:].apply(lambda x: (x-x.mean())/ x.std(), axis=0)"
   ]
  },
  {
   "cell_type": "code",
   "execution_count": 7,
   "id": "87a0a96c",
   "metadata": {},
   "outputs": [
    {
     "data": {
      "text/plain": [
       "<bound method NDFrame.head of            id diagnosis  radius_mean  texture_mean  perimeter_mean  area_mean  \\\n",
       "0      842302         M     1.102422     -2.071512        1.268389   0.983510   \n",
       "1      842517         M     1.836635     -0.353322        1.684639   1.907030   \n",
       "2    84300903         M     1.586206      0.455786        1.565122   1.557513   \n",
       "3    84348301         M    -0.767260      0.253509       -0.595257  -0.763792   \n",
       "4    84358402         M     1.756953     -1.150804        1.775308   1.824624   \n",
       "..        ...       ...          ...           ...             ...        ...   \n",
       "564    926424         M     2.118368      0.720838        2.059677   2.341795   \n",
       "565    926682         M     1.711420      2.083301        1.614577   1.722326   \n",
       "566    926954         M     0.706858      2.043775        0.670803   0.577445   \n",
       "567    927241         M     1.845172      2.334403        1.981372   1.733693   \n",
       "568     92751         B    -1.808817      1.220718       -1.817631  -1.346604   \n",
       "\n",
       "     smoothness_mean  compactness_mean  concavity_mean  concave points_mean  \\\n",
       "0           1.567087          3.280628        2.650837             2.530249   \n",
       "1          -0.826235         -0.486643       -0.025417             0.547662   \n",
       "2           0.941382          1.052000        1.361666             2.035440   \n",
       "3           3.280667          3.399917        1.913989             1.450431   \n",
       "4           0.280125          0.538866        1.369198             1.427237   \n",
       "..               ...               ...             ...                  ...   \n",
       "564         1.040926          0.218868        1.945370             2.318924   \n",
       "565         0.102368         -0.017817        0.691347             1.262558   \n",
       "566        -0.839745         -0.038646        0.045004             0.105684   \n",
       "567         1.524426          3.269267        3.294795             2.656528   \n",
       "568        -3.109349         -1.149741       -1.116254            -1.260710   \n",
       "\n",
       "     ...  radius_worst  texture_worst  perimeter_worst  area_worst  \\\n",
       "0    ...      1.885031      -1.358098         2.301575    1.998658   \n",
       "1    ...      1.804340      -0.368879         1.533776    1.887973   \n",
       "2    ...      1.510541      -0.023953         1.346291    1.454016   \n",
       "3    ...     -0.281217       0.133866        -0.249720   -0.551147   \n",
       "4    ...      1.297434      -1.465481         1.337363    1.218589   \n",
       "..   ...           ...            ...              ...         ...   \n",
       "564  ...      1.899514       0.117596         1.751022    2.012713   \n",
       "565  ...      1.535369       2.045599         1.420690    1.492668   \n",
       "566  ...      0.560868       1.373645         0.578492    0.426222   \n",
       "567  ...      1.959515       2.235958         2.301575    1.650790   \n",
       "568  ...     -1.409652       0.763518        -1.431475   -1.076640   \n",
       "\n",
       "     smoothness_worst  compactness_worst  concavity_worst  \\\n",
       "0            1.306537           2.614365         2.107374   \n",
       "1           -0.375282          -0.430066        -0.147968   \n",
       "2            0.526944           1.081980         0.853340   \n",
       "3            3.391291           3.889975         1.987485   \n",
       "4            0.220362          -0.313119         0.611645   \n",
       "..                ...                ...              ...   \n",
       "564          0.378033          -0.273077         0.662958   \n",
       "565         -0.690623          -0.394473         0.235195   \n",
       "566         -0.808876           0.350427         0.325352   \n",
       "567          1.429169           3.901415         3.195002   \n",
       "568         -1.857384          -1.206491        -1.306570   \n",
       "\n",
       "     concave points_worst  symmetry_worst  fractal_dimension_worst  \n",
       "0                2.294058        2.748204                 1.935312  \n",
       "1                1.086129       -0.243675                 0.280943  \n",
       "2                1.953282        1.151242                 0.201214  \n",
       "3                2.173873        6.040726                 4.930672  \n",
       "4                0.728618       -0.867590                -0.396751  \n",
       "..                    ...             ...                      ...  \n",
       "564              1.627719       -1.358963                -0.708467  \n",
       "565              0.733182       -0.531387                -0.973122  \n",
       "566              0.413705       -1.103578                -0.318129  \n",
       "567              2.287972        1.917396                 2.217684  \n",
       "568             -1.743529       -0.048096                -0.750546  \n",
       "\n",
       "[569 rows x 32 columns]>"
      ]
     },
     "execution_count": 7,
     "metadata": {},
     "output_type": "execute_result"
    }
   ],
   "source": [
    "# The Normalized DataSet is shown below\n",
    "normalized_df.head"
   ]
  },
  {
   "cell_type": "markdown",
   "id": "6f4e9694",
   "metadata": {},
   "source": [
    "# Part A - Perceptron Learning Algorithm:"
   ]
  },
  {
   "cell_type": "markdown",
   "id": "26c44c84",
   "metadata": {},
   "source": [
    "# Part B – Fisher’s Linear Discriminant Analysis:"
   ]
  },
  {
   "cell_type": "markdown",
   "id": "939b4d0b",
   "metadata": {},
   "source": [
    "## Learning Task 1:"
   ]
  },
  {
   "cell_type": "code",
   "execution_count": 8,
   "id": "b0c09aac",
   "metadata": {},
   "outputs": [],
   "source": [
    "target_name = \"diagnosis\"\n",
    "\n",
    "y = df_new[target_name]\n",
    "\n",
    "x = df_new.drop(['id', 'diagnosis'], axis=1)"
   ]
  },
  {
   "cell_type": "code",
   "execution_count": 9,
   "id": "22073b88",
   "metadata": {},
   "outputs": [
    {
     "name": "stdout",
     "output_type": "stream",
     "text": [
      "No. of training examples: (376, 30)\n",
      "No. of testing examples: (193, 30)\n"
     ]
    }
   ],
   "source": [
    "x_train = x.sample(frac=0.66, random_state=25)\n",
    "x_test = x.drop(x_train.index)\n",
    "\n",
    "print(f\"No. of training examples: {x_train.shape}\")\n",
    "print(f\"No. of testing examples: {x_test.shape}\")"
   ]
  },
  {
   "cell_type": "code",
   "execution_count": 10,
   "id": "27961034",
   "metadata": {},
   "outputs": [
    {
     "name": "stdout",
     "output_type": "stream",
     "text": [
      "No. of training examples: (376,)\n",
      "No. of testing examples: (193,)\n"
     ]
    }
   ],
   "source": [
    "y_train = y.sample(frac=0.66, random_state=25)\n",
    "y_test = y.drop(y_train.index)\n",
    "\n",
    "print(f\"No. of training examples: {y_train.shape}\")\n",
    "print(f\"No. of testing examples: {y_test.shape}\")"
   ]
  },
  {
   "cell_type": "code",
   "execution_count": 11,
   "id": "f7f31d63",
   "metadata": {},
   "outputs": [],
   "source": [
    "from sklearn.discriminant_analysis import LinearDiscriminantAnalysis as LDA\n",
    "lda = LDA(n_components=1)\n",
    "x_train_lda = lda.fit_transform(x_train, y_train)\n",
    "x_test_lda = lda.transform(x_test)"
   ]
  },
  {
   "cell_type": "code",
   "execution_count": 12,
   "id": "37c7e2f8",
   "metadata": {},
   "outputs": [
    {
     "data": {
      "text/plain": [
       "((376, 1), (193, 1))"
      ]
     },
     "execution_count": 12,
     "metadata": {},
     "output_type": "execute_result"
    }
   ],
   "source": [
    "x_train_lda.shape, x_test_lda.shape"
   ]
  },
  {
   "cell_type": "code",
   "execution_count": 13,
   "id": "685513c3",
   "metadata": {},
   "outputs": [
    {
     "data": {
      "image/png": "[encoded data removed]",
      "text/plain": [
       "<Figure size 720x720 with 1 Axes>"
      ]
     },
     "metadata": {
      "needs_background": "light"
     },
     "output_type": "display_data"
    }
   ],
   "source": [
    "markers = ['s','x']\n",
    "colors = ['r','b']\n",
    "\n",
    "fig = plt.figure(figsize=(10,10))\n",
    "ax0 = fig.add_subplot(111)\n",
    "\n",
    "for l,m,c in zip(np.unique(y_train),markers,colors):\n",
    "    ax0.scatter(x_train_lda[:,0][y_train==l],x_train_lda[:,0][y_train==l],c=c,marker=m)\n",
    "    "
   ]
  },
  {
   "cell_type": "markdown",
   "id": "37e707a4",
   "metadata": {},
   "source": [
    "## Learning Task 2:"
   ]
  },
  {
   "cell_type": "code",
   "execution_count": 14,
   "id": "6649692f",
   "metadata": {},
   "outputs": [],
   "source": [
    "#Change the order of features in the dataset randomly.\n",
    "\n",
    "x=np.random.randint(30, size=(30))\n",
    "\n",
    "x_train_FLDM2= x_train.iloc[:, x]\n",
    "x_test_FLDM2= x_train.iloc[:, x]\n"
   ]
  },
  {
   "cell_type": "code",
   "execution_count": 15,
   "id": "1cae172b",
   "metadata": {},
   "outputs": [
    {
     "data": {
      "text/html": [
       "<div>\n",
       "<style scoped>\n",
       "    .dataframe tbody tr th:only-of-type {\n",
       "        vertical-align: middle;\n",
       "    }\n",
       "\n",
       "    .dataframe tbody tr th {\n",
       "        vertical-align: top;\n",
       "    }\n",
       "\n",
       "    .dataframe thead th {\n",
       "        text-align: right;\n",
       "    }\n",
       "</style>\n",
       "<table border=\"1\" class=\"dataframe\">\n",
       "  <thead>\n",
       "    <tr style=\"text-align: right;\">\n",
       "      <th></th>\n",
       "      <th>concavity_se</th>\n",
       "      <th>fractal_dimension_se</th>\n",
       "      <th>concavity_worst</th>\n",
       "      <th>fractal_dimension_worst</th>\n",
       "      <th>radius_se</th>\n",
       "      <th>concavity_se</th>\n",
       "      <th>concavity_mean</th>\n",
       "      <th>area_se</th>\n",
       "      <th>area_worst</th>\n",
       "      <th>symmetry_mean</th>\n",
       "      <th>...</th>\n",
       "      <th>symmetry_mean</th>\n",
       "      <th>concavity_mean</th>\n",
       "      <th>radius_worst</th>\n",
       "      <th>texture_mean</th>\n",
       "      <th>radius_mean</th>\n",
       "      <th>smoothness_worst</th>\n",
       "      <th>area_mean</th>\n",
       "      <th>symmetry_worst</th>\n",
       "      <th>concavity_worst</th>\n",
       "      <th>radius_mean</th>\n",
       "    </tr>\n",
       "  </thead>\n",
       "  <tbody>\n",
       "    <tr>\n",
       "      <th>522</th>\n",
       "      <td>-0.929161</td>\n",
       "      <td>-0.566842</td>\n",
       "      <td>-1.185099</td>\n",
       "      <td>-0.432739</td>\n",
       "      <td>-0.976414</td>\n",
       "      <td>-0.929161</td>\n",
       "      <td>-1.052649</td>\n",
       "      <td>-0.681565</td>\n",
       "      <td>-0.782708</td>\n",
       "      <td>-0.636962</td>\n",
       "      <td>...</td>\n",
       "      <td>-0.636962</td>\n",
       "      <td>-1.052649</td>\n",
       "      <td>-0.897780</td>\n",
       "      <td>0.125633</td>\n",
       "      <td>-0.812792</td>\n",
       "      <td>-0.944647</td>\n",
       "      <td>-0.758109</td>\n",
       "      <td>-0.555632</td>\n",
       "      <td>-1.185099</td>\n",
       "      <td>-0.812792</td>\n",
       "    </tr>\n",
       "    <tr>\n",
       "      <th>120</th>\n",
       "      <td>-0.555015</td>\n",
       "      <td>-0.600477</td>\n",
       "      <td>-0.298548</td>\n",
       "      <td>0.071101</td>\n",
       "      <td>-0.953335</td>\n",
       "      <td>-0.555015</td>\n",
       "      <td>-0.675400</td>\n",
       "      <td>-0.655890</td>\n",
       "      <td>-0.651643</td>\n",
       "      <td>-0.527530</td>\n",
       "      <td>...</td>\n",
       "      <td>-0.527530</td>\n",
       "      <td>-0.675400</td>\n",
       "      <td>-0.713639</td>\n",
       "      <td>-1.969211</td>\n",
       "      <td>-0.770105</td>\n",
       "      <td>0.982436</td>\n",
       "      <td>-0.714916</td>\n",
       "      <td>0.186276</td>\n",
       "      <td>-0.298548</td>\n",
       "      <td>-0.770105</td>\n",
       "    </tr>\n",
       "    <tr>\n",
       "      <th>241</th>\n",
       "      <td>-0.841472</td>\n",
       "      <td>-0.920196</td>\n",
       "      <td>-1.007185</td>\n",
       "      <td>-0.892286</td>\n",
       "      <td>-1.045289</td>\n",
       "      <td>-0.841472</td>\n",
       "      <td>-0.984073</td>\n",
       "      <td>-0.688731</td>\n",
       "      <td>-0.593840</td>\n",
       "      <td>-0.968906</td>\n",
       "      <td>...</td>\n",
       "      <td>-0.968906</td>\n",
       "      <td>-0.984073</td>\n",
       "      <td>-0.635017</td>\n",
       "      <td>-0.988052</td>\n",
       "      <td>-0.482681</td>\n",
       "      <td>-1.255609</td>\n",
       "      <td>-0.506911</td>\n",
       "      <td>0.000395</td>\n",
       "      <td>-1.007185</td>\n",
       "      <td>-0.482681</td>\n",
       "    </tr>\n",
       "    <tr>\n",
       "      <th>362</th>\n",
       "      <td>-0.550046</td>\n",
       "      <td>-0.628065</td>\n",
       "      <td>-0.704730</td>\n",
       "      <td>-0.640366</td>\n",
       "      <td>-0.663049</td>\n",
       "      <td>-0.550046</td>\n",
       "      <td>-0.778835</td>\n",
       "      <td>-0.507289</td>\n",
       "      <td>-0.530065</td>\n",
       "      <td>-0.191939</td>\n",
       "      <td>...</td>\n",
       "      <td>-0.191939</td>\n",
       "      <td>-0.778835</td>\n",
       "      <td>-0.521222</td>\n",
       "      <td>-0.104544</td>\n",
       "      <td>-0.385924</td>\n",
       "      <td>-0.112498</td>\n",
       "      <td>-0.449795</td>\n",
       "      <td>-0.253373</td>\n",
       "      <td>-0.704730</td>\n",
       "      <td>-0.385924</td>\n",
       "    </tr>\n",
       "    <tr>\n",
       "      <th>221</th>\n",
       "      <td>-0.213798</td>\n",
       "      <td>-0.331398</td>\n",
       "      <td>-0.070760</td>\n",
       "      <td>-0.120469</td>\n",
       "      <td>-0.534675</td>\n",
       "      <td>-0.213798</td>\n",
       "      <td>-0.129605</td>\n",
       "      <td>-0.424415</td>\n",
       "      <td>-0.342251</td>\n",
       "      <td>0.548551</td>\n",
       "      <td>...</td>\n",
       "      <td>0.548551</td>\n",
       "      <td>-0.129605</td>\n",
       "      <td>-0.266734</td>\n",
       "      <td>-1.253105</td>\n",
       "      <td>-0.158261</td>\n",
       "      <td>0.229122</td>\n",
       "      <td>-0.265943</td>\n",
       "      <td>0.265478</td>\n",
       "      <td>-0.070760</td>\n",
       "      <td>-0.158261</td>\n",
       "    </tr>\n",
       "    <tr>\n",
       "      <th>...</th>\n",
       "      <td>...</td>\n",
       "      <td>...</td>\n",
       "      <td>...</td>\n",
       "      <td>...</td>\n",
       "      <td>...</td>\n",
       "      <td>...</td>\n",
       "      <td>...</td>\n",
       "      <td>...</td>\n",
       "      <td>...</td>\n",
       "      <td>...</td>\n",
       "      <td>...</td>\n",
       "      <td>...</td>\n",
       "      <td>...</td>\n",
       "      <td>...</td>\n",
       "      <td>...</td>\n",
       "      <td>...</td>\n",
       "      <td>...</td>\n",
       "      <td>...</td>\n",
       "      <td>...</td>\n",
       "      <td>...</td>\n",
       "      <td>...</td>\n",
       "    </tr>\n",
       "    <tr>\n",
       "      <th>34</th>\n",
       "      <td>-0.174044</td>\n",
       "      <td>0.008351</td>\n",
       "      <td>1.222597</td>\n",
       "      <td>2.178927</td>\n",
       "      <td>-0.256649</td>\n",
       "      <td>-0.174044</td>\n",
       "      <td>0.583393</td>\n",
       "      <td>-0.116662</td>\n",
       "      <td>0.666919</td>\n",
       "      <td>0.679870</td>\n",
       "      <td>...</td>\n",
       "      <td>0.679870</td>\n",
       "      <td>0.583393</td>\n",
       "      <td>0.815356</td>\n",
       "      <td>-0.327746</td>\n",
       "      <td>0.573106</td>\n",
       "      <td>0.535703</td>\n",
       "      <td>0.432807</td>\n",
       "      <td>2.213189</td>\n",
       "      <td>1.222597</td>\n",
       "      <td>0.573106</td>\n",
       "    </tr>\n",
       "    <tr>\n",
       "      <th>266</th>\n",
       "      <td>0.054538</td>\n",
       "      <td>-0.180231</td>\n",
       "      <td>-0.387745</td>\n",
       "      <td>-0.447135</td>\n",
       "      <td>0.163454</td>\n",
       "      <td>0.054538</td>\n",
       "      <td>-0.314508</td>\n",
       "      <td>-0.290982</td>\n",
       "      <td>-0.802210</td>\n",
       "      <td>0.402642</td>\n",
       "      <td>...</td>\n",
       "      <td>0.402642</td>\n",
       "      <td>-0.314508</td>\n",
       "      <td>-0.908125</td>\n",
       "      <td>-0.078969</td>\n",
       "      <td>-1.000614</td>\n",
       "      <td>-0.484775</td>\n",
       "      <td>-0.876603</td>\n",
       "      <td>0.063433</td>\n",
       "      <td>-0.387745</td>\n",
       "      <td>-1.000614</td>\n",
       "    </tr>\n",
       "    <tr>\n",
       "      <th>85</th>\n",
       "      <td>-0.127003</td>\n",
       "      <td>-0.015080</td>\n",
       "      <td>0.207381</td>\n",
       "      <td>0.102107</td>\n",
       "      <td>1.062079</td>\n",
       "      <td>-0.127003</td>\n",
       "      <td>0.559543</td>\n",
       "      <td>0.885074</td>\n",
       "      <td>1.267783</td>\n",
       "      <td>1.168666</td>\n",
       "      <td>...</td>\n",
       "      <td>1.168666</td>\n",
       "      <td>0.559543</td>\n",
       "      <td>1.378125</td>\n",
       "      <td>-0.178945</td>\n",
       "      <td>1.236174</td>\n",
       "      <td>0.325476</td>\n",
       "      <td>1.193788</td>\n",
       "      <td>1.283783</td>\n",
       "      <td>0.207381</td>\n",
       "      <td>1.236174</td>\n",
       "    </tr>\n",
       "    <tr>\n",
       "      <th>518</th>\n",
       "      <td>-0.591124</td>\n",
       "      <td>-0.187411</td>\n",
       "      <td>-0.709046</td>\n",
       "      <td>0.275960</td>\n",
       "      <td>0.134967</td>\n",
       "      <td>-0.591124</td>\n",
       "      <td>-0.510582</td>\n",
       "      <td>-0.131171</td>\n",
       "      <td>-0.363158</td>\n",
       "      <td>-0.374325</td>\n",
       "      <td>...</td>\n",
       "      <td>-0.374325</td>\n",
       "      <td>-0.510582</td>\n",
       "      <td>-0.252251</td>\n",
       "      <td>-0.248696</td>\n",
       "      <td>-0.351775</td>\n",
       "      <td>0.579501</td>\n",
       "      <td>-0.459740</td>\n",
       "      <td>-0.515223</td>\n",
       "      <td>-0.709046</td>\n",
       "      <td>-0.351775</td>\n",
       "    </tr>\n",
       "    <tr>\n",
       "      <th>423</th>\n",
       "      <td>0.158891</td>\n",
       "      <td>0.060881</td>\n",
       "      <td>0.448597</td>\n",
       "      <td>0.246062</td>\n",
       "      <td>-0.651871</td>\n",
       "      <td>0.158891</td>\n",
       "      <td>0.095968</td>\n",
       "      <td>-0.461126</td>\n",
       "      <td>-0.303247</td>\n",
       "      <td>0.132710</td>\n",
       "      <td>...</td>\n",
       "      <td>0.132710</td>\n",
       "      <td>0.095968</td>\n",
       "      <td>-0.233630</td>\n",
       "      <td>-0.037119</td>\n",
       "      <td>-0.129803</td>\n",
       "      <td>-0.773838</td>\n",
       "      <td>-0.226161</td>\n",
       "      <td>-0.253373</td>\n",
       "      <td>0.448597</td>\n",
       "      <td>-0.129803</td>\n",
       "    </tr>\n",
       "  </tbody>\n",
       "</table>\n",
       "<p>376 rows × 30 columns</p>\n",
       "</div>"
      ],
      "text/plain": [
       "     concavity_se  fractal_dimension_se  concavity_worst  \\\n",
       "522     -0.929161             -0.566842        -1.185099   \n",
       "120     -0.555015             -0.600477        -0.298548   \n",
       "241     -0.841472             -0.920196        -1.007185   \n",
       "362     -0.550046             -0.628065        -0.704730   \n",
       "221     -0.213798             -0.331398        -0.070760   \n",
       "..            ...                   ...              ...   \n",
       "34      -0.174044              0.008351         1.222597   \n",
       "266      0.054538             -0.180231        -0.387745   \n",
       "85      -0.127003             -0.015080         0.207381   \n",
       "518     -0.591124             -0.187411        -0.709046   \n",
       "423      0.158891              0.060881         0.448597   \n",
       "\n",
       "     fractal_dimension_worst  radius_se  concavity_se  concavity_mean  \\\n",
       "522                -0.432739  -0.976414     -0.929161       -1.052649   \n",
       "120                 0.071101  -0.953335     -0.555015       -0.675400   \n",
       "241                -0.892286  -1.045289     -0.841472       -0.984073   \n",
       "362                -0.640366  -0.663049     -0.550046       -0.778835   \n",
       "221                -0.120469  -0.534675     -0.213798       -0.129605   \n",
       "..                       ...        ...           ...             ...   \n",
       "34                  2.178927  -0.256649     -0.174044        0.583393   \n",
       "266                -0.447135   0.163454      0.054538       -0.314508   \n",
       "85                  0.102107   1.062079     -0.127003        0.559543   \n",
       "518                 0.275960   0.134967     -0.591124       -0.510582   \n",
       "423                 0.246062  -0.651871      0.158891        0.095968   \n",
       "\n",
       "      area_se  area_worst  symmetry_mean  ...  symmetry_mean  concavity_mean  \\\n",
       "522 -0.681565   -0.782708      -0.636962  ...      -0.636962       -1.052649   \n",
       "120 -0.655890   -0.651643      -0.527530  ...      -0.527530       -0.675400   \n",
       "241 -0.688731   -0.593840      -0.968906  ...      -0.968906       -0.984073   \n",
       "362 -0.507289   -0.530065      -0.191939  ...      -0.191939       -0.778835   \n",
       "221 -0.424415   -0.342251       0.548551  ...       0.548551       -0.129605   \n",
       "..        ...         ...            ...  ...            ...             ...   \n",
       "34  -0.116662    0.666919       0.679870  ...       0.679870        0.583393   \n",
       "266 -0.290982   -0.802210       0.402642  ...       0.402642       -0.314508   \n",
       "85   0.885074    1.267783       1.168666  ...       1.168666        0.559543   \n",
       "518 -0.131171   -0.363158      -0.374325  ...      -0.374325       -0.510582   \n",
       "423 -0.461126   -0.303247       0.132710  ...       0.132710        0.095968   \n",
       "\n",
       "     radius_worst  texture_mean  radius_mean  smoothness_worst  area_mean  \\\n",
       "522     -0.897780      0.125633    -0.812792         -0.944647  -0.758109   \n",
       "120     -0.713639     -1.969211    -0.770105          0.982436  -0.714916   \n",
       "241     -0.635017     -0.988052    -0.482681         -1.255609  -0.506911   \n",
       "362     -0.521222     -0.104544    -0.385924         -0.112498  -0.449795   \n",
       "221     -0.266734     -1.253105    -0.158261          0.229122  -0.265943   \n",
       "..            ...           ...          ...               ...        ...   \n",
       "34       0.815356     -0.327746     0.573106          0.535703   0.432807   \n",
       "266     -0.908125     -0.078969    -1.000614         -0.484775  -0.876603   \n",
       "85       1.378125     -0.178945     1.236174          0.325476   1.193788   \n",
       "518     -0.252251     -0.248696    -0.351775          0.579501  -0.459740   \n",
       "423     -0.233630     -0.037119    -0.129803         -0.773838  -0.226161   \n",
       "\n",
       "     symmetry_worst  concavity_worst  radius_mean  \n",
       "522       -0.555632        -1.185099    -0.812792  \n",
       "120        0.186276        -0.298548    -0.770105  \n",
       "241        0.000395        -1.007185    -0.482681  \n",
       "362       -0.253373        -0.704730    -0.385924  \n",
       "221        0.265478        -0.070760    -0.158261  \n",
       "..              ...              ...          ...  \n",
       "34         2.213189         1.222597     0.573106  \n",
       "266        0.063433        -0.387745    -1.000614  \n",
       "85         1.283783         0.207381     1.236174  \n",
       "518       -0.515223        -0.709046    -0.351775  \n",
       "423       -0.253373         0.448597    -0.129803  \n",
       "\n",
       "[376 rows x 30 columns]"
      ]
     },
     "execution_count": 15,
     "metadata": {},
     "output_type": "execute_result"
    }
   ],
   "source": [
    "x_train_FLDM2\n",
    "#Viewing the changed dataset"
   ]
  },
  {
   "cell_type": "code",
   "execution_count": 16,
   "id": "d6cf0e1a",
   "metadata": {},
   "outputs": [],
   "source": [
    "x_train_lda_FLDM2 = lda.fit_transform(x_train_FLDM2, y_train)\n",
    "x_test_lda_FLDM2 = lda.transform(x_test_FLDM2)"
   ]
  },
  {
   "cell_type": "code",
   "execution_count": 17,
   "id": "87785f31",
   "metadata": {},
   "outputs": [
    {
     "data": {
      "text/plain": [
       "((376, 1), (376, 1))"
      ]
     },
     "execution_count": 17,
     "metadata": {},
     "output_type": "execute_result"
    }
   ],
   "source": [
    "x_train_lda_FLDM2.shape, x_test_lda_FLDM2.shape"
   ]
  },
  {
   "cell_type": "code",
   "execution_count": 18,
   "id": "ac576ac3",
   "metadata": {},
   "outputs": [
    {
     "data": {
      "image/png": "[encoded data removed]",
      "text/plain": [
       "<Figure size 720x720 with 1 Axes>"
      ]
     },
     "metadata": {
      "needs_background": "light"
     },
     "output_type": "display_data"
    }
   ],
   "source": [
    "markers = ['s','x']\n",
    "colors = ['r','b']\n",
    "\n",
    "fig = plt.figure(figsize=(10,10))\n",
    "ax0 = fig.add_subplot(111)\n",
    "\n",
    "for l,m,c in zip(np.unique(y_train),markers,colors):\n",
    "    ax0.scatter(x_train_lda_FLDM2[:,0][y_train==l],x_train_lda_FLDM2[:,0][y_train==l],c=c,marker=m)\n",
    "    "
   ]
  },
  {
   "cell_type": "markdown",
   "id": "79258e82",
   "metadata": {},
   "source": [
    "# Part C – Logistic Regression:"
   ]
  },
  {
   "cell_type": "code",
   "execution_count": null,
   "id": "18131dd9",
   "metadata": {},
   "outputs": [],
   "source": []
  }
 ],
 "metadata": {
  "kernelspec": {
   "display_name": "Python 3 (ipykernel)",
   "language": "python",
   "name": "python3"
  },
  "language_info": {
   "codemirror_mode": {
    "name": "ipython",
    "version": 3
   },
   "file_extension": ".py",
   "mimetype": "text/x-python",
   "name": "python",
   "nbconvert_exporter": "python",
   "pygments_lexer": "ipython3",
   "version": "3.9.12"
  }
 },
 "nbformat": 4,
 "nbformat_minor": 5
}
