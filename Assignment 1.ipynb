{
 "cells": [
  {
   "cell_type": "code",
   "execution_count": 1,
   "id": "9dce30f3",
   "metadata": {},
   "outputs": [],
   "source": [
    "import numpy as np\n",
    "import pandas as pd\n",
    "import matplotlib.pyplot as plt"
   ]
  },
  {
   "cell_type": "code",
   "execution_count": 2,
   "id": "4eefc2c3",
   "metadata": {},
   "outputs": [],
   "source": [
    "df = pd.read_csv('Dsata Set for Assignment 1.csv')\n"
   ]
  },
  {
   "cell_type": "markdown",
   "id": "17488c11",
   "metadata": {},
   "source": [
    "# Feature Engineering Task 1:"
   ]
  },
  {
   "cell_type": "code",
   "execution_count": 3,
   "id": "2768d8cf",
   "metadata": {},
   "outputs": [
    {
     "data": {
      "text/plain": [
       "id                         0\n",
       "diagnosis                  0\n",
       "radius_mean                1\n",
       "texture_mean               0\n",
       "perimeter_mean             1\n",
       "area_mean                  0\n",
       "smoothness_mean            0\n",
       "compactness_mean           0\n",
       "concavity_mean             1\n",
       "concave points_mean        0\n",
       "symmetry_mean              0\n",
       "fractal_dimension_mean     0\n",
       "radius_se                  0\n",
       "texture_se                 0\n",
       "perimeter_se               0\n",
       "area_se                    0\n",
       "smoothness_se              0\n",
       "compactness_se             1\n",
       "concavity_se               0\n",
       "concave points_se          0\n",
       "symmetry_se                0\n",
       "fractal_dimension_se       0\n",
       "radius_worst               0\n",
       "texture_worst              0\n",
       "perimeter_worst            0\n",
       "area_worst                 2\n",
       "smoothness_worst           0\n",
       "compactness_worst          0\n",
       "concavity_worst            1\n",
       "concave points_worst       0\n",
       "symmetry_worst             0\n",
       "fractal_dimension_worst    0\n",
       "dtype: int64"
      ]
     },
     "execution_count": 3,
     "metadata": {},
     "output_type": "execute_result"
    }
   ],
   "source": [
    "#We first need to undersatand the number of missing values in each column\n",
    "df.isnull().sum()"
   ]
  },
  {
   "cell_type": "code",
   "execution_count": 4,
   "id": "1c642c68",
   "metadata": {},
   "outputs": [],
   "source": [
    "#The NULL values are only present in continuous numerical values, so we fill it with the mean of exsisting values in the column\n",
    "df_new=df\n",
    "df_new['radius_mean'] = df_new['radius_mean'].replace(np.NaN, df_new['radius_mean'].mean())\n",
    "df_new['perimeter_mean'] = df_new['perimeter_mean'].replace(np.NaN, df_new['perimeter_mean'].mean())\n",
    "df_new['concavity_mean'] = df_new['concavity_mean'].replace(np.NaN, df_new['concavity_mean'].mean())\n",
    "df_new['compactness_se'] = df_new['compactness_se'].replace(np.NaN, df_new['compactness_se'].mean())\n",
    "df_new['area_worst'] = df_new['area_worst'].replace(np.NaN, df_new['area_worst'].mean())\n",
    "df_new['concavity_worst'] = df_new['concavity_worst'].replace(np.NaN, df_new['concavity_worst'].mean())"
   ]
  },
  {
   "cell_type": "code",
   "execution_count": 5,
   "id": "cba72be2",
   "metadata": {},
   "outputs": [
    {
     "data": {
      "text/plain": [
       "0"
      ]
     },
     "execution_count": 5,
     "metadata": {},
     "output_type": "execute_result"
    }
   ],
   "source": [
    "# We have successfully added the missing values\n",
    "df.isnull().sum().sum()"
   ]
  },
  {
   "cell_type": "markdown",
   "id": "b67549ea",
   "metadata": {},
   "source": [
    "# Feature Engineering Task 2"
   ]
  },
  {
   "cell_type": "code",
   "execution_count": 6,
   "id": "bddb3a72",
   "metadata": {},
   "outputs": [],
   "source": [
    "# Normalizing all the features and saving it in a new DataFrame\n",
    "normalized_df=df_new\n",
    "normalized_df.iloc[:,2:]=df_new.iloc[:,2:].apply(lambda x: (x-x.mean())/ x.std(), axis=0)"
   ]
  },
  {
   "cell_type": "code",
   "execution_count": 7,
   "id": "87a0a96c",
   "metadata": {},
   "outputs": [
    {
     "data": {
      "text/plain": [
       "<bound method NDFrame.head of            id diagnosis  radius_mean  texture_mean  perimeter_mean  area_mean  \\\n",
       "0      842302         M     1.102422     -2.071512        1.268389   0.983510   \n",
       "1      842517         M     1.836635     -0.353322        1.684639   1.907030   \n",
       "2    84300903         M     1.586206      0.455786        1.565122   1.557513   \n",
       "3    84348301         M    -0.767260      0.253509       -0.595257  -0.763792   \n",
       "4    84358402         M     1.756953     -1.150804        1.775308   1.824624   \n",
       "..        ...       ...          ...           ...             ...        ...   \n",
       "564    926424         M     2.118368      0.720838        2.059677   2.341795   \n",
       "565    926682         M     1.711420      2.083301        1.614577   1.722326   \n",
       "566    926954         M     0.706858      2.043775        0.670803   0.577445   \n",
       "567    927241         M     1.845172      2.334403        1.981372   1.733693   \n",
       "568     92751         B    -1.808817      1.220718       -1.817631  -1.346604   \n",
       "\n",
       "     smoothness_mean  compactness_mean  concavity_mean  concave points_mean  \\\n",
       "0           1.567087          3.280628        2.650837             2.530249   \n",
       "1          -0.826235         -0.486643       -0.025417             0.547662   \n",
       "2           0.941382          1.052000        1.361666             2.035440   \n",
       "3           3.280667          3.399917        1.913989             1.450431   \n",
       "4           0.280125          0.538866        1.369198             1.427237   \n",
       "..               ...               ...             ...                  ...   \n",
       "564         1.040926          0.218868        1.945370             2.318924   \n",
       "565         0.102368         -0.017817        0.691347             1.262558   \n",
       "566        -0.839745         -0.038646        0.045004             0.105684   \n",
       "567         1.524426          3.269267        3.294795             2.656528   \n",
       "568        -3.109349         -1.149741       -1.116254            -1.260710   \n",
       "\n",
       "     ...  radius_worst  texture_worst  perimeter_worst  area_worst  \\\n",
       "0    ...      1.885031      -1.358098         2.301575    1.998658   \n",
       "1    ...      1.804340      -0.368879         1.533776    1.887973   \n",
       "2    ...      1.510541      -0.023953         1.346291    1.454016   \n",
       "3    ...     -0.281217       0.133866        -0.249720   -0.551147   \n",
       "4    ...      1.297434      -1.465481         1.337363    1.218589   \n",
       "..   ...           ...            ...              ...         ...   \n",
       "564  ...      1.899514       0.117596         1.751022    2.012713   \n",
       "565  ...      1.535369       2.045599         1.420690    1.492668   \n",
       "566  ...      0.560868       1.373645         0.578492    0.426222   \n",
       "567  ...      1.959515       2.235958         2.301575    1.650790   \n",
       "568  ...     -1.409652       0.763518        -1.431475   -1.076640   \n",
       "\n",
       "     smoothness_worst  compactness_worst  concavity_worst  \\\n",
       "0            1.306537           2.614365         2.107374   \n",
       "1           -0.375282          -0.430066        -0.147968   \n",
       "2            0.526944           1.081980         0.853340   \n",
       "3            3.391291           3.889975         1.987485   \n",
       "4            0.220362          -0.313119         0.611645   \n",
       "..                ...                ...              ...   \n",
       "564          0.378033          -0.273077         0.662958   \n",
       "565         -0.690623          -0.394473         0.235195   \n",
       "566         -0.808876           0.350427         0.325352   \n",
       "567          1.429169           3.901415         3.195002   \n",
       "568         -1.857384          -1.206491        -1.306570   \n",
       "\n",
       "     concave points_worst  symmetry_worst  fractal_dimension_worst  \n",
       "0                2.294058        2.748204                 1.935312  \n",
       "1                1.086129       -0.243675                 0.280943  \n",
       "2                1.953282        1.151242                 0.201214  \n",
       "3                2.173873        6.040726                 4.930672  \n",
       "4                0.728618       -0.867590                -0.396751  \n",
       "..                    ...             ...                      ...  \n",
       "564              1.627719       -1.358963                -0.708467  \n",
       "565              0.733182       -0.531387                -0.973122  \n",
       "566              0.413705       -1.103578                -0.318129  \n",
       "567              2.287972        1.917396                 2.217684  \n",
       "568             -1.743529       -0.048096                -0.750546  \n",
       "\n",
       "[569 rows x 32 columns]>"
      ]
     },
     "execution_count": 7,
     "metadata": {},
     "output_type": "execute_result"
    }
   ],
   "source": [
    "# The Normalized DataSet is shown below\n",
    "normalized_df.head"
   ]
  },
  {
   "cell_type": "markdown",
   "id": "6f4e9694",
   "metadata": {},
   "source": [
    "# Part A - Perceptron Learning Algorithm:"
   ]
  },
  {
   "cell_type": "markdown",
   "id": "26c44c84",
   "metadata": {},
   "source": [
    "# Part B – Fisher’s Linear Discriminant Analysis:"
   ]
  },
  {
   "cell_type": "markdown",
   "id": "da4683b6",
   "metadata": {},
   "source": [
    "## Learning Task 1:"
   ]
  },
  {
   "cell_type": "code",
   "execution_count": 8,
   "id": "92e9554d",
   "metadata": {},
   "outputs": [],
   "source": [
    "target_name = \"diagnosis\"\n",
    "\n",
    "y = df_new[target_name]\n",
    "\n",
    "x = df_new.drop(['id', 'diagnosis'], axis=1)"
   ]
  },
  {
   "cell_type": "code",
   "execution_count": 9,
   "id": "22073b88",
   "metadata": {},
   "outputs": [
    {
     "name": "stdout",
     "output_type": "stream",
     "text": [
      "No. of training examples: (376, 30)\n",
      "No. of testing examples: (193, 30)\n"
     ]
    }
   ],
   "source": [
    "x_train = x.sample(frac=0.66, random_state=25)\n",
    "x_test = x.drop(x_train.index)\n",
    "\n",
    "print(f\"No. of training examples: {x_train.shape}\")\n",
    "print(f\"No. of testing examples: {x_test.shape}\")"
   ]
  },
  {
   "cell_type": "code",
   "execution_count": 10,
   "id": "37532744",
   "metadata": {},
   "outputs": [
    {
     "name": "stdout",
     "output_type": "stream",
     "text": [
      "No. of training examples: (376,)\n",
      "No. of testing examples: (193,)\n"
     ]
    }
   ],
   "source": [
    "y_train = y.sample(frac=0.66, random_state=25)\n",
    "y_test = y.drop(y_train.index)\n",
    "\n",
    "print(f\"No. of training examples: {y_train.shape}\")\n",
    "print(f\"No. of testing examples: {y_test.shape}\")"
   ]
  },
  {
   "cell_type": "code",
   "execution_count": 11,
   "id": "775f0f07",
   "metadata": {},
   "outputs": [],
   "source": [
    "from sklearn.discriminant_analysis import LinearDiscriminantAnalysis as LDA\n",
    "lda = LDA(n_components=1)\n",
    "x_train_lda = lda.fit_transform(x_train, y_train)\n",
    "x_test_lda = lda.transform(x_test)"
   ]
  },
  {
   "cell_type": "code",
   "execution_count": 12,
   "id": "b6f23c83",
   "metadata": {},
   "outputs": [
    {
     "data": {
      "text/plain": [
       "((376, 1), (193, 1))"
      ]
     },
     "execution_count": 12,
     "metadata": {},
     "output_type": "execute_result"
    }
   ],
   "source": [
    "x_train_lda.shape, x_test_lda.shape"
   ]
  },
  {
   "cell_type": "code",
   "execution_count": 28,
   "id": "208a2ce0",
   "metadata": {},
   "outputs": [
    {
     "data": {
      "image/png": "[encoded data removed]",
      "text/plain": [
       "<Figure size 720x720 with 1 Axes>"
      ]
     },
     "metadata": {
      "needs_background": "light"
     },
     "output_type": "display_data"
    }
   ],
   "source": [
    "markers = ['s','x']\n",
    "colors = ['r','b']\n",
    "\n",
    "fig = plt.figure(figsize=(10,10))\n",
    "ax0 = fig.add_subplot(111)\n",
    "\n",
    "for l,m,c in zip(np.unique(y_train),markers,colors):\n",
    "    ax0.scatter(x_train_lda[:,0][y_train==l],x_train_lda[:,0][y_train==l],c=c,marker=m)\n",
    "    "
   ]
  },
  {
   "cell_type": "markdown",
   "id": "75c464df",
   "metadata": {},
   "source": [
    "## Learning Task 2:"
   ]
  },
  {
   "cell_type": "code",
   "execution_count": 14,
   "id": "c1cea826",
   "metadata": {},
   "outputs": [],
   "source": [
    "#Change the order of features in the dataset randomly.\n",
    "\n",
    "x=np.random.randint(30, size=(30))\n",
    "\n",
    "x_train_FLDM2= x_train.iloc[:, x]\n",
    "x_test_FLDM2= x_train.iloc[:, x]\n"
   ]
  },
  {
   "cell_type": "code",
   "execution_count": 36,
   "id": "6c3825a6",
   "metadata": {},
   "outputs": [
    {
     "data": {
      "text/html": [
       "<div>\n",
       "<style scoped>\n",
       "    .dataframe tbody tr th:only-of-type {\n",
       "        vertical-align: middle;\n",
       "    }\n",
       "\n",
       "    .dataframe tbody tr th {\n",
       "        vertical-align: top;\n",
       "    }\n",
       "\n",
       "    .dataframe thead th {\n",
       "        text-align: right;\n",
       "    }\n",
       "</style>\n",
       "<table border=\"1\" class=\"dataframe\">\n",
       "  <thead>\n",
       "    <tr style=\"text-align: right;\">\n",
       "      <th></th>\n",
       "      <th>symmetry_worst</th>\n",
       "      <th>concavity_se</th>\n",
       "      <th>fractal_dimension_se</th>\n",
       "      <th>radius_worst</th>\n",
       "      <th>concavity_worst</th>\n",
       "      <th>smoothness_worst</th>\n",
       "      <th>symmetry_worst</th>\n",
       "      <th>radius_worst</th>\n",
       "      <th>fractal_dimension_se</th>\n",
       "      <th>radius_mean</th>\n",
       "      <th>...</th>\n",
       "      <th>compactness_worst</th>\n",
       "      <th>perimeter_worst</th>\n",
       "      <th>concave points_mean</th>\n",
       "      <th>concave points_se</th>\n",
       "      <th>perimeter_worst</th>\n",
       "      <th>concave points_mean</th>\n",
       "      <th>area_mean</th>\n",
       "      <th>texture_worst</th>\n",
       "      <th>symmetry_worst</th>\n",
       "      <th>concave points_se</th>\n",
       "    </tr>\n",
       "  </thead>\n",
       "  <tbody>\n",
       "    <tr>\n",
       "      <th>522</th>\n",
       "      <td>-0.555632</td>\n",
       "      <td>-0.929161</td>\n",
       "      <td>-0.566842</td>\n",
       "      <td>-0.897780</td>\n",
       "      <td>-1.185099</td>\n",
       "      <td>-0.944647</td>\n",
       "      <td>-0.555632</td>\n",
       "      <td>-0.897780</td>\n",
       "      <td>-0.566842</td>\n",
       "      <td>-0.812792</td>\n",
       "      <td>...</td>\n",
       "      <td>-1.125200</td>\n",
       "      <td>-0.919014</td>\n",
       "      <td>-1.114742</td>\n",
       "      <td>-1.252963</td>\n",
       "      <td>-0.919014</td>\n",
       "      <td>-1.114742</td>\n",
       "      <td>-0.758109</td>\n",
       "      <td>0.122477</td>\n",
       "      <td>-0.555632</td>\n",
       "      <td>-1.252963</td>\n",
       "    </tr>\n",
       "    <tr>\n",
       "      <th>120</th>\n",
       "      <td>0.186276</td>\n",
       "      <td>-0.555015</td>\n",
       "      <td>-0.600477</td>\n",
       "      <td>-0.713639</td>\n",
       "      <td>-0.298548</td>\n",
       "      <td>0.982436</td>\n",
       "      <td>0.186276</td>\n",
       "      <td>-0.713639</td>\n",
       "      <td>-0.600477</td>\n",
       "      <td>-0.770105</td>\n",
       "      <td>...</td>\n",
       "      <td>-0.097022</td>\n",
       "      <td>-0.699983</td>\n",
       "      <td>-0.584729</td>\n",
       "      <td>-0.864812</td>\n",
       "      <td>-0.699983</td>\n",
       "      <td>-0.584729</td>\n",
       "      <td>-0.714916</td>\n",
       "      <td>-1.579371</td>\n",
       "      <td>0.186276</td>\n",
       "      <td>-0.864812</td>\n",
       "    </tr>\n",
       "    <tr>\n",
       "      <th>241</th>\n",
       "      <td>0.000395</td>\n",
       "      <td>-0.841472</td>\n",
       "      <td>-0.920196</td>\n",
       "      <td>-0.635017</td>\n",
       "      <td>-1.007185</td>\n",
       "      <td>-1.255609</td>\n",
       "      <td>0.000395</td>\n",
       "      <td>-0.635017</td>\n",
       "      <td>-0.920196</td>\n",
       "      <td>-0.482681</td>\n",
       "      <td>...</td>\n",
       "      <td>-1.121832</td>\n",
       "      <td>-0.696710</td>\n",
       "      <td>-0.975164</td>\n",
       "      <td>-1.302069</td>\n",
       "      <td>-0.696710</td>\n",
       "      <td>-0.975164</td>\n",
       "      <td>-0.506911</td>\n",
       "      <td>-0.863489</td>\n",
       "      <td>0.000395</td>\n",
       "      <td>-1.302069</td>\n",
       "    </tr>\n",
       "    <tr>\n",
       "      <th>362</th>\n",
       "      <td>-0.253373</td>\n",
       "      <td>-0.550046</td>\n",
       "      <td>-0.628065</td>\n",
       "      <td>-0.521222</td>\n",
       "      <td>-0.704730</td>\n",
       "      <td>-0.112498</td>\n",
       "      <td>-0.253373</td>\n",
       "      <td>-0.521222</td>\n",
       "      <td>-0.628065</td>\n",
       "      <td>-0.385924</td>\n",
       "      <td>...</td>\n",
       "      <td>-0.447226</td>\n",
       "      <td>-0.578564</td>\n",
       "      <td>-0.801723</td>\n",
       "      <td>-0.291581</td>\n",
       "      <td>-0.578564</td>\n",
       "      <td>-0.801723</td>\n",
       "      <td>-0.449795</td>\n",
       "      <td>0.050889</td>\n",
       "      <td>-0.253373</td>\n",
       "      <td>-0.291581</td>\n",
       "    </tr>\n",
       "    <tr>\n",
       "      <th>221</th>\n",
       "      <td>0.265478</td>\n",
       "      <td>-0.213798</td>\n",
       "      <td>-0.331398</td>\n",
       "      <td>-0.266734</td>\n",
       "      <td>-0.070760</td>\n",
       "      <td>0.229122</td>\n",
       "      <td>0.265478</td>\n",
       "      <td>-0.266734</td>\n",
       "      <td>-0.331398</td>\n",
       "      <td>-0.158261</td>\n",
       "      <td>...</td>\n",
       "      <td>0.098737</td>\n",
       "      <td>-0.183356</td>\n",
       "      <td>-0.113629</td>\n",
       "      <td>-0.556885</td>\n",
       "      <td>-0.183356</td>\n",
       "      <td>-0.113629</td>\n",
       "      <td>-0.265943</td>\n",
       "      <td>-1.390639</td>\n",
       "      <td>0.265478</td>\n",
       "      <td>-0.556885</td>\n",
       "    </tr>\n",
       "    <tr>\n",
       "      <th>...</th>\n",
       "      <td>...</td>\n",
       "      <td>...</td>\n",
       "      <td>...</td>\n",
       "      <td>...</td>\n",
       "      <td>...</td>\n",
       "      <td>...</td>\n",
       "      <td>...</td>\n",
       "      <td>...</td>\n",
       "      <td>...</td>\n",
       "      <td>...</td>\n",
       "      <td>...</td>\n",
       "      <td>...</td>\n",
       "      <td>...</td>\n",
       "      <td>...</td>\n",
       "      <td>...</td>\n",
       "      <td>...</td>\n",
       "      <td>...</td>\n",
       "      <td>...</td>\n",
       "      <td>...</td>\n",
       "      <td>...</td>\n",
       "      <td>...</td>\n",
       "    </tr>\n",
       "    <tr>\n",
       "      <th>34</th>\n",
       "      <td>2.213189</td>\n",
       "      <td>-0.174044</td>\n",
       "      <td>0.008351</td>\n",
       "      <td>0.815356</td>\n",
       "      <td>1.222597</td>\n",
       "      <td>0.535703</td>\n",
       "      <td>2.213189</td>\n",
       "      <td>0.815356</td>\n",
       "      <td>0.008351</td>\n",
       "      <td>0.573106</td>\n",
       "      <td>...</td>\n",
       "      <td>2.072850</td>\n",
       "      <td>0.757049</td>\n",
       "      <td>0.737081</td>\n",
       "      <td>-0.442303</td>\n",
       "      <td>0.757049</td>\n",
       "      <td>0.737081</td>\n",
       "      <td>0.432807</td>\n",
       "      <td>0.257519</td>\n",
       "      <td>2.213189</td>\n",
       "      <td>-0.442303</td>\n",
       "    </tr>\n",
       "    <tr>\n",
       "      <th>266</th>\n",
       "      <td>0.063433</td>\n",
       "      <td>0.054538</td>\n",
       "      <td>-0.180231</td>\n",
       "      <td>-0.908125</td>\n",
       "      <td>-0.387745</td>\n",
       "      <td>-0.484775</td>\n",
       "      <td>0.063433</td>\n",
       "      <td>-0.908125</td>\n",
       "      <td>-0.180231</td>\n",
       "      <td>-1.000614</td>\n",
       "      <td>...</td>\n",
       "      <td>-0.017574</td>\n",
       "      <td>-0.862471</td>\n",
       "      <td>-0.579832</td>\n",
       "      <td>0.300450</td>\n",
       "      <td>-0.862471</td>\n",
       "      <td>-0.579832</td>\n",
       "      <td>-0.876603</td>\n",
       "      <td>-0.445348</td>\n",
       "      <td>0.063433</td>\n",
       "      <td>0.300450</td>\n",
       "    </tr>\n",
       "    <tr>\n",
       "      <th>85</th>\n",
       "      <td>1.283783</td>\n",
       "      <td>-0.127003</td>\n",
       "      <td>-0.015080</td>\n",
       "      <td>1.378125</td>\n",
       "      <td>0.207381</td>\n",
       "      <td>0.325476</td>\n",
       "      <td>1.283783</td>\n",
       "      <td>1.378125</td>\n",
       "      <td>-0.015080</td>\n",
       "      <td>1.236174</td>\n",
       "      <td>...</td>\n",
       "      <td>-0.288331</td>\n",
       "      <td>1.337363</td>\n",
       "      <td>1.005876</td>\n",
       "      <td>0.389587</td>\n",
       "      <td>1.337363</td>\n",
       "      <td>1.005876</td>\n",
       "      <td>1.193788</td>\n",
       "      <td>0.325853</td>\n",
       "      <td>1.283783</td>\n",
       "      <td>0.389587</td>\n",
       "    </tr>\n",
       "    <tr>\n",
       "      <th>518</th>\n",
       "      <td>-0.515223</td>\n",
       "      <td>-0.591124</td>\n",
       "      <td>-0.187411</td>\n",
       "      <td>-0.252251</td>\n",
       "      <td>-0.709046</td>\n",
       "      <td>0.579501</td>\n",
       "      <td>-0.515223</td>\n",
       "      <td>-0.252251</td>\n",
       "      <td>-0.187411</td>\n",
       "      <td>-0.351775</td>\n",
       "      <td>...</td>\n",
       "      <td>0.265895</td>\n",
       "      <td>-0.236625</td>\n",
       "      <td>0.105942</td>\n",
       "      <td>0.104349</td>\n",
       "      <td>-0.236625</td>\n",
       "      <td>0.105942</td>\n",
       "      <td>-0.459740</td>\n",
       "      <td>-0.212686</td>\n",
       "      <td>-0.515223</td>\n",
       "      <td>0.104349</td>\n",
       "    </tr>\n",
       "    <tr>\n",
       "      <th>423</th>\n",
       "      <td>-0.253373</td>\n",
       "      <td>0.158891</td>\n",
       "      <td>0.060881</td>\n",
       "      <td>-0.233630</td>\n",
       "      <td>0.448597</td>\n",
       "      <td>-0.773838</td>\n",
       "      <td>-0.253373</td>\n",
       "      <td>-0.233630</td>\n",
       "      <td>0.060881</td>\n",
       "      <td>-0.129803</td>\n",
       "      <td>...</td>\n",
       "      <td>0.396824</td>\n",
       "      <td>-0.174428</td>\n",
       "      <td>-0.020595</td>\n",
       "      <td>0.152969</td>\n",
       "      <td>-0.174428</td>\n",
       "      <td>-0.020595</td>\n",
       "      <td>-0.226161</td>\n",
       "      <td>-0.028834</td>\n",
       "      <td>-0.253373</td>\n",
       "      <td>0.152969</td>\n",
       "    </tr>\n",
       "  </tbody>\n",
       "</table>\n",
       "<p>376 rows × 30 columns</p>\n",
       "</div>"
      ],
      "text/plain": [
       "     symmetry_worst  concavity_se  fractal_dimension_se  radius_worst  \\\n",
       "522       -0.555632     -0.929161             -0.566842     -0.897780   \n",
       "120        0.186276     -0.555015             -0.600477     -0.713639   \n",
       "241        0.000395     -0.841472             -0.920196     -0.635017   \n",
       "362       -0.253373     -0.550046             -0.628065     -0.521222   \n",
       "221        0.265478     -0.213798             -0.331398     -0.266734   \n",
       "..              ...           ...                   ...           ...   \n",
       "34         2.213189     -0.174044              0.008351      0.815356   \n",
       "266        0.063433      0.054538             -0.180231     -0.908125   \n",
       "85         1.283783     -0.127003             -0.015080      1.378125   \n",
       "518       -0.515223     -0.591124             -0.187411     -0.252251   \n",
       "423       -0.253373      0.158891              0.060881     -0.233630   \n",
       "\n",
       "     concavity_worst  smoothness_worst  symmetry_worst  radius_worst  \\\n",
       "522        -1.185099         -0.944647       -0.555632     -0.897780   \n",
       "120        -0.298548          0.982436        0.186276     -0.713639   \n",
       "241        -1.007185         -1.255609        0.000395     -0.635017   \n",
       "362        -0.704730         -0.112498       -0.253373     -0.521222   \n",
       "221        -0.070760          0.229122        0.265478     -0.266734   \n",
       "..               ...               ...             ...           ...   \n",
       "34          1.222597          0.535703        2.213189      0.815356   \n",
       "266        -0.387745         -0.484775        0.063433     -0.908125   \n",
       "85          0.207381          0.325476        1.283783      1.378125   \n",
       "518        -0.709046          0.579501       -0.515223     -0.252251   \n",
       "423         0.448597         -0.773838       -0.253373     -0.233630   \n",
       "\n",
       "     fractal_dimension_se  radius_mean  ...  compactness_worst  \\\n",
       "522             -0.566842    -0.812792  ...          -1.125200   \n",
       "120             -0.600477    -0.770105  ...          -0.097022   \n",
       "241             -0.920196    -0.482681  ...          -1.121832   \n",
       "362             -0.628065    -0.385924  ...          -0.447226   \n",
       "221             -0.331398    -0.158261  ...           0.098737   \n",
       "..                    ...          ...  ...                ...   \n",
       "34               0.008351     0.573106  ...           2.072850   \n",
       "266             -0.180231    -1.000614  ...          -0.017574   \n",
       "85              -0.015080     1.236174  ...          -0.288331   \n",
       "518             -0.187411    -0.351775  ...           0.265895   \n",
       "423              0.060881    -0.129803  ...           0.396824   \n",
       "\n",
       "     perimeter_worst  concave points_mean  concave points_se  perimeter_worst  \\\n",
       "522        -0.919014            -1.114742          -1.252963        -0.919014   \n",
       "120        -0.699983            -0.584729          -0.864812        -0.699983   \n",
       "241        -0.696710            -0.975164          -1.302069        -0.696710   \n",
       "362        -0.578564            -0.801723          -0.291581        -0.578564   \n",
       "221        -0.183356            -0.113629          -0.556885        -0.183356   \n",
       "..               ...                  ...                ...              ...   \n",
       "34          0.757049             0.737081          -0.442303         0.757049   \n",
       "266        -0.862471            -0.579832           0.300450        -0.862471   \n",
       "85          1.337363             1.005876           0.389587         1.337363   \n",
       "518        -0.236625             0.105942           0.104349        -0.236625   \n",
       "423        -0.174428            -0.020595           0.152969        -0.174428   \n",
       "\n",
       "     concave points_mean  area_mean  texture_worst  symmetry_worst  \\\n",
       "522            -1.114742  -0.758109       0.122477       -0.555632   \n",
       "120            -0.584729  -0.714916      -1.579371        0.186276   \n",
       "241            -0.975164  -0.506911      -0.863489        0.000395   \n",
       "362            -0.801723  -0.449795       0.050889       -0.253373   \n",
       "221            -0.113629  -0.265943      -1.390639        0.265478   \n",
       "..                   ...        ...            ...             ...   \n",
       "34              0.737081   0.432807       0.257519        2.213189   \n",
       "266            -0.579832  -0.876603      -0.445348        0.063433   \n",
       "85              1.005876   1.193788       0.325853        1.283783   \n",
       "518             0.105942  -0.459740      -0.212686       -0.515223   \n",
       "423            -0.020595  -0.226161      -0.028834       -0.253373   \n",
       "\n",
       "     concave points_se  \n",
       "522          -1.252963  \n",
       "120          -0.864812  \n",
       "241          -1.302069  \n",
       "362          -0.291581  \n",
       "221          -0.556885  \n",
       "..                 ...  \n",
       "34           -0.442303  \n",
       "266           0.300450  \n",
       "85            0.389587  \n",
       "518           0.104349  \n",
       "423           0.152969  \n",
       "\n",
       "[376 rows x 30 columns]"
      ]
     },
     "execution_count": 36,
     "metadata": {},
     "output_type": "execute_result"
    }
   ],
   "source": [
    "x_train_FLDM2\n",
    "#Viewing the changed dataset"
   ]
  },
  {
   "cell_type": "code",
   "execution_count": 30,
   "id": "bd1248dd",
   "metadata": {},
   "outputs": [],
   "source": [
    "x_train_lda_FLDM2 = lda.fit_transform(x_train_FLDM2, y_train)\n",
    "x_test_lda_FLDM2 = lda.transform(x_test_FLDM2)"
   ]
  },
  {
   "cell_type": "code",
   "execution_count": 31,
   "id": "ad5696fc",
   "metadata": {},
   "outputs": [
    {
     "data": {
      "text/plain": [
       "((376, 1), (376, 1))"
      ]
     },
     "execution_count": 31,
     "metadata": {},
     "output_type": "execute_result"
    }
   ],
   "source": [
    "x_train_lda_FLDM2.shape, x_test_lda_FLDM2.shape"
   ]
  },
  {
   "cell_type": "code",
   "execution_count": 34,
   "id": "2de290ba",
   "metadata": {},
   "outputs": [
    {
     "data": {
      "image/png": "[encoded data removed]",
      "text/plain": [
       "<Figure size 720x720 with 1 Axes>"
      ]
     },
     "metadata": {
      "needs_background": "light"
     },
     "output_type": "display_data"
    }
   ],
   "source": [
    "markers = ['s','x']\n",
    "colors = ['r','b']\n",
    "\n",
    "fig = plt.figure(figsize=(10,10))\n",
    "ax0 = fig.add_subplot(111)\n",
    "\n",
    "for l,m,c in zip(np.unique(y_train),markers,colors):\n",
    "    ax0.scatter(x_train_lda_FLDM2[:,0][y_train==l],x_train_lda_FLDM2[:,0][y_train==l],c=c,marker=m)\n",
    "    "
   ]
  },
  {
   "cell_type": "markdown",
   "id": "88545347",
   "metadata": {},
   "source": [
    "# Part C – Logistic Regression:"
   ]
  },
  {
   "cell_type": "code",
   "execution_count": null,
   "id": "099e9a67",
   "metadata": {},
   "outputs": [],
   "source": []
  }
 ],
 "metadata": {
  "kernelspec": {
   "display_name": "Python 3 (ipykernel)",
   "language": "python",
   "name": "python3"
  },
  "language_info": {
   "codemirror_mode": {
    "name": "ipython",
    "version": 3
   },
   "file_extension": ".py",
   "mimetype": "text/x-python",
   "name": "python",
   "nbconvert_exporter": "python",
   "pygments_lexer": "ipython3",
   "version": "3.9.12"
  }
 },
 "nbformat": 4,
 "nbformat_minor": 5
}
