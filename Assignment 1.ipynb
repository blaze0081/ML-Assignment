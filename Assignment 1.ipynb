{
 "cells": [
  {
   "cell_type": "code",
   "execution_count": 1,
   "id": "9dce30f3",
   "metadata": {},
   "outputs": [],
   "source": [
    "import numpy as np\n",
    "import pandas as pd\n",
    "import matplotlib.pyplot as plt"
   ]
  },
  {
   "cell_type": "code",
   "execution_count": 2,
   "id": "4eefc2c3",
   "metadata": {},
   "outputs": [],
   "source": [
    "df = pd.read_csv('Dsata Set for Assignment 1.csv')\n"
   ]
  },
  {
   "cell_type": "markdown",
   "id": "17488c11",
   "metadata": {},
   "source": [
    "# Feature Engineering Task 1:"
   ]
  },
  {
   "cell_type": "code",
   "execution_count": 3,
   "id": "2768d8cf",
   "metadata": {},
   "outputs": [
    {
     "data": {
      "text/plain": [
       "id                         0\n",
       "diagnosis                  0\n",
       "radius_mean                1\n",
       "texture_mean               0\n",
       "perimeter_mean             1\n",
       "area_mean                  0\n",
       "smoothness_mean            0\n",
       "compactness_mean           0\n",
       "concavity_mean             1\n",
       "concave points_mean        0\n",
       "symmetry_mean              0\n",
       "fractal_dimension_mean     0\n",
       "radius_se                  0\n",
       "texture_se                 0\n",
       "perimeter_se               0\n",
       "area_se                    0\n",
       "smoothness_se              0\n",
       "compactness_se             1\n",
       "concavity_se               0\n",
       "concave points_se          0\n",
       "symmetry_se                0\n",
       "fractal_dimension_se       0\n",
       "radius_worst               0\n",
       "texture_worst              0\n",
       "perimeter_worst            0\n",
       "area_worst                 2\n",
       "smoothness_worst           0\n",
       "compactness_worst          0\n",
       "concavity_worst            1\n",
       "concave points_worst       0\n",
       "symmetry_worst             0\n",
       "fractal_dimension_worst    0\n",
       "dtype: int64"
      ]
     },
     "execution_count": 3,
     "metadata": {},
     "output_type": "execute_result"
    }
   ],
   "source": [
    "#We first need to undersatand the number of missing values in each column\n",
    "df.isnull().sum()"
   ]
  },
  {
   "cell_type": "code",
   "execution_count": 8,
   "id": "1c642c68",
   "metadata": {},
   "outputs": [],
   "source": [
    "#The NULL values are only present in continuous numerical values, so we fill it with the mean of exsisting values in the column\n",
    "df_new=df\n",
    "df_new['radius_mean'] = df_new['radius_mean'].replace(np.NaN, df_new['radius_mean'].mean())\n",
    "df_new['perimeter_mean'] = df_new['perimeter_mean'].replace(np.NaN, df_new['perimeter_mean'].mean())\n",
    "df_new['concavity_mean'] = df_new['concavity_mean'].replace(np.NaN, df_new['concavity_mean'].mean())\n",
    "df_new['compactness_se'] = df_new['compactness_se'].replace(np.NaN, df_new['compactness_se'].mean())\n",
    "df_new['area_worst'] = df_new['area_worst'].replace(np.NaN, df_new['area_worst'].mean())\n",
    "df_new['concavity_worst'] = df_new['concavity_worst'].replace(np.NaN, df_new['concavity_worst'].mean())"
   ]
  },
  {
   "cell_type": "code",
   "execution_count": 9,
   "id": "cba72be2",
   "metadata": {},
   "outputs": [
    {
     "data": {
      "text/plain": [
       "0"
      ]
     },
     "execution_count": 9,
     "metadata": {},
     "output_type": "execute_result"
    }
   ],
   "source": [
    "# We have successfully added the missing values\n",
    "df.isnull().sum().sum()"
   ]
  },
  {
   "cell_type": "code",
   "execution_count": 10,
   "id": "d59a4ee4",
   "metadata": {},
   "outputs": [],
   "source": [
    "df_new.to_csv(r'ds.csv', index=False)"
   ]
  },
  {
   "cell_type": "markdown",
   "id": "b67549ea",
   "metadata": {},
   "source": [
    "# Feature Engineering Task 2"
   ]
  },
  {
   "cell_type": "code",
   "execution_count": 11,
   "id": "bddb3a72",
   "metadata": {},
   "outputs": [],
   "source": [
    "# Normalizing all the features and saving it in a new DataFrame\n",
    "normalized_df=df_new\n",
    "normalized_df.iloc[:,2:]=df_new.iloc[:,2:].apply(lambda x: (x-x.mean())/ x.std(), axis=0)"
   ]
  },
  {
   "cell_type": "code",
   "execution_count": 12,
   "id": "87a0a96c",
   "metadata": {},
   "outputs": [
    {
     "data": {
      "text/plain": [
       "<bound method NDFrame.head of            id diagnosis  radius_mean  texture_mean  perimeter_mean  area_mean  \\\n",
       "0      842302         M     1.102422     -2.071512        1.268389   0.983510   \n",
       "1      842517         M     1.836635     -0.353322        1.684639   1.907030   \n",
       "2    84300903         M     1.586206      0.455786        1.565122   1.557513   \n",
       "3    84348301         M    -0.767260      0.253509       -0.595257  -0.763792   \n",
       "4    84358402         M     1.756953     -1.150804        1.775308   1.824624   \n",
       "..        ...       ...          ...           ...             ...        ...   \n",
       "564    926424         M     2.118368      0.720838        2.059677   2.341795   \n",
       "565    926682         M     1.711420      2.083301        1.614577   1.722326   \n",
       "566    926954         M     0.706858      2.043775        0.670803   0.577445   \n",
       "567    927241         M     1.845172      2.334403        1.981372   1.733693   \n",
       "568     92751         B    -1.808817      1.220718       -1.817631  -1.346604   \n",
       "\n",
       "     smoothness_mean  compactness_mean  concavity_mean  concave points_mean  \\\n",
       "0           1.567087          3.280628        2.650837             2.530249   \n",
       "1          -0.826235         -0.486643       -0.025417             0.547662   \n",
       "2           0.941382          1.052000        1.361666             2.035440   \n",
       "3           3.280667          3.399917        1.913989             1.450431   \n",
       "4           0.280125          0.538866        1.369198             1.427237   \n",
       "..               ...               ...             ...                  ...   \n",
       "564         1.040926          0.218868        1.945370             2.318924   \n",
       "565         0.102368         -0.017817        0.691347             1.262558   \n",
       "566        -0.839745         -0.038646        0.045004             0.105684   \n",
       "567         1.524426          3.269267        3.294795             2.656528   \n",
       "568        -3.109349         -1.149741       -1.116254            -1.260710   \n",
       "\n",
       "     ...  radius_worst  texture_worst  perimeter_worst  area_worst  \\\n",
       "0    ...      1.885031      -1.358098         2.301575    1.998658   \n",
       "1    ...      1.804340      -0.368879         1.533776    1.887973   \n",
       "2    ...      1.510541      -0.023953         1.346291    1.454016   \n",
       "3    ...     -0.281217       0.133866        -0.249720   -0.551147   \n",
       "4    ...      1.297434      -1.465481         1.337363    1.218589   \n",
       "..   ...           ...            ...              ...         ...   \n",
       "564  ...      1.899514       0.117596         1.751022    2.012713   \n",
       "565  ...      1.535369       2.045599         1.420690    1.492668   \n",
       "566  ...      0.560868       1.373645         0.578492    0.426222   \n",
       "567  ...      1.959515       2.235958         2.301575    1.650790   \n",
       "568  ...     -1.409652       0.763518        -1.431475   -1.076640   \n",
       "\n",
       "     smoothness_worst  compactness_worst  concavity_worst  \\\n",
       "0            1.306537           2.614365         2.107374   \n",
       "1           -0.375282          -0.430066        -0.147968   \n",
       "2            0.526944           1.081980         0.853340   \n",
       "3            3.391291           3.889975         1.987485   \n",
       "4            0.220362          -0.313119         0.611645   \n",
       "..                ...                ...              ...   \n",
       "564          0.378033          -0.273077         0.662958   \n",
       "565         -0.690623          -0.394473         0.235195   \n",
       "566         -0.808876           0.350427         0.325352   \n",
       "567          1.429169           3.901415         3.195002   \n",
       "568         -1.857384          -1.206491        -1.306570   \n",
       "\n",
       "     concave points_worst  symmetry_worst  fractal_dimension_worst  \n",
       "0                2.294058        2.748204                 1.935312  \n",
       "1                1.086129       -0.243675                 0.280943  \n",
       "2                1.953282        1.151242                 0.201214  \n",
       "3                2.173873        6.040726                 4.930672  \n",
       "4                0.728618       -0.867590                -0.396751  \n",
       "..                    ...             ...                      ...  \n",
       "564              1.627719       -1.358963                -0.708467  \n",
       "565              0.733182       -0.531387                -0.973122  \n",
       "566              0.413705       -1.103578                -0.318129  \n",
       "567              2.287972        1.917396                 2.217684  \n",
       "568             -1.743529       -0.048096                -0.750546  \n",
       "\n",
       "[569 rows x 32 columns]>"
      ]
     },
     "execution_count": 12,
     "metadata": {},
     "output_type": "execute_result"
    }
   ],
   "source": [
    "# The Normalized DataSet is shown below\n",
    "normalized_df.head"
   ]
  },
  {
   "cell_type": "markdown",
   "id": "6f4e9694",
   "metadata": {},
   "source": [
    "# Part A - Perceptron Learning Algorithm:"
   ]
  },
  {
   "cell_type": "markdown",
   "id": "26c44c84",
   "metadata": {},
   "source": [
    "# Part B – Fisher’s Linear Discriminant Analysis:"
   ]
  },
  {
   "cell_type": "code",
   "execution_count": 58,
   "id": "5b42287e",
   "metadata": {},
   "outputs": [
    {
     "name": "stderr",
     "output_type": "stream",
     "text": [
      "C:\\Users\\bhask\\AppData\\Local\\Temp\\ipykernel_22568\\1822300576.py:49: UserWarning: You passed a edgecolor/edgecolors ('black') for an unfilled marker ('x').  Matplotlib is ignoring the edgecolor in favor of the facecolor.  This behavior may change in the future.\n",
      "  ax0.scatter(Y[0][y_train==l],\n"
     ]
    },
    {
     "ename": "NameError",
     "evalue": "name 'intercept' is not defined",
     "output_type": "error",
     "traceback": [
      "\u001b[1;31m---------------------------------------------------------------------------\u001b[0m",
      "\u001b[1;31mNameError\u001b[0m                                 Traceback (most recent call last)",
      "Input \u001b[1;32mIn [58]\u001b[0m, in \u001b[0;36m<cell line: 54>\u001b[1;34m()\u001b[0m\n\u001b[0;32m     52\u001b[0m ax0\u001b[38;5;241m.\u001b[39mlegend(loc\u001b[38;5;241m=\u001b[39m\u001b[38;5;124m'\u001b[39m\u001b[38;5;124mupper right\u001b[39m\u001b[38;5;124m'\u001b[39m)\n\u001b[0;32m     54\u001b[0m \u001b[38;5;28;01mfor\u001b[39;00m i, c \u001b[38;5;129;01min\u001b[39;00m \u001b[38;5;28menumerate\u001b[39m([\u001b[38;5;124m'\u001b[39m\u001b[38;5;124mr\u001b[39m\u001b[38;5;124m'\u001b[39m,\u001b[38;5;124m'\u001b[39m\u001b[38;5;124mg\u001b[39m\u001b[38;5;124m'\u001b[39m,\u001b[38;5;124m'\u001b[39m\u001b[38;5;124mb\u001b[39m\u001b[38;5;124m'\u001b[39m]):\n\u001b[1;32m---> 55\u001b[0m     b \u001b[38;5;241m=\u001b[39m \u001b[43mintercept\u001b[49m\n\u001b[0;32m     56\u001b[0m     y1 \u001b[38;5;241m=\u001b[39m \u001b[38;5;241m-\u001b[39m(b\u001b[38;5;241m+\u001b[39mx1\u001b[38;5;241m*\u001b[39mw1)\u001b[38;5;241m/\u001b[39mw2 \n\u001b[0;32m     58\u001b[0m plt\u001b[38;5;241m.\u001b[39mshow()\n",
      "\u001b[1;31mNameError\u001b[0m: name 'intercept' is not defined"
     ]
    },
    {
     "data": {
      "image/png": "[encoded data removed]",
      "text/plain": [
       "<Figure size 720x720 with 1 Axes>"
      ]
     },
     "metadata": {
      "needs_background": "light"
     },
     "output_type": "display_data"
    }
   ],
   "source": [
    "def LDA(X, target):\n",
    "\tfrom sklearn.model_selection import train_test_split\n",
    "X_train, X_test, y_train, y_test = train_test_split(X,target,test_size=0.3,random_state=0) \n",
    "    # 1. Standardize the data\n",
    "from sklearn.preprocessing import StandardScaler\n",
    "for col in X_train.columns:\n",
    "    X_train[col] = StandardScaler().fit_transform(X_train[col].values.reshape(-1,1))\n",
    "    # 2. Compute the mean vector mu and the mean vector per class mu_k\n",
    "mu = np.mean(X_train,axis=0).values.reshape(30,1) # Mean vector mu --> Since the data has been standardized, the data means are zero \n",
    "\n",
    "mu_k = []\n",
    "\n",
    "for i,orchid in enumerate(np.unique(df['diagnosis'])):\n",
    "    mu_k.append(np.mean(X_train.where(df['diagnosis']==orchid),axis=0))\n",
    "mu_k = np.array(mu_k).T\n",
    "\n",
    "# 3. Compute the Scatter within and Scatter between matrices\n",
    "data_SW = []\n",
    "Nc = []\n",
    "for i,orchid in enumerate(np.unique(df['diagnosis'])):\n",
    "    a = np.array(X_train.where(df['diagnosis']==orchid).dropna().values-mu_k[:,i].reshape(1,30))\n",
    "    data_SW.append(np.dot(a.T,a))\n",
    "    Nc.append(np.sum(df['diagnosis']==orchid))\n",
    "SW = np.sum(data_SW,axis=0)\n",
    "\n",
    "SB = np.dot(Nc*np.array(mu_k-mu),np.array(mu_k-mu).T)\n",
    "   \n",
    "# 4. Compute the Eigenvalues and Eigenvectors of SW^-1 SB\n",
    "eigval, eigvec = np.linalg.eig(np.dot(np.linalg.inv(SW),SB))\n",
    "\n",
    "\n",
    "    \n",
    "# 5. Select the two largest eigenvalues \n",
    "eigen_pairs = [[np.abs(eigval[i]),eigvec[:,i]] for i in range(len(eigval))]\n",
    "eigen_pairs = sorted(eigen_pairs,key=lambda k: k[0],reverse=True)\n",
    "w = np.hstack((eigen_pairs[0][1][:,np.newaxis].real,eigen_pairs[1][1][:,np.newaxis].real)) # Select two largest\n",
    "\n",
    "\n",
    "# 6. Transform the data with Y=X*w\n",
    "Y = X_train.dot(w)\n",
    "\n",
    "# Plot the data\n",
    "fig = plt.figure(figsize=(10,10))\n",
    "ax0 = fig.add_subplot(111)\n",
    "ax0.set_xlim(-3,3)\n",
    "ax0.set_ylim(-4,3)\n",
    "\n",
    "for l,c,m in zip(np.unique(y_train),['r','g'],['s','x']):\n",
    "    ax0.scatter(Y[0][y_train==l],\n",
    "                Y[1][y_train==l],\n",
    "               c=c, marker=m, label=l,edgecolors='black')\n",
    "ax0.legend(loc='upper right')\n",
    "\n",
    "for i, c in enumerate(['r','g','b']):\n",
    "    b = intercept\n",
    "    w1 = coef[i][0]\n",
    "    w2 = coef_[i][1]\n",
    "    \n",
    "    y1 = -(b+x1*w1)/w2 \n",
    "\n",
    "plt.show()"
   ]
  },
  {
   "cell_type": "code",
   "execution_count": 48,
   "id": "bbc52c7b",
   "metadata": {},
   "outputs": [],
   "source": [
    "X = df.iloc[:,2:].copy()\n",
    "target = df['diagnosis'].copy()\n",
    "LDA(X, target)"
   ]
  },
  {
   "cell_type": "code",
   "execution_count": null,
   "id": "22073b88",
   "metadata": {},
   "outputs": [],
   "source": []
  }
 ],
 "metadata": {
  "kernelspec": {
   "display_name": "Python 3 (ipykernel)",
   "language": "python",
   "name": "python3"
  },
  "language_info": {
   "codemirror_mode": {
    "name": "ipython",
    "version": 3
   },
   "file_extension": ".py",
   "mimetype": "text/x-python",
   "name": "python",
   "nbconvert_exporter": "python",
   "pygments_lexer": "ipython3",
   "version": "3.9.12"
  }
 },
 "nbformat": 4,
 "nbformat_minor": 5
}
