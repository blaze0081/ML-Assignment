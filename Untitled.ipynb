{
 "cells": [
  {
   "cell_type": "code",
   "execution_count": 1,
   "id": "57e55aa4",
   "metadata": {},
   "outputs": [],
   "source": [
    "import numpy as np\n",
    "\n",
    "def perceptron(X, y, max_iterations):\n",
    "    # Initialize weights to zero\n",
    "    w = np.zeros(X.shape[1])\n",
    "    \n",
    "    for t in range(max_iterations):\n",
    "        # Shuffle training data\n",
    "        order = np.random.permutation(X.shape[0])\n",
    "        X_shuffled = X[order,:]\n",
    "        y_shuffled = y[order]\n",
    "        \n",
    "        for i in range(X.shape[0]):\n",
    "            # Compute the prediction and update weights if incorrect\n",
    "            if y_shuffled[i]*np.dot(w, X_shuffled[i,:]) <= 0:\n",
    "                w = w + y_shuffled[i]*X_shuffled[i,:]\n",
    "        \n",
    "        # Test for convergence\n",
    "        if np.all(np.dot(X,w)*y > 0):\n",
    "            print(\"Converged after %d iterations\" % (t+1))\n",
    "            break\n",
    "    \n",
    "    return w\n"
   ]
  },
  {
   "cell_type": "code",
   "execution_count": 2,
   "id": "8cf66996",
   "metadata": {},
   "outputs": [],
   "source": [
    "np.random.seed(42)\n",
    "N = 100\n",
    "X = np.vstack([np.random.randn(N, 2) + [2, 2], np.random.randn(N, 2) + [-2, -2]])\n",
    "y = np.concatenate([np.ones(N), -np.ones(N)])"
   ]
  },
  {
   "cell_type": "code",
   "execution_count": 3,
   "id": "0984a8aa",
   "metadata": {},
   "outputs": [
    {
     "name": "stdout",
     "output_type": "stream",
     "text": [
      "Converged after 2 iterations\n"
     ]
    }
   ],
   "source": [
    "w = perceptron(X, y, max_iterations=100)\n"
   ]
  },
  {
   "cell_type": "code",
   "execution_count": null,
   "id": "35508d3e",
   "metadata": {},
   "outputs": [],
   "source": []
  }
 ],
 "metadata": {
  "kernelspec": {
   "display_name": "Python 3 (ipykernel)",
   "language": "python",
   "name": "python3"
  },
  "language_info": {
   "codemirror_mode": {
    "name": "ipython",
    "version": 3
   },
   "file_extension": ".py",
   "mimetype": "text/x-python",
   "name": "python",
   "nbconvert_exporter": "python",
   "pygments_lexer": "ipython3",
   "version": "3.9.12"
  }
 },
 "nbformat": 4,
 "nbformat_minor": 5
}
